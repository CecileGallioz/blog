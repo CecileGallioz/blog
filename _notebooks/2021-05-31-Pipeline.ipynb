{
 "cells": [
  {
   "cell_type": "markdown",
   "metadata": {},
   "source": [
    "# Combine sequential operations\n",
    "> we chain the operations and use them with any other classifier or regressor\n",
    "\n",
    "- toc: true\n",
    "- badges: false\n",
    "- comments: true\n",
    "- author: Cécile Gallioz\n",
    "- categories: [sklearn]"
   ]
  },
  {
   "cell_type": "markdown",
   "metadata": {},
   "source": [
    "# Preparation"
   ]
  },
  {
   "cell_type": "code",
   "execution_count": 1,
   "metadata": {},
   "outputs": [],
   "source": [
    "import pandas as pd\n",
    "import time\n",
    "from sklearn.model_selection import train_test_split\n",
    "from sklearn.preprocessing import StandardScaler\n",
    "from sklearn.linear_model import LogisticRegression\n",
    "from sklearn.pipeline import make_pipeline"
   ]
  },
  {
   "cell_type": "code",
   "execution_count": 2,
   "metadata": {},
   "outputs": [],
   "source": [
    "# to display nice model diagram\n",
    "from sklearn import set_config\n",
    "set_config(display='diagram')"
   ]
  },
  {
   "cell_type": "code",
   "execution_count": 3,
   "metadata": {},
   "outputs": [],
   "source": [
    "myDataFrame = pd.read_csv(\"../../scikit-learn-mooc/datasets/penguins_classification.csv\")"
   ]
  },
  {
   "cell_type": "markdown",
   "metadata": {},
   "source": [
    "## The set"
   ]
  },
  {
   "cell_type": "code",
   "execution_count": 4,
   "metadata": {
    "scrolled": true
   },
   "outputs": [
    {
     "data": {
      "text/plain": [
       "Adelie       151\n",
       "Gentoo       123\n",
       "Chinstrap     68\n",
       "Name: Species, dtype: int64"
      ]
     },
     "execution_count": 4,
     "metadata": {},
     "output_type": "execute_result"
    }
   ],
   "source": [
    "target_column = 'Species'\n",
    "target = myDataFrame[target_column]\n",
    "target.value_counts()"
   ]
  },
  {
   "cell_type": "code",
   "execution_count": 5,
   "metadata": {},
   "outputs": [
    {
     "data": {
      "text/plain": [
       "Adelie       0.441520\n",
       "Gentoo       0.359649\n",
       "Chinstrap    0.198830\n",
       "Name: Species, dtype: float64"
      ]
     },
     "execution_count": 5,
     "metadata": {},
     "output_type": "execute_result"
    }
   ],
   "source": [
    "target.value_counts(normalize=True)"
   ]
  },
  {
   "cell_type": "markdown",
   "metadata": {},
   "source": [
    "## Continuation of preparation"
   ]
  },
  {
   "cell_type": "code",
   "execution_count": 6,
   "metadata": {},
   "outputs": [
    {
     "data": {
      "text/plain": [
       "Index(['Culmen Length (mm)', 'Culmen Depth (mm)'], dtype='object')"
      ]
     },
     "execution_count": 6,
     "metadata": {},
     "output_type": "execute_result"
    }
   ],
   "source": [
    "data = myDataFrame.drop(columns=target_column)\n",
    "data.columns"
   ]
  },
  {
   "cell_type": "code",
   "execution_count": 7,
   "metadata": {},
   "outputs": [],
   "source": [
    "numerical_columns = ['Culmen Length (mm)', 'Culmen Depth (mm)']\n",
    "data_numeric = data[numerical_columns]"
   ]
  },
  {
   "cell_type": "code",
   "execution_count": 8,
   "metadata": {},
   "outputs": [],
   "source": [
    "data_train, data_test, target_train, target_test = train_test_split(\n",
    "    data_numeric, \n",
    "    target, \n",
    "    #random_state=42, \n",
    "    test_size=0.25)"
   ]
  },
  {
   "cell_type": "code",
   "execution_count": 9,
   "metadata": {},
   "outputs": [
    {
     "data": {
      "text/html": [
       "<div>\n",
       "<style scoped>\n",
       "    .dataframe tbody tr th:only-of-type {\n",
       "        vertical-align: middle;\n",
       "    }\n",
       "\n",
       "    .dataframe tbody tr th {\n",
       "        vertical-align: top;\n",
       "    }\n",
       "\n",
       "    .dataframe thead th {\n",
       "        text-align: right;\n",
       "    }\n",
       "</style>\n",
       "<table border=\"1\" class=\"dataframe\">\n",
       "  <thead>\n",
       "    <tr style=\"text-align: right;\">\n",
       "      <th></th>\n",
       "      <th>Culmen Length (mm)</th>\n",
       "      <th>Culmen Depth (mm)</th>\n",
       "    </tr>\n",
       "  </thead>\n",
       "  <tbody>\n",
       "    <tr>\n",
       "      <th>count</th>\n",
       "      <td>256.000000</td>\n",
       "      <td>256.000000</td>\n",
       "    </tr>\n",
       "    <tr>\n",
       "      <th>mean</th>\n",
       "      <td>43.697266</td>\n",
       "      <td>17.251953</td>\n",
       "    </tr>\n",
       "    <tr>\n",
       "      <th>std</th>\n",
       "      <td>5.524607</td>\n",
       "      <td>1.923721</td>\n",
       "    </tr>\n",
       "    <tr>\n",
       "      <th>min</th>\n",
       "      <td>32.100000</td>\n",
       "      <td>13.100000</td>\n",
       "    </tr>\n",
       "    <tr>\n",
       "      <th>25%</th>\n",
       "      <td>39.175000</td>\n",
       "      <td>15.700000</td>\n",
       "    </tr>\n",
       "    <tr>\n",
       "      <th>50%</th>\n",
       "      <td>43.400000</td>\n",
       "      <td>17.500000</td>\n",
       "    </tr>\n",
       "    <tr>\n",
       "      <th>75%</th>\n",
       "      <td>48.250000</td>\n",
       "      <td>18.700000</td>\n",
       "    </tr>\n",
       "    <tr>\n",
       "      <th>max</th>\n",
       "      <td>59.600000</td>\n",
       "      <td>21.500000</td>\n",
       "    </tr>\n",
       "  </tbody>\n",
       "</table>\n",
       "</div>"
      ],
      "text/plain": [
       "       Culmen Length (mm)  Culmen Depth (mm)\n",
       "count          256.000000         256.000000\n",
       "mean            43.697266          17.251953\n",
       "std              5.524607           1.923721\n",
       "min             32.100000          13.100000\n",
       "25%             39.175000          15.700000\n",
       "50%             43.400000          17.500000\n",
       "75%             48.250000          18.700000\n",
       "max             59.600000          21.500000"
      ]
     },
     "execution_count": 9,
     "metadata": {},
     "output_type": "execute_result"
    }
   ],
   "source": [
    "data_train.describe()"
   ]
  },
  {
   "cell_type": "markdown",
   "metadata": {},
   "source": [
    "# Model without normalization"
   ]
  },
  {
   "cell_type": "code",
   "execution_count": 10,
   "metadata": {},
   "outputs": [],
   "source": [
    "model = LogisticRegression()\n",
    "start = time.time()\n",
    "model.fit(data_train, target_train)\n",
    "elapsed_time = time.time() - start"
   ]
  },
  {
   "cell_type": "code",
   "execution_count": 11,
   "metadata": {},
   "outputs": [],
   "source": [
    "model_name = model.__class__.__name__\n",
    "score = model.score(data_test, target_test)"
   ]
  },
  {
   "cell_type": "code",
   "execution_count": 12,
   "metadata": {},
   "outputs": [
    {
     "name": "stdout",
     "output_type": "stream",
     "text": [
      "The accuracy using a LogisticRegression is 0.907 with a fitting time of 0.021 seconds in 67 iterations\n"
     ]
    }
   ],
   "source": [
    "print(f\"The accuracy using a {model_name} is {score:.3f} \"\n",
    "      f\"with a fitting time of {elapsed_time:.3f} seconds \"\n",
    "      f\"in {model.n_iter_[0]} iterations\")"
   ]
  },
  {
   "cell_type": "markdown",
   "metadata": {},
   "source": [
    "# Model with normalization : Pipeline\n",
    "Fewer iterations"
   ]
  },
  {
   "cell_type": "code",
   "execution_count": 13,
   "metadata": {
    "scrolled": true
   },
   "outputs": [
    {
     "data": {
      "text/html": [
       "<style>#sk-66a00bf4-509b-42e2-97fd-e6f89dc572fb {color: black;background-color: white;}#sk-66a00bf4-509b-42e2-97fd-e6f89dc572fb pre{padding: 0;}#sk-66a00bf4-509b-42e2-97fd-e6f89dc572fb div.sk-toggleable {background-color: white;}#sk-66a00bf4-509b-42e2-97fd-e6f89dc572fb label.sk-toggleable__label {cursor: pointer;display: block;width: 100%;margin-bottom: 0;padding: 0.2em 0.3em;box-sizing: border-box;text-align: center;}#sk-66a00bf4-509b-42e2-97fd-e6f89dc572fb div.sk-toggleable__content {max-height: 0;max-width: 0;overflow: hidden;text-align: left;background-color: #f0f8ff;}#sk-66a00bf4-509b-42e2-97fd-e6f89dc572fb div.sk-toggleable__content pre {margin: 0.2em;color: black;border-radius: 0.25em;background-color: #f0f8ff;}#sk-66a00bf4-509b-42e2-97fd-e6f89dc572fb input.sk-toggleable__control:checked~div.sk-toggleable__content {max-height: 200px;max-width: 100%;overflow: auto;}#sk-66a00bf4-509b-42e2-97fd-e6f89dc572fb div.sk-estimator input.sk-toggleable__control:checked~label.sk-toggleable__label {background-color: #d4ebff;}#sk-66a00bf4-509b-42e2-97fd-e6f89dc572fb div.sk-label input.sk-toggleable__control:checked~label.sk-toggleable__label {background-color: #d4ebff;}#sk-66a00bf4-509b-42e2-97fd-e6f89dc572fb input.sk-hidden--visually {border: 0;clip: rect(1px 1px 1px 1px);clip: rect(1px, 1px, 1px, 1px);height: 1px;margin: -1px;overflow: hidden;padding: 0;position: absolute;width: 1px;}#sk-66a00bf4-509b-42e2-97fd-e6f89dc572fb div.sk-estimator {font-family: monospace;background-color: #f0f8ff;margin: 0.25em 0.25em;border: 1px dotted black;border-radius: 0.25em;box-sizing: border-box;}#sk-66a00bf4-509b-42e2-97fd-e6f89dc572fb div.sk-estimator:hover {background-color: #d4ebff;}#sk-66a00bf4-509b-42e2-97fd-e6f89dc572fb div.sk-parallel-item::after {content: \"\";width: 100%;border-bottom: 1px solid gray;flex-grow: 1;}#sk-66a00bf4-509b-42e2-97fd-e6f89dc572fb div.sk-label:hover label.sk-toggleable__label {background-color: #d4ebff;}#sk-66a00bf4-509b-42e2-97fd-e6f89dc572fb div.sk-serial::before {content: \"\";position: absolute;border-left: 1px solid gray;box-sizing: border-box;top: 2em;bottom: 0;left: 50%;}#sk-66a00bf4-509b-42e2-97fd-e6f89dc572fb div.sk-serial {display: flex;flex-direction: column;align-items: center;background-color: white;}#sk-66a00bf4-509b-42e2-97fd-e6f89dc572fb div.sk-item {z-index: 1;}#sk-66a00bf4-509b-42e2-97fd-e6f89dc572fb div.sk-parallel {display: flex;align-items: stretch;justify-content: center;background-color: white;}#sk-66a00bf4-509b-42e2-97fd-e6f89dc572fb div.sk-parallel-item {display: flex;flex-direction: column;position: relative;background-color: white;}#sk-66a00bf4-509b-42e2-97fd-e6f89dc572fb div.sk-parallel-item:first-child::after {align-self: flex-end;width: 50%;}#sk-66a00bf4-509b-42e2-97fd-e6f89dc572fb div.sk-parallel-item:last-child::after {align-self: flex-start;width: 50%;}#sk-66a00bf4-509b-42e2-97fd-e6f89dc572fb div.sk-parallel-item:only-child::after {width: 0;}#sk-66a00bf4-509b-42e2-97fd-e6f89dc572fb div.sk-dashed-wrapped {border: 1px dashed gray;margin: 0.2em;box-sizing: border-box;padding-bottom: 0.1em;background-color: white;position: relative;}#sk-66a00bf4-509b-42e2-97fd-e6f89dc572fb div.sk-label label {font-family: monospace;font-weight: bold;background-color: white;display: inline-block;line-height: 1.2em;}#sk-66a00bf4-509b-42e2-97fd-e6f89dc572fb div.sk-label-container {position: relative;z-index: 2;text-align: center;}#sk-66a00bf4-509b-42e2-97fd-e6f89dc572fb div.sk-container {display: inline-block;position: relative;}</style><div id=\"sk-66a00bf4-509b-42e2-97fd-e6f89dc572fb\" class\"sk-top-container\"><div class=\"sk-container\"><div class=\"sk-item sk-dashed-wrapped\"><div class=\"sk-label-container\"><div class=\"sk-label sk-toggleable\"><input class=\"sk-toggleable__control sk-hidden--visually\" id=\"de4e21f8-7ea5-4aff-aa22-0de265783a80\" type=\"checkbox\" ><label class=\"sk-toggleable__label\" for=\"de4e21f8-7ea5-4aff-aa22-0de265783a80\">Pipeline</label><div class=\"sk-toggleable__content\"><pre>Pipeline(steps=[('standardscaler', StandardScaler()),\n",
       "                ('logisticregression', LogisticRegression())])</pre></div></div></div><div class=\"sk-serial\"><div class=\"sk-item\"><div class=\"sk-estimator sk-toggleable\"><input class=\"sk-toggleable__control sk-hidden--visually\" id=\"0705d240-013f-4c93-8e92-77bc9fee1a9c\" type=\"checkbox\" ><label class=\"sk-toggleable__label\" for=\"0705d240-013f-4c93-8e92-77bc9fee1a9c\">StandardScaler</label><div class=\"sk-toggleable__content\"><pre>StandardScaler()</pre></div></div></div><div class=\"sk-item\"><div class=\"sk-estimator sk-toggleable\"><input class=\"sk-toggleable__control sk-hidden--visually\" id=\"beca8fc9-7bc0-4586-8137-7210074102e0\" type=\"checkbox\" ><label class=\"sk-toggleable__label\" for=\"beca8fc9-7bc0-4586-8137-7210074102e0\">LogisticRegression</label><div class=\"sk-toggleable__content\"><pre>LogisticRegression()</pre></div></div></div></div></div></div></div>"
      ],
      "text/plain": [
       "Pipeline(steps=[('standardscaler', StandardScaler()),\n",
       "                ('logisticregression', LogisticRegression())])"
      ]
     },
     "execution_count": 13,
     "metadata": {},
     "output_type": "execute_result"
    }
   ],
   "source": [
    "model = make_pipeline(StandardScaler(), LogisticRegression())\n",
    "model"
   ]
  },
  {
   "cell_type": "code",
   "execution_count": 14,
   "metadata": {},
   "outputs": [],
   "source": [
    "start = time.time()\n",
    "model.fit(data_train, target_train)\n",
    "elapsed_time = time.time() - start"
   ]
  },
  {
   "cell_type": "code",
   "execution_count": 15,
   "metadata": {},
   "outputs": [],
   "source": [
    "predicted_target = model.predict(data_test)\n",
    "model_name = model.__class__.__name__\n",
    "score = model.score(data_test, target_test)"
   ]
  },
  {
   "cell_type": "code",
   "execution_count": 16,
   "metadata": {},
   "outputs": [
    {
     "name": "stdout",
     "output_type": "stream",
     "text": [
      "The accuracy using a Pipeline is 0.942 with a fitting time of 0.011 seconds in 15 iterations\n"
     ]
    }
   ],
   "source": [
    "print(f\"The accuracy using a {model_name} is {score:.3f} \"\n",
    "      f\"with a fitting time of {elapsed_time:.3f} seconds \"\n",
    "      f\"in {model[-1].n_iter_[0]} iterations\")"
   ]
  }
 ],
 "metadata": {
  "kernelspec": {
   "display_name": "Python 3",
   "language": "python",
   "name": "python3"
  },
  "language_info": {
   "codemirror_mode": {
    "name": "ipython",
    "version": 3
   },
   "file_extension": ".py",
   "mimetype": "text/x-python",
   "name": "python",
   "nbconvert_exporter": "python",
   "pygments_lexer": "ipython3",
   "version": "3.8.8"
  }
 },
 "nbformat": 4,
 "nbformat_minor": 4
}
