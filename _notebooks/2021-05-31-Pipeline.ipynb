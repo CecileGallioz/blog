{
 "cells": [
  {
   "cell_type": "markdown",
   "metadata": {},
   "source": [
    "# Combine sequential operations\n",
    "> we chain the operations and use them with any other classifier or regressor\n",
    "\n",
    "- toc: true\n",
    "- badges: false\n",
    "- comments: true\n",
    "- author: Cécile Gallioz\n",
    "- categories: [sklearn]"
   ]
  },
  {
   "cell_type": "markdown",
   "metadata": {},
   "source": [
    "# Preparation"
   ]
  },
  {
   "cell_type": "code",
   "execution_count": 1,
   "metadata": {},
   "outputs": [],
   "source": [
    "import pandas as pd\n",
    "import time\n",
    "from sklearn.model_selection import train_test_split\n",
    "from sklearn.preprocessing import StandardScaler\n",
    "from sklearn.linear_model import LogisticRegression\n",
    "from sklearn.pipeline import make_pipeline\n",
    "from sklearn.model_selection import cross_validate"
   ]
  },
  {
   "cell_type": "code",
   "execution_count": 2,
   "metadata": {},
   "outputs": [],
   "source": [
    "# to display nice model diagram\n",
    "from sklearn import set_config\n",
    "set_config(display='diagram')"
   ]
  },
  {
   "cell_type": "code",
   "execution_count": 3,
   "metadata": {},
   "outputs": [],
   "source": [
    "myDataFrame = pd.read_csv(\"../../scikit-learn-mooc/datasets/penguins_classification.csv\")"
   ]
  },
  {
   "cell_type": "markdown",
   "metadata": {},
   "source": [
    "## The set"
   ]
  },
  {
   "cell_type": "code",
   "execution_count": 4,
   "metadata": {
    "scrolled": true
   },
   "outputs": [
    {
     "data": {
      "text/plain": [
       "Adelie       151\n",
       "Gentoo       123\n",
       "Chinstrap     68\n",
       "Name: Species, dtype: int64"
      ]
     },
     "execution_count": 4,
     "metadata": {},
     "output_type": "execute_result"
    }
   ],
   "source": [
    "target_column = 'Species'\n",
    "target = myDataFrame[target_column]\n",
    "target.value_counts()"
   ]
  },
  {
   "cell_type": "code",
   "execution_count": 5,
   "metadata": {},
   "outputs": [
    {
     "data": {
      "text/plain": [
       "Adelie       0.441520\n",
       "Gentoo       0.359649\n",
       "Chinstrap    0.198830\n",
       "Name: Species, dtype: float64"
      ]
     },
     "execution_count": 5,
     "metadata": {},
     "output_type": "execute_result"
    }
   ],
   "source": [
    "target.value_counts(normalize=True)"
   ]
  },
  {
   "cell_type": "markdown",
   "metadata": {},
   "source": [
    "## Continuation of preparation"
   ]
  },
  {
   "cell_type": "code",
   "execution_count": 6,
   "metadata": {},
   "outputs": [
    {
     "data": {
      "text/plain": [
       "Index(['Culmen Length (mm)', 'Culmen Depth (mm)'], dtype='object')"
      ]
     },
     "execution_count": 6,
     "metadata": {},
     "output_type": "execute_result"
    }
   ],
   "source": [
    "data = myDataFrame.drop(columns=target_column)\n",
    "data.columns"
   ]
  },
  {
   "cell_type": "code",
   "execution_count": 7,
   "metadata": {},
   "outputs": [],
   "source": [
    "numerical_columns = ['Culmen Length (mm)', 'Culmen Depth (mm)']\n",
    "data_numeric = data[numerical_columns]"
   ]
  },
  {
   "cell_type": "code",
   "execution_count": 8,
   "metadata": {},
   "outputs": [],
   "source": [
    "data_train, data_test, target_train, target_test = train_test_split(\n",
    "    data_numeric, \n",
    "    target, \n",
    "    #random_state=42, \n",
    "    test_size=0.25)"
   ]
  },
  {
   "cell_type": "code",
   "execution_count": 9,
   "metadata": {},
   "outputs": [
    {
     "data": {
      "text/html": [
       "<div>\n",
       "<style scoped>\n",
       "    .dataframe tbody tr th:only-of-type {\n",
       "        vertical-align: middle;\n",
       "    }\n",
       "\n",
       "    .dataframe tbody tr th {\n",
       "        vertical-align: top;\n",
       "    }\n",
       "\n",
       "    .dataframe thead th {\n",
       "        text-align: right;\n",
       "    }\n",
       "</style>\n",
       "<table border=\"1\" class=\"dataframe\">\n",
       "  <thead>\n",
       "    <tr style=\"text-align: right;\">\n",
       "      <th></th>\n",
       "      <th>Culmen Length (mm)</th>\n",
       "      <th>Culmen Depth (mm)</th>\n",
       "    </tr>\n",
       "  </thead>\n",
       "  <tbody>\n",
       "    <tr>\n",
       "      <th>count</th>\n",
       "      <td>256.000000</td>\n",
       "      <td>256.000000</td>\n",
       "    </tr>\n",
       "    <tr>\n",
       "      <th>mean</th>\n",
       "      <td>44.126953</td>\n",
       "      <td>17.122266</td>\n",
       "    </tr>\n",
       "    <tr>\n",
       "      <th>std</th>\n",
       "      <td>5.492071</td>\n",
       "      <td>1.968699</td>\n",
       "    </tr>\n",
       "    <tr>\n",
       "      <th>min</th>\n",
       "      <td>32.100000</td>\n",
       "      <td>13.200000</td>\n",
       "    </tr>\n",
       "    <tr>\n",
       "      <th>25%</th>\n",
       "      <td>39.575000</td>\n",
       "      <td>15.575000</td>\n",
       "    </tr>\n",
       "    <tr>\n",
       "      <th>50%</th>\n",
       "      <td>45.200000</td>\n",
       "      <td>17.250000</td>\n",
       "    </tr>\n",
       "    <tr>\n",
       "      <th>75%</th>\n",
       "      <td>48.725000</td>\n",
       "      <td>18.600000</td>\n",
       "    </tr>\n",
       "    <tr>\n",
       "      <th>max</th>\n",
       "      <td>58.000000</td>\n",
       "      <td>21.500000</td>\n",
       "    </tr>\n",
       "  </tbody>\n",
       "</table>\n",
       "</div>"
      ],
      "text/plain": [
       "       Culmen Length (mm)  Culmen Depth (mm)\n",
       "count          256.000000         256.000000\n",
       "mean            44.126953          17.122266\n",
       "std              5.492071           1.968699\n",
       "min             32.100000          13.200000\n",
       "25%             39.575000          15.575000\n",
       "50%             45.200000          17.250000\n",
       "75%             48.725000          18.600000\n",
       "max             58.000000          21.500000"
      ]
     },
     "execution_count": 9,
     "metadata": {},
     "output_type": "execute_result"
    }
   ],
   "source": [
    "data_train.describe()"
   ]
  },
  {
   "cell_type": "markdown",
   "metadata": {},
   "source": [
    "# Model without normalization"
   ]
  },
  {
   "cell_type": "code",
   "execution_count": 10,
   "metadata": {},
   "outputs": [],
   "source": [
    "model = LogisticRegression()\n",
    "start = time.time()\n",
    "model.fit(data_train, target_train)\n",
    "elapsed_time = time.time() - start"
   ]
  },
  {
   "cell_type": "code",
   "execution_count": 11,
   "metadata": {},
   "outputs": [],
   "source": [
    "model_name = model.__class__.__name__\n",
    "score = model.score(data_test, target_test)"
   ]
  },
  {
   "cell_type": "code",
   "execution_count": 12,
   "metadata": {},
   "outputs": [
    {
     "name": "stdout",
     "output_type": "stream",
     "text": [
      "The accuracy using a LogisticRegression is 0.953 with a fitting time of 0.024 seconds in 87 iterations\n"
     ]
    }
   ],
   "source": [
    "print(f\"The accuracy using a {model_name} is {score:.3f} \"\n",
    "      f\"with a fitting time of {elapsed_time:.3f} seconds \"\n",
    "      f\"in {model.n_iter_[0]} iterations\")"
   ]
  },
  {
   "cell_type": "markdown",
   "metadata": {},
   "source": [
    "# Model with normalization : Pipeline\n",
    "Fewer iterations"
   ]
  },
  {
   "cell_type": "code",
   "execution_count": 13,
   "metadata": {
    "scrolled": true
   },
   "outputs": [
    {
     "data": {
      "text/html": [
       "<style>#sk-2e9add8d-19aa-4ae3-bf3f-345ce7563dde {color: black;background-color: white;}#sk-2e9add8d-19aa-4ae3-bf3f-345ce7563dde pre{padding: 0;}#sk-2e9add8d-19aa-4ae3-bf3f-345ce7563dde div.sk-toggleable {background-color: white;}#sk-2e9add8d-19aa-4ae3-bf3f-345ce7563dde label.sk-toggleable__label {cursor: pointer;display: block;width: 100%;margin-bottom: 0;padding: 0.2em 0.3em;box-sizing: border-box;text-align: center;}#sk-2e9add8d-19aa-4ae3-bf3f-345ce7563dde div.sk-toggleable__content {max-height: 0;max-width: 0;overflow: hidden;text-align: left;background-color: #f0f8ff;}#sk-2e9add8d-19aa-4ae3-bf3f-345ce7563dde div.sk-toggleable__content pre {margin: 0.2em;color: black;border-radius: 0.25em;background-color: #f0f8ff;}#sk-2e9add8d-19aa-4ae3-bf3f-345ce7563dde input.sk-toggleable__control:checked~div.sk-toggleable__content {max-height: 200px;max-width: 100%;overflow: auto;}#sk-2e9add8d-19aa-4ae3-bf3f-345ce7563dde div.sk-estimator input.sk-toggleable__control:checked~label.sk-toggleable__label {background-color: #d4ebff;}#sk-2e9add8d-19aa-4ae3-bf3f-345ce7563dde div.sk-label input.sk-toggleable__control:checked~label.sk-toggleable__label {background-color: #d4ebff;}#sk-2e9add8d-19aa-4ae3-bf3f-345ce7563dde input.sk-hidden--visually {border: 0;clip: rect(1px 1px 1px 1px);clip: rect(1px, 1px, 1px, 1px);height: 1px;margin: -1px;overflow: hidden;padding: 0;position: absolute;width: 1px;}#sk-2e9add8d-19aa-4ae3-bf3f-345ce7563dde div.sk-estimator {font-family: monospace;background-color: #f0f8ff;margin: 0.25em 0.25em;border: 1px dotted black;border-radius: 0.25em;box-sizing: border-box;}#sk-2e9add8d-19aa-4ae3-bf3f-345ce7563dde div.sk-estimator:hover {background-color: #d4ebff;}#sk-2e9add8d-19aa-4ae3-bf3f-345ce7563dde div.sk-parallel-item::after {content: \"\";width: 100%;border-bottom: 1px solid gray;flex-grow: 1;}#sk-2e9add8d-19aa-4ae3-bf3f-345ce7563dde div.sk-label:hover label.sk-toggleable__label {background-color: #d4ebff;}#sk-2e9add8d-19aa-4ae3-bf3f-345ce7563dde div.sk-serial::before {content: \"\";position: absolute;border-left: 1px solid gray;box-sizing: border-box;top: 2em;bottom: 0;left: 50%;}#sk-2e9add8d-19aa-4ae3-bf3f-345ce7563dde div.sk-serial {display: flex;flex-direction: column;align-items: center;background-color: white;}#sk-2e9add8d-19aa-4ae3-bf3f-345ce7563dde div.sk-item {z-index: 1;}#sk-2e9add8d-19aa-4ae3-bf3f-345ce7563dde div.sk-parallel {display: flex;align-items: stretch;justify-content: center;background-color: white;}#sk-2e9add8d-19aa-4ae3-bf3f-345ce7563dde div.sk-parallel-item {display: flex;flex-direction: column;position: relative;background-color: white;}#sk-2e9add8d-19aa-4ae3-bf3f-345ce7563dde div.sk-parallel-item:first-child::after {align-self: flex-end;width: 50%;}#sk-2e9add8d-19aa-4ae3-bf3f-345ce7563dde div.sk-parallel-item:last-child::after {align-self: flex-start;width: 50%;}#sk-2e9add8d-19aa-4ae3-bf3f-345ce7563dde div.sk-parallel-item:only-child::after {width: 0;}#sk-2e9add8d-19aa-4ae3-bf3f-345ce7563dde div.sk-dashed-wrapped {border: 1px dashed gray;margin: 0.2em;box-sizing: border-box;padding-bottom: 0.1em;background-color: white;position: relative;}#sk-2e9add8d-19aa-4ae3-bf3f-345ce7563dde div.sk-label label {font-family: monospace;font-weight: bold;background-color: white;display: inline-block;line-height: 1.2em;}#sk-2e9add8d-19aa-4ae3-bf3f-345ce7563dde div.sk-label-container {position: relative;z-index: 2;text-align: center;}#sk-2e9add8d-19aa-4ae3-bf3f-345ce7563dde div.sk-container {display: inline-block;position: relative;}</style><div id=\"sk-2e9add8d-19aa-4ae3-bf3f-345ce7563dde\" class\"sk-top-container\"><div class=\"sk-container\"><div class=\"sk-item sk-dashed-wrapped\"><div class=\"sk-label-container\"><div class=\"sk-label sk-toggleable\"><input class=\"sk-toggleable__control sk-hidden--visually\" id=\"23569dfe-b961-46ee-9e00-6831d0ba5e58\" type=\"checkbox\" ><label class=\"sk-toggleable__label\" for=\"23569dfe-b961-46ee-9e00-6831d0ba5e58\">Pipeline</label><div class=\"sk-toggleable__content\"><pre>Pipeline(steps=[('standardscaler', StandardScaler()),\n",
       "                ('logisticregression', LogisticRegression())])</pre></div></div></div><div class=\"sk-serial\"><div class=\"sk-item\"><div class=\"sk-estimator sk-toggleable\"><input class=\"sk-toggleable__control sk-hidden--visually\" id=\"a74d222f-a6a1-4ac6-8e62-3f8eaf173eda\" type=\"checkbox\" ><label class=\"sk-toggleable__label\" for=\"a74d222f-a6a1-4ac6-8e62-3f8eaf173eda\">StandardScaler</label><div class=\"sk-toggleable__content\"><pre>StandardScaler()</pre></div></div></div><div class=\"sk-item\"><div class=\"sk-estimator sk-toggleable\"><input class=\"sk-toggleable__control sk-hidden--visually\" id=\"d2c01e46-dec1-4028-8226-166505ae291b\" type=\"checkbox\" ><label class=\"sk-toggleable__label\" for=\"d2c01e46-dec1-4028-8226-166505ae291b\">LogisticRegression</label><div class=\"sk-toggleable__content\"><pre>LogisticRegression()</pre></div></div></div></div></div></div></div>"
      ],
      "text/plain": [
       "Pipeline(steps=[('standardscaler', StandardScaler()),\n",
       "                ('logisticregression', LogisticRegression())])"
      ]
     },
     "execution_count": 13,
     "metadata": {},
     "output_type": "execute_result"
    }
   ],
   "source": [
    "model = make_pipeline(StandardScaler(), LogisticRegression())\n",
    "model"
   ]
  },
  {
   "cell_type": "code",
   "execution_count": 14,
   "metadata": {},
   "outputs": [],
   "source": [
    "start = time.time()\n",
    "model.fit(data_train, target_train)\n",
    "elapsed_time = time.time() - start"
   ]
  },
  {
   "cell_type": "code",
   "execution_count": 15,
   "metadata": {},
   "outputs": [],
   "source": [
    "predicted_target = model.predict(data_test)\n",
    "model_name = model.__class__.__name__\n",
    "score = model.score(data_test, target_test)"
   ]
  },
  {
   "cell_type": "code",
   "execution_count": 16,
   "metadata": {},
   "outputs": [
    {
     "name": "stdout",
     "output_type": "stream",
     "text": [
      "The accuracy using a Pipeline is 0.953 with a fitting time of 0.009 seconds in 15 iterations\n"
     ]
    }
   ],
   "source": [
    "print(f\"The accuracy using a {model_name} is {score:.3f} \"\n",
    "      f\"with a fitting time of {elapsed_time:.3f} seconds \"\n",
    "      f\"in {model[-1].n_iter_[0]} iterations\")"
   ]
  },
  {
   "cell_type": "markdown",
   "metadata": {},
   "source": [
    "# Cross validation"
   ]
  },
  {
   "cell_type": "code",
   "execution_count": 17,
   "metadata": {},
   "outputs": [
    {
     "data": {
      "text/html": [
       "<style>#sk-6fb1e2bd-e37c-46b1-8b53-77add03a0f50 {color: black;background-color: white;}#sk-6fb1e2bd-e37c-46b1-8b53-77add03a0f50 pre{padding: 0;}#sk-6fb1e2bd-e37c-46b1-8b53-77add03a0f50 div.sk-toggleable {background-color: white;}#sk-6fb1e2bd-e37c-46b1-8b53-77add03a0f50 label.sk-toggleable__label {cursor: pointer;display: block;width: 100%;margin-bottom: 0;padding: 0.2em 0.3em;box-sizing: border-box;text-align: center;}#sk-6fb1e2bd-e37c-46b1-8b53-77add03a0f50 div.sk-toggleable__content {max-height: 0;max-width: 0;overflow: hidden;text-align: left;background-color: #f0f8ff;}#sk-6fb1e2bd-e37c-46b1-8b53-77add03a0f50 div.sk-toggleable__content pre {margin: 0.2em;color: black;border-radius: 0.25em;background-color: #f0f8ff;}#sk-6fb1e2bd-e37c-46b1-8b53-77add03a0f50 input.sk-toggleable__control:checked~div.sk-toggleable__content {max-height: 200px;max-width: 100%;overflow: auto;}#sk-6fb1e2bd-e37c-46b1-8b53-77add03a0f50 div.sk-estimator input.sk-toggleable__control:checked~label.sk-toggleable__label {background-color: #d4ebff;}#sk-6fb1e2bd-e37c-46b1-8b53-77add03a0f50 div.sk-label input.sk-toggleable__control:checked~label.sk-toggleable__label {background-color: #d4ebff;}#sk-6fb1e2bd-e37c-46b1-8b53-77add03a0f50 input.sk-hidden--visually {border: 0;clip: rect(1px 1px 1px 1px);clip: rect(1px, 1px, 1px, 1px);height: 1px;margin: -1px;overflow: hidden;padding: 0;position: absolute;width: 1px;}#sk-6fb1e2bd-e37c-46b1-8b53-77add03a0f50 div.sk-estimator {font-family: monospace;background-color: #f0f8ff;margin: 0.25em 0.25em;border: 1px dotted black;border-radius: 0.25em;box-sizing: border-box;}#sk-6fb1e2bd-e37c-46b1-8b53-77add03a0f50 div.sk-estimator:hover {background-color: #d4ebff;}#sk-6fb1e2bd-e37c-46b1-8b53-77add03a0f50 div.sk-parallel-item::after {content: \"\";width: 100%;border-bottom: 1px solid gray;flex-grow: 1;}#sk-6fb1e2bd-e37c-46b1-8b53-77add03a0f50 div.sk-label:hover label.sk-toggleable__label {background-color: #d4ebff;}#sk-6fb1e2bd-e37c-46b1-8b53-77add03a0f50 div.sk-serial::before {content: \"\";position: absolute;border-left: 1px solid gray;box-sizing: border-box;top: 2em;bottom: 0;left: 50%;}#sk-6fb1e2bd-e37c-46b1-8b53-77add03a0f50 div.sk-serial {display: flex;flex-direction: column;align-items: center;background-color: white;}#sk-6fb1e2bd-e37c-46b1-8b53-77add03a0f50 div.sk-item {z-index: 1;}#sk-6fb1e2bd-e37c-46b1-8b53-77add03a0f50 div.sk-parallel {display: flex;align-items: stretch;justify-content: center;background-color: white;}#sk-6fb1e2bd-e37c-46b1-8b53-77add03a0f50 div.sk-parallel-item {display: flex;flex-direction: column;position: relative;background-color: white;}#sk-6fb1e2bd-e37c-46b1-8b53-77add03a0f50 div.sk-parallel-item:first-child::after {align-self: flex-end;width: 50%;}#sk-6fb1e2bd-e37c-46b1-8b53-77add03a0f50 div.sk-parallel-item:last-child::after {align-self: flex-start;width: 50%;}#sk-6fb1e2bd-e37c-46b1-8b53-77add03a0f50 div.sk-parallel-item:only-child::after {width: 0;}#sk-6fb1e2bd-e37c-46b1-8b53-77add03a0f50 div.sk-dashed-wrapped {border: 1px dashed gray;margin: 0.2em;box-sizing: border-box;padding-bottom: 0.1em;background-color: white;position: relative;}#sk-6fb1e2bd-e37c-46b1-8b53-77add03a0f50 div.sk-label label {font-family: monospace;font-weight: bold;background-color: white;display: inline-block;line-height: 1.2em;}#sk-6fb1e2bd-e37c-46b1-8b53-77add03a0f50 div.sk-label-container {position: relative;z-index: 2;text-align: center;}#sk-6fb1e2bd-e37c-46b1-8b53-77add03a0f50 div.sk-container {display: inline-block;position: relative;}</style><div id=\"sk-6fb1e2bd-e37c-46b1-8b53-77add03a0f50\" class\"sk-top-container\"><div class=\"sk-container\"><div class=\"sk-item sk-dashed-wrapped\"><div class=\"sk-label-container\"><div class=\"sk-label sk-toggleable\"><input class=\"sk-toggleable__control sk-hidden--visually\" id=\"86bd6baf-701a-4354-9d7f-82d742f5c0c5\" type=\"checkbox\" ><label class=\"sk-toggleable__label\" for=\"86bd6baf-701a-4354-9d7f-82d742f5c0c5\">Pipeline</label><div class=\"sk-toggleable__content\"><pre>Pipeline(steps=[('standardscaler', StandardScaler()),\n",
       "                ('logisticregression', LogisticRegression())])</pre></div></div></div><div class=\"sk-serial\"><div class=\"sk-item\"><div class=\"sk-estimator sk-toggleable\"><input class=\"sk-toggleable__control sk-hidden--visually\" id=\"3ad29fd6-dbb7-428e-bd10-e12dfeee8cba\" type=\"checkbox\" ><label class=\"sk-toggleable__label\" for=\"3ad29fd6-dbb7-428e-bd10-e12dfeee8cba\">StandardScaler</label><div class=\"sk-toggleable__content\"><pre>StandardScaler()</pre></div></div></div><div class=\"sk-item\"><div class=\"sk-estimator sk-toggleable\"><input class=\"sk-toggleable__control sk-hidden--visually\" id=\"52e74dd6-38f9-48a4-9d16-b4601152f79b\" type=\"checkbox\" ><label class=\"sk-toggleable__label\" for=\"52e74dd6-38f9-48a4-9d16-b4601152f79b\">LogisticRegression</label><div class=\"sk-toggleable__content\"><pre>LogisticRegression()</pre></div></div></div></div></div></div></div>"
      ],
      "text/plain": [
       "Pipeline(steps=[('standardscaler', StandardScaler()),\n",
       "                ('logisticregression', LogisticRegression())])"
      ]
     },
     "execution_count": 17,
     "metadata": {},
     "output_type": "execute_result"
    }
   ],
   "source": [
    "model = make_pipeline(StandardScaler(), LogisticRegression())\n",
    "model"
   ]
  },
  {
   "cell_type": "code",
   "execution_count": 18,
   "metadata": {},
   "outputs": [
    {
     "data": {
      "text/plain": [
       "{'fit_time': array([0.00997329, 0.0080061 , 0.00701427, 0.00698113, 0.00698137,\n",
       "        0.0079782 , 0.00698018, 0.00698304, 0.00698018, 0.00797725]),\n",
       " 'score_time': array([0.00196981, 0.0009706 , 0.00099468, 0.00099778, 0.00099754,\n",
       "        0.00099897, 0.00199413, 0.00099635, 0.00099826, 0.00099897]),\n",
       " 'test_score': array([1.        , 1.        , 0.94117647, 0.97058824, 0.91176471,\n",
       "        0.94117647, 0.97058824, 0.97058824, 0.94117647, 0.94117647])}"
      ]
     },
     "execution_count": 18,
     "metadata": {},
     "output_type": "execute_result"
    }
   ],
   "source": [
    "cv_result = cross_validate(model, data_numeric, target, cv=10)\n",
    "cv_result"
   ]
  },
  {
   "cell_type": "code",
   "execution_count": 19,
   "metadata": {},
   "outputs": [],
   "source": [
    "scores = cv_result[\"test_score\"]\n",
    "fit_time = cv_result[\"fit_time\"]"
   ]
  },
  {
   "cell_type": "code",
   "execution_count": 20,
   "metadata": {},
   "outputs": [
    {
     "name": "stdout",
     "output_type": "stream",
     "text": [
      "The mean cross-validation accuracy is 0.959 +/- 0.027, for 0.008 seconds in average\n"
     ]
    }
   ],
   "source": [
    "print(\"The mean cross-validation accuracy is \"\n",
    "      f\"{scores.mean():.3f} +/- {scores.std():.3f}, for {fit_time.mean():.3f} seconds in average\")"
   ]
  }
 ],
 "metadata": {
  "kernelspec": {
   "display_name": "Python 3",
   "language": "python",
   "name": "python3"
  },
  "language_info": {
   "codemirror_mode": {
    "name": "ipython",
    "version": 3
   },
   "file_extension": ".py",
   "mimetype": "text/x-python",
   "name": "python",
   "nbconvert_exporter": "python",
   "pygments_lexer": "ipython3",
   "version": "3.8.8"
  }
 },
 "nbformat": 4,
 "nbformat_minor": 4
}
