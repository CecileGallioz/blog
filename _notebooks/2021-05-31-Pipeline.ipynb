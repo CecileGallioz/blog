{
 "cells": [
  {
   "cell_type": "markdown",
   "metadata": {},
   "source": [
    "# Combine sequential operations\n",
    "> we chain the operations and use them with any other classifier or regressor\n",
    "\n",
    "- toc: true\n",
    "- badges: false\n",
    "- comments: true\n",
    "- author: Cécile Gallioz\n",
    "- categories: [sklearn]"
   ]
  },
  {
   "cell_type": "markdown",
   "metadata": {},
   "source": [
    "# Preparation"
   ]
  },
  {
   "cell_type": "code",
   "execution_count": 1,
   "metadata": {},
   "outputs": [],
   "source": [
    "import pandas as pd\n",
    "import time\n",
    "from sklearn.model_selection import train_test_split\n",
    "from sklearn.preprocessing import StandardScaler\n",
    "from sklearn.linear_model import LogisticRegression\n",
    "from sklearn.pipeline import make_pipeline\n",
    "from sklearn.model_selection import cross_validate"
   ]
  },
  {
   "cell_type": "code",
   "execution_count": 2,
   "metadata": {},
   "outputs": [],
   "source": [
    "# to display nice model diagram\n",
    "from sklearn import set_config\n",
    "set_config(display='diagram')"
   ]
  },
  {
   "cell_type": "code",
   "execution_count": 3,
   "metadata": {},
   "outputs": [],
   "source": [
    "myDataFrame = pd.read_csv(\"../../scikit-learn-mooc/datasets/penguins_classification.csv\")"
   ]
  },
  {
   "cell_type": "markdown",
   "metadata": {},
   "source": [
    "## The set"
   ]
  },
  {
   "cell_type": "code",
   "execution_count": 4,
   "metadata": {
    "scrolled": true
   },
   "outputs": [
    {
     "data": {
      "text/plain": [
       "Adelie       151\n",
       "Gentoo       123\n",
       "Chinstrap     68\n",
       "Name: Species, dtype: int64"
      ]
     },
     "execution_count": 4,
     "metadata": {},
     "output_type": "execute_result"
    }
   ],
   "source": [
    "target_column = 'Species'\n",
    "target = myDataFrame[target_column]\n",
    "target.value_counts()"
   ]
  },
  {
   "cell_type": "code",
   "execution_count": 5,
   "metadata": {},
   "outputs": [
    {
     "data": {
      "text/plain": [
       "Adelie       0.441520\n",
       "Gentoo       0.359649\n",
       "Chinstrap    0.198830\n",
       "Name: Species, dtype: float64"
      ]
     },
     "execution_count": 5,
     "metadata": {},
     "output_type": "execute_result"
    }
   ],
   "source": [
    "target.value_counts(normalize=True)"
   ]
  },
  {
   "cell_type": "markdown",
   "metadata": {},
   "source": [
    "## Continuation of preparation"
   ]
  },
  {
   "cell_type": "code",
   "execution_count": 6,
   "metadata": {},
   "outputs": [
    {
     "data": {
      "text/plain": [
       "Index(['Culmen Length (mm)', 'Culmen Depth (mm)'], dtype='object')"
      ]
     },
     "execution_count": 6,
     "metadata": {},
     "output_type": "execute_result"
    }
   ],
   "source": [
    "data = myDataFrame.drop(columns=target_column)\n",
    "data.columns"
   ]
  },
  {
   "cell_type": "code",
   "execution_count": 7,
   "metadata": {},
   "outputs": [],
   "source": [
    "numerical_columns = ['Culmen Length (mm)', 'Culmen Depth (mm)']\n",
    "data_numeric = data[numerical_columns]"
   ]
  },
  {
   "cell_type": "code",
   "execution_count": 8,
   "metadata": {},
   "outputs": [],
   "source": [
    "data_train, data_test, target_train, target_test = train_test_split(\n",
    "    data_numeric, \n",
    "    target, \n",
    "    #random_state=42, \n",
    "    test_size=0.25)"
   ]
  },
  {
   "cell_type": "code",
   "execution_count": 9,
   "metadata": {},
   "outputs": [
    {
     "data": {
      "text/html": [
       "<div>\n",
       "<style scoped>\n",
       "    .dataframe tbody tr th:only-of-type {\n",
       "        vertical-align: middle;\n",
       "    }\n",
       "\n",
       "    .dataframe tbody tr th {\n",
       "        vertical-align: top;\n",
       "    }\n",
       "\n",
       "    .dataframe thead th {\n",
       "        text-align: right;\n",
       "    }\n",
       "</style>\n",
       "<table border=\"1\" class=\"dataframe\">\n",
       "  <thead>\n",
       "    <tr style=\"text-align: right;\">\n",
       "      <th></th>\n",
       "      <th>Culmen Length (mm)</th>\n",
       "      <th>Culmen Depth (mm)</th>\n",
       "    </tr>\n",
       "  </thead>\n",
       "  <tbody>\n",
       "    <tr>\n",
       "      <th>count</th>\n",
       "      <td>256.000000</td>\n",
       "      <td>256.000000</td>\n",
       "    </tr>\n",
       "    <tr>\n",
       "      <th>mean</th>\n",
       "      <td>43.839062</td>\n",
       "      <td>17.168359</td>\n",
       "    </tr>\n",
       "    <tr>\n",
       "      <th>std</th>\n",
       "      <td>5.344922</td>\n",
       "      <td>1.980447</td>\n",
       "    </tr>\n",
       "    <tr>\n",
       "      <th>min</th>\n",
       "      <td>33.100000</td>\n",
       "      <td>13.100000</td>\n",
       "    </tr>\n",
       "    <tr>\n",
       "      <th>25%</th>\n",
       "      <td>39.275000</td>\n",
       "      <td>15.575000</td>\n",
       "    </tr>\n",
       "    <tr>\n",
       "      <th>50%</th>\n",
       "      <td>44.050000</td>\n",
       "      <td>17.300000</td>\n",
       "    </tr>\n",
       "    <tr>\n",
       "      <th>75%</th>\n",
       "      <td>48.400000</td>\n",
       "      <td>18.625000</td>\n",
       "    </tr>\n",
       "    <tr>\n",
       "      <th>max</th>\n",
       "      <td>58.000000</td>\n",
       "      <td>21.500000</td>\n",
       "    </tr>\n",
       "  </tbody>\n",
       "</table>\n",
       "</div>"
      ],
      "text/plain": [
       "       Culmen Length (mm)  Culmen Depth (mm)\n",
       "count          256.000000         256.000000\n",
       "mean            43.839062          17.168359\n",
       "std              5.344922           1.980447\n",
       "min             33.100000          13.100000\n",
       "25%             39.275000          15.575000\n",
       "50%             44.050000          17.300000\n",
       "75%             48.400000          18.625000\n",
       "max             58.000000          21.500000"
      ]
     },
     "execution_count": 9,
     "metadata": {},
     "output_type": "execute_result"
    }
   ],
   "source": [
    "data_train.describe()"
   ]
  },
  {
   "cell_type": "markdown",
   "metadata": {},
   "source": [
    "# Model without normalization"
   ]
  },
  {
   "cell_type": "code",
   "execution_count": 10,
   "metadata": {},
   "outputs": [],
   "source": [
    "model = LogisticRegression()\n",
    "start = time.time()\n",
    "model.fit(data_train, target_train)\n",
    "elapsed_time = time.time() - start"
   ]
  },
  {
   "cell_type": "code",
   "execution_count": 11,
   "metadata": {},
   "outputs": [],
   "source": [
    "model_name = model.__class__.__name__\n",
    "score = model.score(data_test, target_test)"
   ]
  },
  {
   "cell_type": "code",
   "execution_count": 12,
   "metadata": {},
   "outputs": [
    {
     "name": "stdout",
     "output_type": "stream",
     "text": [
      "The accuracy using a LogisticRegression is 0.977 with a fitting time of 0.026 seconds in 89 iterations\n"
     ]
    }
   ],
   "source": [
    "print(f\"The accuracy using a {model_name} is {score:.3f} \"\n",
    "      f\"with a fitting time of {elapsed_time:.3f} seconds \"\n",
    "      f\"in {model.n_iter_[0]} iterations\")"
   ]
  },
  {
   "cell_type": "markdown",
   "metadata": {},
   "source": [
    "# Model with normalization : Pipeline\n",
    "Fewer iterations"
   ]
  },
  {
   "cell_type": "code",
   "execution_count": 13,
   "metadata": {
    "scrolled": true
   },
   "outputs": [
    {
     "data": {
      "text/html": [
       "<style>#sk-b686ee0a-75e0-4c8d-a10a-8f75176f8052 {color: black;background-color: white;}#sk-b686ee0a-75e0-4c8d-a10a-8f75176f8052 pre{padding: 0;}#sk-b686ee0a-75e0-4c8d-a10a-8f75176f8052 div.sk-toggleable {background-color: white;}#sk-b686ee0a-75e0-4c8d-a10a-8f75176f8052 label.sk-toggleable__label {cursor: pointer;display: block;width: 100%;margin-bottom: 0;padding: 0.2em 0.3em;box-sizing: border-box;text-align: center;}#sk-b686ee0a-75e0-4c8d-a10a-8f75176f8052 div.sk-toggleable__content {max-height: 0;max-width: 0;overflow: hidden;text-align: left;background-color: #f0f8ff;}#sk-b686ee0a-75e0-4c8d-a10a-8f75176f8052 div.sk-toggleable__content pre {margin: 0.2em;color: black;border-radius: 0.25em;background-color: #f0f8ff;}#sk-b686ee0a-75e0-4c8d-a10a-8f75176f8052 input.sk-toggleable__control:checked~div.sk-toggleable__content {max-height: 200px;max-width: 100%;overflow: auto;}#sk-b686ee0a-75e0-4c8d-a10a-8f75176f8052 div.sk-estimator input.sk-toggleable__control:checked~label.sk-toggleable__label {background-color: #d4ebff;}#sk-b686ee0a-75e0-4c8d-a10a-8f75176f8052 div.sk-label input.sk-toggleable__control:checked~label.sk-toggleable__label {background-color: #d4ebff;}#sk-b686ee0a-75e0-4c8d-a10a-8f75176f8052 input.sk-hidden--visually {border: 0;clip: rect(1px 1px 1px 1px);clip: rect(1px, 1px, 1px, 1px);height: 1px;margin: -1px;overflow: hidden;padding: 0;position: absolute;width: 1px;}#sk-b686ee0a-75e0-4c8d-a10a-8f75176f8052 div.sk-estimator {font-family: monospace;background-color: #f0f8ff;margin: 0.25em 0.25em;border: 1px dotted black;border-radius: 0.25em;box-sizing: border-box;}#sk-b686ee0a-75e0-4c8d-a10a-8f75176f8052 div.sk-estimator:hover {background-color: #d4ebff;}#sk-b686ee0a-75e0-4c8d-a10a-8f75176f8052 div.sk-parallel-item::after {content: \"\";width: 100%;border-bottom: 1px solid gray;flex-grow: 1;}#sk-b686ee0a-75e0-4c8d-a10a-8f75176f8052 div.sk-label:hover label.sk-toggleable__label {background-color: #d4ebff;}#sk-b686ee0a-75e0-4c8d-a10a-8f75176f8052 div.sk-serial::before {content: \"\";position: absolute;border-left: 1px solid gray;box-sizing: border-box;top: 2em;bottom: 0;left: 50%;}#sk-b686ee0a-75e0-4c8d-a10a-8f75176f8052 div.sk-serial {display: flex;flex-direction: column;align-items: center;background-color: white;}#sk-b686ee0a-75e0-4c8d-a10a-8f75176f8052 div.sk-item {z-index: 1;}#sk-b686ee0a-75e0-4c8d-a10a-8f75176f8052 div.sk-parallel {display: flex;align-items: stretch;justify-content: center;background-color: white;}#sk-b686ee0a-75e0-4c8d-a10a-8f75176f8052 div.sk-parallel-item {display: flex;flex-direction: column;position: relative;background-color: white;}#sk-b686ee0a-75e0-4c8d-a10a-8f75176f8052 div.sk-parallel-item:first-child::after {align-self: flex-end;width: 50%;}#sk-b686ee0a-75e0-4c8d-a10a-8f75176f8052 div.sk-parallel-item:last-child::after {align-self: flex-start;width: 50%;}#sk-b686ee0a-75e0-4c8d-a10a-8f75176f8052 div.sk-parallel-item:only-child::after {width: 0;}#sk-b686ee0a-75e0-4c8d-a10a-8f75176f8052 div.sk-dashed-wrapped {border: 1px dashed gray;margin: 0.2em;box-sizing: border-box;padding-bottom: 0.1em;background-color: white;position: relative;}#sk-b686ee0a-75e0-4c8d-a10a-8f75176f8052 div.sk-label label {font-family: monospace;font-weight: bold;background-color: white;display: inline-block;line-height: 1.2em;}#sk-b686ee0a-75e0-4c8d-a10a-8f75176f8052 div.sk-label-container {position: relative;z-index: 2;text-align: center;}#sk-b686ee0a-75e0-4c8d-a10a-8f75176f8052 div.sk-container {display: inline-block;position: relative;}</style><div id=\"sk-b686ee0a-75e0-4c8d-a10a-8f75176f8052\" class\"sk-top-container\"><div class=\"sk-container\"><div class=\"sk-item sk-dashed-wrapped\"><div class=\"sk-label-container\"><div class=\"sk-label sk-toggleable\"><input class=\"sk-toggleable__control sk-hidden--visually\" id=\"aed53e6e-85e0-4d1b-896b-0669aaacf3db\" type=\"checkbox\" ><label class=\"sk-toggleable__label\" for=\"aed53e6e-85e0-4d1b-896b-0669aaacf3db\">Pipeline</label><div class=\"sk-toggleable__content\"><pre>Pipeline(steps=[('standardscaler', StandardScaler()),\n",
       "                ('logisticregression', LogisticRegression())])</pre></div></div></div><div class=\"sk-serial\"><div class=\"sk-item\"><div class=\"sk-estimator sk-toggleable\"><input class=\"sk-toggleable__control sk-hidden--visually\" id=\"6a9f26e2-6a4b-492b-b2b4-9a8e70e93feb\" type=\"checkbox\" ><label class=\"sk-toggleable__label\" for=\"6a9f26e2-6a4b-492b-b2b4-9a8e70e93feb\">StandardScaler</label><div class=\"sk-toggleable__content\"><pre>StandardScaler()</pre></div></div></div><div class=\"sk-item\"><div class=\"sk-estimator sk-toggleable\"><input class=\"sk-toggleable__control sk-hidden--visually\" id=\"428a1b5a-0f6e-47f5-a08f-bd661e5e7270\" type=\"checkbox\" ><label class=\"sk-toggleable__label\" for=\"428a1b5a-0f6e-47f5-a08f-bd661e5e7270\">LogisticRegression</label><div class=\"sk-toggleable__content\"><pre>LogisticRegression()</pre></div></div></div></div></div></div></div>"
      ],
      "text/plain": [
       "Pipeline(steps=[('standardscaler', StandardScaler()),\n",
       "                ('logisticregression', LogisticRegression())])"
      ]
     },
     "execution_count": 13,
     "metadata": {},
     "output_type": "execute_result"
    }
   ],
   "source": [
    "model = make_pipeline(StandardScaler(), LogisticRegression())\n",
    "model"
   ]
  },
  {
   "cell_type": "code",
   "execution_count": 14,
   "metadata": {},
   "outputs": [],
   "source": [
    "start = time.time()\n",
    "model.fit(data_train, target_train)\n",
    "elapsed_time = time.time() - start"
   ]
  },
  {
   "cell_type": "code",
   "execution_count": 15,
   "metadata": {},
   "outputs": [],
   "source": [
    "predicted_target = model.predict(data_test)\n",
    "model_name = model.__class__.__name__\n",
    "score = model.score(data_test, target_test)"
   ]
  },
  {
   "cell_type": "code",
   "execution_count": 16,
   "metadata": {},
   "outputs": [
    {
     "name": "stdout",
     "output_type": "stream",
     "text": [
      "The accuracy using a Pipeline is 0.965 with a fitting time of 0.009 seconds in 14 iterations\n"
     ]
    }
   ],
   "source": [
    "print(f\"The accuracy using a {model_name} is {score:.3f} \"\n",
    "      f\"with a fitting time of {elapsed_time:.3f} seconds \"\n",
    "      f\"in {model[-1].n_iter_[0]} iterations\")"
   ]
  },
  {
   "cell_type": "markdown",
   "metadata": {},
   "source": [
    "# Cross validation"
   ]
  },
  {
   "cell_type": "code",
   "execution_count": 17,
   "metadata": {},
   "outputs": [
    {
     "data": {
      "text/html": [
       "<style>#sk-d3cd2324-84bc-40fe-a0ab-2306302662c4 {color: black;background-color: white;}#sk-d3cd2324-84bc-40fe-a0ab-2306302662c4 pre{padding: 0;}#sk-d3cd2324-84bc-40fe-a0ab-2306302662c4 div.sk-toggleable {background-color: white;}#sk-d3cd2324-84bc-40fe-a0ab-2306302662c4 label.sk-toggleable__label {cursor: pointer;display: block;width: 100%;margin-bottom: 0;padding: 0.2em 0.3em;box-sizing: border-box;text-align: center;}#sk-d3cd2324-84bc-40fe-a0ab-2306302662c4 div.sk-toggleable__content {max-height: 0;max-width: 0;overflow: hidden;text-align: left;background-color: #f0f8ff;}#sk-d3cd2324-84bc-40fe-a0ab-2306302662c4 div.sk-toggleable__content pre {margin: 0.2em;color: black;border-radius: 0.25em;background-color: #f0f8ff;}#sk-d3cd2324-84bc-40fe-a0ab-2306302662c4 input.sk-toggleable__control:checked~div.sk-toggleable__content {max-height: 200px;max-width: 100%;overflow: auto;}#sk-d3cd2324-84bc-40fe-a0ab-2306302662c4 div.sk-estimator input.sk-toggleable__control:checked~label.sk-toggleable__label {background-color: #d4ebff;}#sk-d3cd2324-84bc-40fe-a0ab-2306302662c4 div.sk-label input.sk-toggleable__control:checked~label.sk-toggleable__label {background-color: #d4ebff;}#sk-d3cd2324-84bc-40fe-a0ab-2306302662c4 input.sk-hidden--visually {border: 0;clip: rect(1px 1px 1px 1px);clip: rect(1px, 1px, 1px, 1px);height: 1px;margin: -1px;overflow: hidden;padding: 0;position: absolute;width: 1px;}#sk-d3cd2324-84bc-40fe-a0ab-2306302662c4 div.sk-estimator {font-family: monospace;background-color: #f0f8ff;margin: 0.25em 0.25em;border: 1px dotted black;border-radius: 0.25em;box-sizing: border-box;}#sk-d3cd2324-84bc-40fe-a0ab-2306302662c4 div.sk-estimator:hover {background-color: #d4ebff;}#sk-d3cd2324-84bc-40fe-a0ab-2306302662c4 div.sk-parallel-item::after {content: \"\";width: 100%;border-bottom: 1px solid gray;flex-grow: 1;}#sk-d3cd2324-84bc-40fe-a0ab-2306302662c4 div.sk-label:hover label.sk-toggleable__label {background-color: #d4ebff;}#sk-d3cd2324-84bc-40fe-a0ab-2306302662c4 div.sk-serial::before {content: \"\";position: absolute;border-left: 1px solid gray;box-sizing: border-box;top: 2em;bottom: 0;left: 50%;}#sk-d3cd2324-84bc-40fe-a0ab-2306302662c4 div.sk-serial {display: flex;flex-direction: column;align-items: center;background-color: white;}#sk-d3cd2324-84bc-40fe-a0ab-2306302662c4 div.sk-item {z-index: 1;}#sk-d3cd2324-84bc-40fe-a0ab-2306302662c4 div.sk-parallel {display: flex;align-items: stretch;justify-content: center;background-color: white;}#sk-d3cd2324-84bc-40fe-a0ab-2306302662c4 div.sk-parallel-item {display: flex;flex-direction: column;position: relative;background-color: white;}#sk-d3cd2324-84bc-40fe-a0ab-2306302662c4 div.sk-parallel-item:first-child::after {align-self: flex-end;width: 50%;}#sk-d3cd2324-84bc-40fe-a0ab-2306302662c4 div.sk-parallel-item:last-child::after {align-self: flex-start;width: 50%;}#sk-d3cd2324-84bc-40fe-a0ab-2306302662c4 div.sk-parallel-item:only-child::after {width: 0;}#sk-d3cd2324-84bc-40fe-a0ab-2306302662c4 div.sk-dashed-wrapped {border: 1px dashed gray;margin: 0.2em;box-sizing: border-box;padding-bottom: 0.1em;background-color: white;position: relative;}#sk-d3cd2324-84bc-40fe-a0ab-2306302662c4 div.sk-label label {font-family: monospace;font-weight: bold;background-color: white;display: inline-block;line-height: 1.2em;}#sk-d3cd2324-84bc-40fe-a0ab-2306302662c4 div.sk-label-container {position: relative;z-index: 2;text-align: center;}#sk-d3cd2324-84bc-40fe-a0ab-2306302662c4 div.sk-container {display: inline-block;position: relative;}</style><div id=\"sk-d3cd2324-84bc-40fe-a0ab-2306302662c4\" class\"sk-top-container\"><div class=\"sk-container\"><div class=\"sk-item sk-dashed-wrapped\"><div class=\"sk-label-container\"><div class=\"sk-label sk-toggleable\"><input class=\"sk-toggleable__control sk-hidden--visually\" id=\"b396e7be-3db9-4f80-b528-048f6cd2d7b8\" type=\"checkbox\" ><label class=\"sk-toggleable__label\" for=\"b396e7be-3db9-4f80-b528-048f6cd2d7b8\">Pipeline</label><div class=\"sk-toggleable__content\"><pre>Pipeline(steps=[('standardscaler', StandardScaler()),\n",
       "                ('logisticregression', LogisticRegression())])</pre></div></div></div><div class=\"sk-serial\"><div class=\"sk-item\"><div class=\"sk-estimator sk-toggleable\"><input class=\"sk-toggleable__control sk-hidden--visually\" id=\"ed315491-f119-47c5-83ce-e7fe1821f916\" type=\"checkbox\" ><label class=\"sk-toggleable__label\" for=\"ed315491-f119-47c5-83ce-e7fe1821f916\">StandardScaler</label><div class=\"sk-toggleable__content\"><pre>StandardScaler()</pre></div></div></div><div class=\"sk-item\"><div class=\"sk-estimator sk-toggleable\"><input class=\"sk-toggleable__control sk-hidden--visually\" id=\"cac72f33-8f89-4752-aa60-818eea5b731a\" type=\"checkbox\" ><label class=\"sk-toggleable__label\" for=\"cac72f33-8f89-4752-aa60-818eea5b731a\">LogisticRegression</label><div class=\"sk-toggleable__content\"><pre>LogisticRegression()</pre></div></div></div></div></div></div></div>"
      ],
      "text/plain": [
       "Pipeline(steps=[('standardscaler', StandardScaler()),\n",
       "                ('logisticregression', LogisticRegression())])"
      ]
     },
     "execution_count": 17,
     "metadata": {},
     "output_type": "execute_result"
    }
   ],
   "source": [
    "model = make_pipeline(StandardScaler(), LogisticRegression())\n",
    "model"
   ]
  },
  {
   "cell_type": "code",
   "execution_count": 18,
   "metadata": {},
   "outputs": [
    {
     "data": {
      "text/plain": [
       "{'fit_time': array([0.01000905, 0.0079844 , 0.00698709, 0.00698113, 0.00695181,\n",
       "        0.00698161, 0.00698233, 0.00697803, 0.00698066, 0.0069809 ]),\n",
       " 'score_time': array([0.00199127, 0.00098419, 0.00099826, 0.00099754, 0.00102639,\n",
       "        0.00099707, 0.00099611, 0.00100088, 0.00099802, 0.00099754]),\n",
       " 'test_score': array([1.        , 1.        , 0.94117647, 0.97058824, 0.91176471,\n",
       "        0.94117647, 0.97058824, 0.97058824, 0.94117647, 0.94117647])}"
      ]
     },
     "execution_count": 18,
     "metadata": {},
     "output_type": "execute_result"
    }
   ],
   "source": [
    "cv_result = cross_validate(model, data_numeric, target, cv=10)\n",
    "cv_result"
   ]
  },
  {
   "cell_type": "code",
   "execution_count": 19,
   "metadata": {},
   "outputs": [],
   "source": [
    "scores = cv_result[\"test_score\"]\n",
    "fit_time = cv_result[\"fit_time\"]"
   ]
  },
  {
   "cell_type": "code",
   "execution_count": 20,
   "metadata": {},
   "outputs": [
    {
     "name": "stdout",
     "output_type": "stream",
     "text": [
      "The mean cross-validation accuracy is 0.959 +/- 0.027, for 0.007 seconds in average\n"
     ]
    }
   ],
   "source": [
    "print(\"The mean cross-validation accuracy is \"\n",
    "      f\"{scores.mean():.3f} +/- {scores.std():.3f}, for {fit_time.mean():.3f} seconds in average\")"
   ]
  }
 ],
 "metadata": {
  "kernelspec": {
   "display_name": "Python 3",
   "language": "python",
   "name": "python3"
  },
  "language_info": {
   "codemirror_mode": {
    "name": "ipython",
    "version": 3
   },
   "file_extension": ".py",
   "mimetype": "text/x-python",
   "name": "python",
   "nbconvert_exporter": "python",
   "pygments_lexer": "ipython3",
   "version": "3.8.8"
  }
 },
 "nbformat": 4,
 "nbformat_minor": 4
}
