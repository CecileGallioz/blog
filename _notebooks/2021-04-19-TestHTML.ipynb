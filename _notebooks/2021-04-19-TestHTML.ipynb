{
 "cells": [
  {
   "cell_type": "markdown",
   "metadata": {},
   "source": [
    "# Test HTML\n",
    "> \n",
    "\n",
    "- toc: true \n",
    "- badges: false\n",
    "- comments: true\n",
    "- author: Cécile Gallioz\n",
    "- categories: [HTML]"
   ]
  },
  {
   "cell_type": "raw",
   "metadata": {},
   "source": [
    "</p>\n",
    "<h1>TEST</h1>"
   ]
  },
  {
   "cell_type": "code",
   "execution_count": 4,
   "metadata": {},
   "outputs": [
    {
     "name": "stdout",
     "output_type": "stream",
     "text": [
      "In 10 year(s), Paul will be 55 year(s) old.\n"
     ]
    }
   ],
   "source": [
    "age = 45\n",
    "name = \"Paul\"\n",
    "gap = 10\n",
    "print(f\"In {gap} year(s), {name} will be {age + gap} year(s) old.\")"
   ]
  },
  {
   "cell_type": "raw",
   "metadata": {},
   "source": [
    "<h2>Test2</h2>"
   ]
  }
 ],
 "metadata": {
  "kernelspec": {
   "display_name": "Python 3",
   "language": "python",
   "name": "python3"
  },
  "language_info": {
   "codemirror_mode": {
    "name": "ipython",
    "version": 3
   },
   "file_extension": ".py",
   "mimetype": "text/x-python",
   "name": "python",
   "nbconvert_exporter": "python",
   "pygments_lexer": "ipython3",
   "version": "3.8.3"
  }
 },
 "nbformat": 4,
 "nbformat_minor": 4
}
