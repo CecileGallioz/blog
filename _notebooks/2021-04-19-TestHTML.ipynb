{
 "cells": [
  {
   "cell_type": "markdown",
   "metadata": {},
   "source": [
    "# Insert HTML in a NoteBook\n",
    "> How to write HTML inside a Notebook for fastpages\n",
    "\n",
    "- toc: true \n",
    "- badges: false\n",
    "- comments: true\n",
    "- author: Cécile Gallioz\n",
    "- categories: [HTML, fastpages]"
   ]
  },
  {
   "cell_type": "markdown",
   "metadata": {},
   "source": [
    "The fastpages blog engine is very useful to write a notebook. But I wanted to be able to write HTML directly in my notebook to implement a template.\n",
    "\n",
    "For the moment, I'm not going to do like that, I'll keep my template in a classic notebook, but I'll leave you here the technique to write HTML from a notebook which will be interpreted by fastpages in HTML."
   ]
  },
  {
   "cell_type": "code",
   "execution_count": 11,
   "metadata": {},
   "outputs": [
    {
     "name": "stdout",
     "output_type": "stream",
     "text": [
      "<h1>This is HTML written in the notebook in a plain text cell (not Markdown)</h1>\n"
     ]
    }
   ],
   "source": [
    "## hide_input\n",
    "print(\"<h1>This is HTML written in the notebook in a plain text cell (not Markdown)</h1>\")"
   ]
  },
  {
   "cell_type": "raw",
   "metadata": {},
   "source": [
    "<h1>This is HTML written in the notebook in a plain text cell (not Markdown)</h1>"
   ]
  },
  {
   "cell_type": "code",
   "execution_count": 12,
   "metadata": {},
   "outputs": [
    {
     "name": "stdout",
     "output_type": "stream",
     "text": [
      "<h3>In 10 year(s), Paul will be 55 year(s) old.</h3>\n"
     ]
    }
   ],
   "source": [
    "age = 45\n",
    "name = \"Paul\"\n",
    "gap = 10\n",
    "print(f\"<h3>In {gap} year(s), {name} will be {age + gap} year(s) old.</h3>\")"
   ]
  },
  {
   "cell_type": "code",
   "execution_count": 4,
   "metadata": {},
   "outputs": [
    {
     "data": {
      "text/html": [
       "<h3>In 10 year(s), Paul will be 55 year(s) old.</h3>"
      ],
      "text/plain": [
       "<IPython.core.display.HTML object>"
      ]
     },
     "metadata": {},
     "output_type": "display_data"
    }
   ],
   "source": [
    "get_ipython().run_cell_magic(u'HTML', u'',f\"<h3>In {gap} year(s), {name} will be {age + gap} year(s) old.</h3>\")"
   ]
  }
 ],
 "metadata": {
  "kernelspec": {
   "display_name": "Python 3",
   "language": "python",
   "name": "python3"
  },
  "language_info": {
   "codemirror_mode": {
    "name": "ipython",
    "version": 3
   },
   "file_extension": ".py",
   "mimetype": "text/x-python",
   "name": "python",
   "nbconvert_exporter": "python",
   "pygments_lexer": "ipython3",
   "version": "3.8.3"
  }
 },
 "nbformat": 4,
 "nbformat_minor": 4
}
