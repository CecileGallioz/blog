{
 "cells": [
  {
   "cell_type": "markdown",
   "metadata": {},
   "source": [
    "# My reminder on Jupyter NoteBook\n",
    "> A list of definitions and memory aids for Jupyter\n",
    "\n",
    "- toc: true \n",
    "- badges: false\n",
    "- comments: false\n",
    "- author: Cécile Gallioz\n",
    "- categories: [Jupyter]"
   ]
  },
  {
   "cell_type": "markdown",
   "metadata": {},
   "source": [
    "## Commands\n",
    "|Command|Execute|\n",
    "|-|-|\n",
    "|Double click or [ENTER] |Enter a cell|\n",
    "|[CTRL]+[ENTER]|Execute the contents of a text or code cell and exit|\n",
    "|[ESC]|Exit from a cell without executing it|\n",
    "|||\n",
    "|[B]|Insert a cell below|\n",
    "|[A]|Insert a cell above (Above)|\n",
    "|[d]+[d]|Delete a cell without confirmation|\n",
    "|||\n",
    "|[Y]|Transform cell to code cell P**y**thon|\n",
    "|[M]|Transform cell to text **M**arkdown|\n",
    "|||\n",
    "|[S]|Save|\n",
    "|[Cttl-S]|Save|"
   ]
  },
  {
   "cell_type": "markdown",
   "metadata": {},
   "source": [
    "## Formatting\n",
    "|Command|Execute|\n",
    "|-|-|\n",
    "|# Title1|Level 1 Title|\n",
    "|###### Title6|Level 6 title|\n",
    "|||\n",
    "|\\*\\* \\*\\*|Insert **bold**|\n",
    "|\\* \\*|Insert *italic*|\n",
    "|\\~~ ~~ |Insert ~~barred~~|\n",
    "|Backslash|Prevents Markdown from interpreting a character|\n",
    "|[ENTER]|Create a paragraph by inserting a new line|"
   ]
  },
  {
   "cell_type": "markdown",
   "metadata": {},
   "source": [
    "### A line ---\n",
    "---"
   ]
  },
  {
   "cell_type": "markdown",
   "metadata": {},
   "source": [
    "### Ordered list 1.\n",
    "\n",
    "1. Element1\n",
    "2. Element2"
   ]
  },
  {
   "cell_type": "markdown",
   "metadata": {},
   "source": [
    "### Non ordered list -\n",
    "- Element1\n",
    "- Element2"
   ]
  },
  {
   "cell_type": "markdown",
   "metadata": {},
   "source": [
    "### Tasks -[ ]\n",
    "- [x] completed task\n",
    "- [ ] unrealized task"
   ]
  }
 ],
 "metadata": {
  "kernelspec": {
   "display_name": "Python 3",
   "language": "python",
   "name": "python3"
  },
  "language_info": {
   "codemirror_mode": {
    "name": "ipython",
    "version": 3
   },
   "file_extension": ".py",
   "mimetype": "text/x-python",
   "name": "python",
   "nbconvert_exporter": "python",
   "pygments_lexer": "ipython3",
   "version": "3.8.3"
  },
  "varInspector": {
   "cols": {
    "lenName": 16,
    "lenType": 16,
    "lenVar": 40
   },
   "kernels_config": {
    "python": {
     "delete_cmd_postfix": "",
     "delete_cmd_prefix": "del ",
     "library": "var_list.py",
     "varRefreshCmd": "print(var_dic_list())"
    },
    "r": {
     "delete_cmd_postfix": ") ",
     "delete_cmd_prefix": "rm(",
     "library": "var_list.r",
     "varRefreshCmd": "cat(var_dic_list()) "
    }
   },
   "types_to_exclude": [
    "module",
    "function",
    "builtin_function_or_method",
    "instance",
    "_Feature"
   ],
   "window_display": false
  }
 },
 "nbformat": 4,
 "nbformat_minor": 4
}
