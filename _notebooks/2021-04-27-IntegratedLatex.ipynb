{
 "cells": [
  {
   "cell_type": "markdown",
   "metadata": {},
   "source": [
    "# Integrate LaTeX in Jupyter Notebook\n",
    "> Why not?\n",
    "\n",
    "- toc: true\n",
    "- badges: false\n",
    "- comments: true\n",
    "- author: Cécile Gallioz\n",
    "- categories: [Jupyter, LaTeX]"
   ]
  },
  {
   "cell_type": "markdown",
   "metadata": {},
   "source": [
    "# Why ?\n",
    "I wanted to try LaTeX because seeing a nice mathematical formula from time to time is nice.\n",
    "\n",
    "Moreover, I realized that all my mathematics books during my studies were written with this tool, the font is very recognizable. So now nostalgia has caught up with me! And the usual desire to discover a new tool.\n",
    "\n",
    "# Install on my computer \n",
    "\n",
    "On my computer, I use Visual Studio Code and the two extensions [LaTeX Utilities](https://marketplace.visualstudio.com/items?itemName=tecosaur.latex-utilities) and [LaTeX Workshop](https://marketplace.visualstudio.com/items?itemName=James-Yu.latex-workshop) and the LaTeX distribution [TeX Live](https://www.tug.org/texlive/acquire-netinstall.html). Thanks to [Linux Magazine n°242](https://boutique.ed-diamond.com/numeros-deja-parus/1555-gnulinux-magazine-242.html?search_query=242&results=4) for the help.\n",
    "\n",
    "# Use in a Notebook\n",
    "\n",
    "But here, I wanted to test LaTeX in a Jupyter NoteBook."
   ]
  },
  {
   "cell_type": "markdown",
   "metadata": {},
   "source": [
    "## Inside of your Markdown cell: formula between two $\n",
    "\n",
    "- integrated formula: $f(x) = 2 \\times x$\n",
    "        \n",
    "        $f(x) = 2 \\times x$\n",
    "---\n",
    "- center formula: $$f(x) = 2 \\times x$$\n",
    "\n",
    "        $$f(x) = 2 \\times x$$"
   ]
  },
  {
   "cell_type": "markdown",
   "metadata": {},
   "source": [
    "## Cheat sheet on LaTeX\n",
    "\n",
    "One page with a lot of informations [A quick guide to LATEX](https://users.dickinson.edu/~richesod/latex/latexcheatsheet.pdf), very useful."
   ]
  },
  {
   "cell_type": "markdown",
   "metadata": {},
   "source": [
    "## Insert text inside a formula \\text\n",
    "$$f(x) = 2x \\text{ with } 0 \\le x \\leq 5$$\n",
    "\n",
    "    $$f(x) = 2x \\text{ with } 0 \\le x \\leq 5$$"
   ]
  },
  {
   "cell_type": "markdown",
   "metadata": {},
   "source": [
    "## Vector and other hats\n",
    "$$\\overrightarrow{AB\\ }$$\n",
    "\n",
    "    $$\\overrightarrow{AB\\ }$$\n",
    "$$\\overline{AB\\ }$$\n",
    "\n",
    "    $$\\overline{AB\\ }$$\n",
    "$$\\widehat{ABC\\ }$$\n",
    "\n",
    "    $$\\widehat{ABC\\ }$$\n",
    "$$\\vec{A\\ }$$\n",
    "\n",
    "    $$\\vec{A\\ }$$\n",
    "$$\\vec{\\imath}$$\n",
    "\n",
    "    $$\\vec{\\imath}$$"
   ]
  },
  {
   "cell_type": "markdown",
   "metadata": {},
   "source": [
    "## Predefined functions \\cos\n",
    "$$\\cos{(x+1)}$$\n",
    "\n",
    "    $$\\cos{(x+1)}$$\n",
    "$$\\sqrt{(x+1)}$$\n",
    "\n",
    "    $$\\sqrt{(x+1)}$$\n",
    "$$\\sqrt[3]{(x+1)}$$\n",
    "\n",
    "    $$\\sqrt[3]{(x+1)}$$"
   ]
  },
  {
   "cell_type": "markdown",
   "metadata": {},
   "source": [
    "## Exponent and subscript\n",
    "$$x_i+1=2^x-1$$\n",
    "\n",
    "    $$x_i+1=2^x-1$$          [hard to read but works]\n",
    "$$x_i + 1 = 2^x - 1$$\n",
    "\n",
    "    $$x_i + 1 = 2^x - 1$$    [same result]\n",
    "$$x_{i + 1} = 2^{x - 1}$$\n",
    "\n",
    "    $$x_{i + 1} = 2^{x - 1}$$"
   ]
  },
  {
   "cell_type": "markdown",
   "metadata": {},
   "source": [
    "## Limit, sum and integral\n",
    "$$\\lim_{x \\to \\infty} x + 1$$\n",
    "\n",
    "    $$\\lim_{x \\to \\infty} x + 1$$\n",
    "$$\\sum_{i=1}^{10} x_i$$\n",
    "\n",
    "    $$\\sum_{i=1}^{10} x_i$$\n",
    "$$\\prod_{i=1}^{10} \\sqrt[i]{x_i^2 - 1}$$\n",
    "\n",
    "    $$\\prod_{i=1}^{10} \\sqrt[i]{x_i^2 - 1}$$\n",
    "$$\\int_{0}^{1} 2x\\,dx$$\n",
    "\n",
    "    $$\\int_{0}^{1} 2x\\,dx$$"
   ]
  },
  {
   "cell_type": "markdown",
   "metadata": {},
   "source": [
    "## Parenthesis, bracket and brace\n",
    "$$\\cos{\\left(\\frac{1}{x}\\right)}$$\n",
    "\n",
    "    $$\\cos{\\left(\\frac{1}{x}\\right)}$$\n",
    "$$\\left\\{\\begin{array}{ll} x-1=2\\\\x+1=4 \\end{array} \\right.$$\n",
    "\n",
    "    $$\\left\\{\\begin{array}{ll} x-1=2\\\\x+1=4 \\end{array} \\right.$$\n",
    "$$\\overbrace{AB^2 + AC^2 = BC^2}^{\\text{Pythagor's theorem}}$$\n",
    "\n",
    "    $$\\overbrace{AB^2 + AC^2 = BC^2}^{\\text{Pythagor's theorem}}$$"
   ]
  },
  {
   "cell_type": "markdown",
   "metadata": {},
   "source": [
    "## Matrix\n",
    "$$\\begin{pmatrix}\n",
    "    a & b & c\\\\\n",
    "    d & e & f\\\\\n",
    "    g & h & i\\\\\n",
    "   \\end{pmatrix}$$\n",
    " \n",
    "    $$\\begin{pmatrix}\n",
    "        a & b & c\\\\\n",
    "        d & e & f\\\\\n",
    "        g & h & i\\\\\n",
    "        \\end{pmatrix}$$\n",
    "$$\\begin{Bmatrix}\n",
    "    a & b & c\\\\\n",
    "    \\vdots & \\vdots & \\vdots\\\\\n",
    "    g & h & i\\\\\n",
    "   \\end{Bmatrix}$$\n",
    "\n",
    "    $$\\begin{Bmatrix}\n",
    "        a & b & c\\\\\n",
    "        \\vdots & \\vdots & \\vdots\\\\\n",
    "        g & h & i\\\\\n",
    "       \\end{Bmatrix}$$"
   ]
  }
 ],
 "metadata": {
  "kernelspec": {
   "display_name": "Python 3",
   "language": "python",
   "name": "python3"
  },
  "language_info": {
   "codemirror_mode": {
    "name": "ipython",
    "version": 3
   },
   "file_extension": ".py",
   "mimetype": "text/x-python",
   "name": "python",
   "nbconvert_exporter": "python",
   "pygments_lexer": "ipython3",
   "version": "3.8.3"
  }
 },
 "nbformat": 4,
 "nbformat_minor": 4
}
