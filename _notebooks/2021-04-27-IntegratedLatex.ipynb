{
 "cells": [
  {
   "cell_type": "markdown",
   "metadata": {},
   "source": [
    "# Integrate LaTeX in Jupyter Notebook\n",
    "> Why not?\n",
    "\n",
    "- toc: true\n",
    "- badges: false\n",
    "- comments: true\n",
    "- author: Cécile Gallioz\n",
    "- categories: [Jupyter, LaTeX]"
   ]
  },
  {
   "cell_type": "markdown",
   "metadata": {},
   "source": [
    "I wanted to try LaTeX because seeing a nice mathematical formula from time to time is nice.\n",
    "\n",
    "Moreover, I realized that all my mathematics books during my studies were written with this tool, the font is very recognizable. So now nostalgia has caught up with me! And the usual desire to discover a new tool.\n",
    "\n",
    "I am installing a tool to write complete documents on my PC.\n",
    "\n",
    "But here, I wanted to test LaTeX in a Jupyter NoteBook."
   ]
  },
  {
   "cell_type": "markdown",
   "metadata": {},
   "source": [
    "Inside of your Markdown cell, you can get a beautiful formula:\n",
    "\n",
    "- integrated formula: $f(x) = 2 \\times x$\n",
    "        \n",
    "        => $f(x) = 2 \\times x$\n",
    "\n",
    "- center formula: $$f(x) = 2 \\times x$$\n",
    "\n",
    "        => $$f(x) = 2 \\times x$$\n"
   ]
  }
 ],
 "metadata": {
  "kernelspec": {
   "display_name": "Python 3",
   "language": "python",
   "name": "python3"
  },
  "language_info": {
   "codemirror_mode": {
    "name": "ipython",
    "version": 3
   },
   "file_extension": ".py",
   "mimetype": "text/x-python",
   "name": "python",
   "nbconvert_exporter": "python",
   "pygments_lexer": "ipython3",
   "version": "3.8.3"
  }
 },
 "nbformat": 4,
 "nbformat_minor": 4
}
