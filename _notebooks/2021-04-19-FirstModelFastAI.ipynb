{
 "cells": [
  {
   "cell_type": "markdown",
   "metadata": {},
   "source": [
    "# Image classifier model - Bears\n",
    "> First model with fastai\n",
    "\n",
    "- toc: true \n",
    "- badges: false\n",
    "- comments: true\n",
    "- author: Cécile Gallioz\n",
    "- categories: [fastAi]"
   ]
  },
  {
   "cell_type": "code",
   "execution_count": 1,
   "metadata": {
    "scrolled": true
   },
   "outputs": [
    {
     "name": "stdout",
     "output_type": "stream",
     "text": [
      "Requirement already satisfied: graphviz in c:\\users\\cecil\\anaconda3\\lib\\site-packages (0.16)\n",
      "Note: you may need to restart the kernel to use updated packages.\n"
     ]
    }
   ],
   "source": [
    "#hide\n",
    "%pip install graphviz"
   ]
  },
  {
   "cell_type": "code",
   "execution_count": 2,
   "metadata": {
    "scrolled": true
   },
   "outputs": [
    {
     "name": "stdout",
     "output_type": "stream",
     "text": [
      "Requirement already satisfied: torch==1.7.1 in c:\\users\\cecil\\anaconda3\\lib\\site-packages (1.7.1+cu110)\n",
      "Requirement already satisfied: torchvision==0.8.2 in c:\\users\\cecil\\anaconda3\\lib\\site-packages (0.8.2+cu110)\n",
      "Requirement already satisfied: torchaudio==0.7.2 in c:\\users\\cecil\\anaconda3\\lib\\site-packages (0.7.2)\n",
      "Requirement already satisfied: typing-extensions in c:\\users\\cecil\\anaconda3\\lib\\site-packages (from torch==1.7.1) (3.7.4.2)\n",
      "Requirement already satisfied: numpy in c:\\users\\cecil\\anaconda3\\lib\\site-packages (from torch==1.7.1) (1.18.5)\n",
      "Requirement already satisfied: pillow>=4.1.1 in c:\\users\\cecil\\anaconda3\\lib\\site-packages (from torchvision==0.8.2) (7.2.0)\n",
      "Note: you may need to restart the kernel to use updated packages.\n"
     ]
    }
   ],
   "source": [
    "#hide\n",
    "%pip install torch==1.7.1 torchvision==0.8.2 torchaudio==0.7.2"
   ]
  },
  {
   "cell_type": "code",
   "execution_count": 3,
   "metadata": {},
   "outputs": [
    {
     "name": "stdout",
     "output_type": "stream",
     "text": [
      "Requirement already satisfied: fastbook in c:\\users\\cecil\\anaconda3\\lib\\site-packages (0.0.16)\n",
      "Requirement already satisfied: nbdev>=0.2.38 in c:\\users\\cecil\\anaconda3\\lib\\site-packages (from fastbook) (1.1.14)\n",
      "Requirement already satisfied: ipywidgets in c:\\users\\cecil\\anaconda3\\lib\\site-packages (from fastbook) (7.5.1)\n",
      "Requirement already satisfied: pandas in c:\\users\\cecil\\anaconda3\\lib\\site-packages (from fastbook) (1.0.5)\n",
      "Requirement already satisfied: fastai>=2.1 in c:\\users\\cecil\\anaconda3\\lib\\site-packages (from fastbook) (2.3.0)\n",
      "Requirement already satisfied: pip in c:\\users\\cecil\\anaconda3\\lib\\site-packages (from fastbook) (20.1.1)\n",
      "Requirement already satisfied: sentencepiece in c:\\users\\cecil\\anaconda3\\lib\\site-packages (from fastbook) (0.1.95)\n",
      "Requirement already satisfied: packaging in c:\\users\\cecil\\anaconda3\\lib\\site-packages (from fastbook) (20.4)\n",
      "Requirement already satisfied: requests in c:\\users\\cecil\\anaconda3\\lib\\site-packages (from fastbook) (2.24.0)\n",
      "Requirement already satisfied: ghapi in c:\\users\\cecil\\anaconda3\\lib\\site-packages (from nbdev>=0.2.38->fastbook) (0.1.16)\n",
      "Requirement already satisfied: nbformat>=4.4.0 in c:\\users\\cecil\\anaconda3\\lib\\site-packages (from nbdev>=0.2.38->fastbook) (5.0.7)\n",
      "Requirement already satisfied: jupyter in c:\\users\\cecil\\anaconda3\\lib\\site-packages (from nbdev>=0.2.38->fastbook) (1.0.0)\n",
      "Requirement already satisfied: fastrelease in c:\\users\\cecil\\anaconda3\\lib\\site-packages (from nbdev>=0.2.38->fastbook) (0.1.11)\n",
      "Requirement already satisfied: jupyter-client<=6.1.12 in c:\\users\\cecil\\anaconda3\\lib\\site-packages (from nbdev>=0.2.38->fastbook) (6.1.6)\n",
      "Requirement already satisfied: nbconvert<6 in c:\\users\\cecil\\anaconda3\\lib\\site-packages (from nbdev>=0.2.38->fastbook) (5.6.1)\n",
      "Requirement already satisfied: ipykernel in c:\\users\\cecil\\anaconda3\\lib\\site-packages (from nbdev>=0.2.38->fastbook) (5.3.2)\n",
      "Requirement already satisfied: pyyaml in c:\\users\\cecil\\anaconda3\\lib\\site-packages (from nbdev>=0.2.38->fastbook) (5.3.1)\n",
      "Requirement already satisfied: fastcore>=1.3.19 in c:\\users\\cecil\\anaconda3\\lib\\site-packages (from nbdev>=0.2.38->fastbook) (1.3.19)\n",
      "Requirement already satisfied: traitlets>=4.3.1 in c:\\users\\cecil\\anaconda3\\lib\\site-packages (from ipywidgets->fastbook) (4.3.3)\n",
      "Requirement already satisfied: ipython>=4.0.0; python_version >= \"3.3\" in c:\\users\\cecil\\anaconda3\\lib\\site-packages (from ipywidgets->fastbook) (7.16.1)\n",
      "Requirement already satisfied: widgetsnbextension~=3.5.0 in c:\\users\\cecil\\anaconda3\\lib\\site-packages (from ipywidgets->fastbook) (3.5.1)\n",
      "Requirement already satisfied: pytz>=2017.2 in c:\\users\\cecil\\anaconda3\\lib\\site-packages (from pandas->fastbook) (2020.1)\n",
      "Requirement already satisfied: numpy>=1.13.3 in c:\\users\\cecil\\anaconda3\\lib\\site-packages (from pandas->fastbook) (1.18.5)\n",
      "Requirement already satisfied: python-dateutil>=2.6.1 in c:\\users\\cecil\\anaconda3\\lib\\site-packages (from pandas->fastbook) (2.8.1)\n",
      "Requirement already satisfied: matplotlib in c:\\users\\cecil\\anaconda3\\lib\\site-packages (from fastai>=2.1->fastbook) (3.2.2)\n",
      "Requirement already satisfied: pillow>6.0.0 in c:\\users\\cecil\\anaconda3\\lib\\site-packages (from fastai>=2.1->fastbook) (7.2.0)\n",
      "Requirement already satisfied: scipy in c:\\users\\cecil\\anaconda3\\lib\\site-packages (from fastai>=2.1->fastbook) (1.5.0)\n",
      "Requirement already satisfied: scikit-learn in c:\\users\\cecil\\anaconda3\\lib\\site-packages (from fastai>=2.1->fastbook) (0.23.1)\n",
      "Requirement already satisfied: torch<1.8,>=1.7.0 in c:\\users\\cecil\\anaconda3\\lib\\site-packages (from fastai>=2.1->fastbook) (1.7.1+cu110)\n",
      "Requirement already satisfied: torchvision<0.9,>=0.8 in c:\\users\\cecil\\anaconda3\\lib\\site-packages (from fastai>=2.1->fastbook) (0.8.2+cu110)\n",
      "Requirement already satisfied: fastprogress>=0.2.4 in c:\\users\\cecil\\anaconda3\\lib\\site-packages (from fastai>=2.1->fastbook) (1.0.0)\n",
      "Requirement already satisfied: spacy<3 in c:\\users\\cecil\\anaconda3\\lib\\site-packages (from fastai>=2.1->fastbook) (2.3.5)\n",
      "Requirement already satisfied: six in c:\\users\\cecil\\anaconda3\\lib\\site-packages (from packaging->fastbook) (1.15.0)\n",
      "Requirement already satisfied: pyparsing>=2.0.2 in c:\\users\\cecil\\anaconda3\\lib\\site-packages (from packaging->fastbook) (2.4.7)\n",
      "Requirement already satisfied: urllib3!=1.25.0,!=1.25.1,<1.26,>=1.21.1 in c:\\users\\cecil\\anaconda3\\lib\\site-packages (from requests->fastbook) (1.25.9)\n",
      "Requirement already satisfied: chardet<4,>=3.0.2 in c:\\users\\cecil\\anaconda3\\lib\\site-packages (from requests->fastbook) (3.0.4)\n",
      "Requirement already satisfied: idna<3,>=2.5 in c:\\users\\cecil\\anaconda3\\lib\\site-packages (from requests->fastbook) (2.10)\n",
      "Requirement already satisfied: certifi>=2017.4.17 in c:\\users\\cecil\\anaconda3\\lib\\site-packages (from requests->fastbook) (2020.6.20)\n",
      "Requirement already satisfied: jupyter-core in c:\\users\\cecil\\anaconda3\\lib\\site-packages (from nbformat>=4.4.0->nbdev>=0.2.38->fastbook) (4.6.3)\n",
      "Requirement already satisfied: ipython-genutils in c:\\users\\cecil\\anaconda3\\lib\\site-packages (from nbformat>=4.4.0->nbdev>=0.2.38->fastbook) (0.2.0)\n",
      "Requirement already satisfied: jsonschema!=2.5.0,>=2.4 in c:\\users\\cecil\\anaconda3\\lib\\site-packages (from nbformat>=4.4.0->nbdev>=0.2.38->fastbook) (3.2.0)\n",
      "Requirement already satisfied: jupyter-console in c:\\users\\cecil\\anaconda3\\lib\\site-packages (from jupyter->nbdev>=0.2.38->fastbook) (6.1.0)\n",
      "Requirement already satisfied: notebook in c:\\users\\cecil\\anaconda3\\lib\\site-packages (from jupyter->nbdev>=0.2.38->fastbook) (6.0.3)\n",
      "Requirement already satisfied: qtconsole in c:\\users\\cecil\\anaconda3\\lib\\site-packages (from jupyter->nbdev>=0.2.38->fastbook) (4.7.5)\n",
      "Requirement already satisfied: tornado>=4.1 in c:\\users\\cecil\\anaconda3\\lib\\site-packages (from jupyter-client<=6.1.12->nbdev>=0.2.38->fastbook) (6.1)\n",
      "Requirement already satisfied: pyzmq>=13 in c:\\users\\cecil\\anaconda3\\lib\\site-packages (from jupyter-client<=6.1.12->nbdev>=0.2.38->fastbook) (19.0.1)\n",
      "Requirement already satisfied: testpath in c:\\users\\cecil\\anaconda3\\lib\\site-packages (from nbconvert<6->nbdev>=0.2.38->fastbook) (0.4.4)\n",
      "Requirement already satisfied: entrypoints>=0.2.2 in c:\\users\\cecil\\anaconda3\\lib\\site-packages (from nbconvert<6->nbdev>=0.2.38->fastbook) (0.3)\n",
      "Requirement already satisfied: mistune<2,>=0.8.1 in c:\\users\\cecil\\anaconda3\\lib\\site-packages (from nbconvert<6->nbdev>=0.2.38->fastbook) (0.8.4)\n",
      "Requirement already satisfied: defusedxml in c:\\users\\cecil\\anaconda3\\lib\\site-packages (from nbconvert<6->nbdev>=0.2.38->fastbook) (0.6.0)\n",
      "Requirement already satisfied: jinja2>=2.4 in c:\\users\\cecil\\anaconda3\\lib\\site-packages (from nbconvert<6->nbdev>=0.2.38->fastbook) (2.11.2)\n",
      "Requirement already satisfied: bleach in c:\\users\\cecil\\anaconda3\\lib\\site-packages (from nbconvert<6->nbdev>=0.2.38->fastbook) (3.1.5)\n",
      "Requirement already satisfied: pygments in c:\\users\\cecil\\anaconda3\\lib\\site-packages (from nbconvert<6->nbdev>=0.2.38->fastbook) (2.6.1)\n",
      "Requirement already satisfied: pandocfilters>=1.4.1 in c:\\users\\cecil\\anaconda3\\lib\\site-packages (from nbconvert<6->nbdev>=0.2.38->fastbook) (1.4.2)\n",
      "Requirement already satisfied: decorator in c:\\users\\cecil\\anaconda3\\lib\\site-packages (from traitlets>=4.3.1->ipywidgets->fastbook) (4.4.2)\n",
      "Requirement already satisfied: jedi>=0.10 in c:\\users\\cecil\\anaconda3\\lib\\site-packages (from ipython>=4.0.0; python_version >= \"3.3\"->ipywidgets->fastbook) (0.17.1)\n",
      "Requirement already satisfied: prompt-toolkit!=3.0.0,!=3.0.1,<3.1.0,>=2.0.0 in c:\\users\\cecil\\anaconda3\\lib\\site-packages (from ipython>=4.0.0; python_version >= \"3.3\"->ipywidgets->fastbook) (3.0.5)\n",
      "Requirement already satisfied: backcall in c:\\users\\cecil\\anaconda3\\lib\\site-packages (from ipython>=4.0.0; python_version >= \"3.3\"->ipywidgets->fastbook) (0.2.0)\n",
      "Requirement already satisfied: setuptools>=18.5 in c:\\users\\cecil\\anaconda3\\lib\\site-packages (from ipython>=4.0.0; python_version >= \"3.3\"->ipywidgets->fastbook) (49.2.0.post20200714)\n",
      "Requirement already satisfied: pickleshare in c:\\users\\cecil\\anaconda3\\lib\\site-packages (from ipython>=4.0.0; python_version >= \"3.3\"->ipywidgets->fastbook) (0.7.5)\n",
      "Requirement already satisfied: colorama; sys_platform == \"win32\" in c:\\users\\cecil\\anaconda3\\lib\\site-packages (from ipython>=4.0.0; python_version >= \"3.3\"->ipywidgets->fastbook) (0.4.3)\n",
      "Requirement already satisfied: cycler>=0.10 in c:\\users\\cecil\\anaconda3\\lib\\site-packages (from matplotlib->fastai>=2.1->fastbook) (0.10.0)\n",
      "Requirement already satisfied: kiwisolver>=1.0.1 in c:\\users\\cecil\\anaconda3\\lib\\site-packages (from matplotlib->fastai>=2.1->fastbook) (1.2.0)\n",
      "Requirement already satisfied: joblib>=0.11 in c:\\users\\cecil\\anaconda3\\lib\\site-packages (from scikit-learn->fastai>=2.1->fastbook) (0.16.0)\n",
      "Requirement already satisfied: threadpoolctl>=2.0.0 in c:\\users\\cecil\\anaconda3\\lib\\site-packages (from scikit-learn->fastai>=2.1->fastbook) (2.1.0)\n",
      "Requirement already satisfied: typing-extensions in c:\\users\\cecil\\anaconda3\\lib\\site-packages (from torch<1.8,>=1.7.0->fastai>=2.1->fastbook) (3.7.4.2)\n",
      "Requirement already satisfied: tqdm<5.0.0,>=4.38.0 in c:\\users\\cecil\\anaconda3\\lib\\site-packages (from spacy<3->fastai>=2.1->fastbook) (4.47.0)\n",
      "Requirement already satisfied: cymem<2.1.0,>=2.0.2 in c:\\users\\cecil\\anaconda3\\lib\\site-packages (from spacy<3->fastai>=2.1->fastbook) (2.0.5)Note: you may need to restart the kernel to use updated packages.\n",
      "\n",
      "Requirement already satisfied: thinc<7.5.0,>=7.4.1 in c:\\users\\cecil\\anaconda3\\lib\\site-packages (from spacy<3->fastai>=2.1->fastbook) (7.4.5)\n",
      "Requirement already satisfied: plac<1.2.0,>=0.9.6 in c:\\users\\cecil\\anaconda3\\lib\\site-packages (from spacy<3->fastai>=2.1->fastbook) (1.1.3)\n",
      "Requirement already satisfied: wasabi<1.1.0,>=0.4.0 in c:\\users\\cecil\\anaconda3\\lib\\site-packages (from spacy<3->fastai>=2.1->fastbook) (0.8.2)\n",
      "Requirement already satisfied: murmurhash<1.1.0,>=0.28.0 in c:\\users\\cecil\\anaconda3\\lib\\site-packages (from spacy<3->fastai>=2.1->fastbook) (1.0.5)\n",
      "Requirement already satisfied: preshed<3.1.0,>=3.0.2 in c:\\users\\cecil\\anaconda3\\lib\\site-packages (from spacy<3->fastai>=2.1->fastbook) (3.0.5)\n",
      "Requirement already satisfied: srsly<1.1.0,>=1.0.2 in c:\\users\\cecil\\anaconda3\\lib\\site-packages (from spacy<3->fastai>=2.1->fastbook) (1.0.5)\n",
      "Requirement already satisfied: catalogue<1.1.0,>=0.0.7 in c:\\users\\cecil\\anaconda3\\lib\\site-packages (from spacy<3->fastai>=2.1->fastbook) (1.0.0)\n",
      "Requirement already satisfied: blis<0.8.0,>=0.4.0 in c:\\users\\cecil\\anaconda3\\lib\\site-packages (from spacy<3->fastai>=2.1->fastbook) (0.7.4)\n",
      "Requirement already satisfied: pywin32>=1.0; sys_platform == \"win32\" in c:\\users\\cecil\\anaconda3\\lib\\site-packages (from jupyter-core->nbformat>=4.4.0->nbdev>=0.2.38->fastbook) (227)\n",
      "Requirement already satisfied: attrs>=17.4.0 in c:\\users\\cecil\\anaconda3\\lib\\site-packages (from jsonschema!=2.5.0,>=2.4->nbformat>=4.4.0->nbdev>=0.2.38->fastbook) (19.3.0)\n",
      "Requirement already satisfied: pyrsistent>=0.14.0 in c:\\users\\cecil\\anaconda3\\lib\\site-packages (from jsonschema!=2.5.0,>=2.4->nbformat>=4.4.0->nbdev>=0.2.38->fastbook) (0.16.0)\n",
      "Requirement already satisfied: terminado>=0.8.1 in c:\\users\\cecil\\anaconda3\\lib\\site-packages (from notebook->jupyter->nbdev>=0.2.38->fastbook) (0.8.3)\n",
      "Requirement already satisfied: Send2Trash in c:\\users\\cecil\\anaconda3\\lib\\site-packages (from notebook->jupyter->nbdev>=0.2.38->fastbook) (1.5.0)\n",
      "Requirement already satisfied: prometheus-client in c:\\users\\cecil\\anaconda3\\lib\\site-packages (from notebook->jupyter->nbdev>=0.2.38->fastbook) (0.8.0)\n",
      "Requirement already satisfied: qtpy in c:\\users\\cecil\\anaconda3\\lib\\site-packages (from qtconsole->jupyter->nbdev>=0.2.38->fastbook) (1.9.0)\n",
      "Requirement already satisfied: MarkupSafe>=0.23 in c:\\users\\cecil\\anaconda3\\lib\\site-packages (from jinja2>=2.4->nbconvert<6->nbdev>=0.2.38->fastbook) (1.1.1)\n",
      "Requirement already satisfied: webencodings in c:\\users\\cecil\\anaconda3\\lib\\site-packages (from bleach->nbconvert<6->nbdev>=0.2.38->fastbook) (0.5.1)\n",
      "Requirement already satisfied: parso<0.8.0,>=0.7.0 in c:\\users\\cecil\\anaconda3\\lib\\site-packages (from jedi>=0.10->ipython>=4.0.0; python_version >= \"3.3\"->ipywidgets->fastbook) (0.7.0)\n",
      "Requirement already satisfied: wcwidth in c:\\users\\cecil\\anaconda3\\lib\\site-packages (from prompt-toolkit!=3.0.0,!=3.0.1,<3.1.0,>=2.0.0->ipython>=4.0.0; python_version >= \"3.3\"->ipywidgets->fastbook) (0.2.5)\n"
     ]
    },
    {
     "name": "stderr",
     "output_type": "stream",
     "text": [
      "C:\\Users\\cecil\\anaconda3\\lib\\site-packages\\torch\\cuda\\__init__.py:52: UserWarning: CUDA initialization: Found no NVIDIA driver on your system. Please check that you have an NVIDIA GPU and installed a driver from http://www.nvidia.com/Download/index.aspx (Triggered internally at  ..\\c10\\cuda\\CUDAFunctions.cpp:100.)\n",
      "  return torch._C._cuda_getDeviceCount() > 0\n"
     ]
    }
   ],
   "source": [
    "#hide\n",
    "%pip install fastbook\n",
    "import fastbook\n",
    "fastbook.setup_book()"
   ]
  },
  {
   "cell_type": "code",
   "execution_count": 4,
   "metadata": {},
   "outputs": [],
   "source": [
    "#hide\n",
    "from fastbook import *\n",
    "from fastai.vision.widgets import *"
   ]
  },
  {
   "cell_type": "markdown",
   "metadata": {},
   "source": [
    "# Importing the pre-trained model"
   ]
  },
  {
   "cell_type": "code",
   "execution_count": 5,
   "metadata": {},
   "outputs": [
    {
     "data": {
      "text/plain": [
       "(#1) [Path('src/exportBear.pkl')]"
      ]
     },
     "execution_count": 5,
     "metadata": {},
     "output_type": "execute_result"
    }
   ],
   "source": [
    "path = Path('./src')\n",
    "path.ls(file_exts='.pkl')"
   ]
  },
  {
   "cell_type": "code",
   "execution_count": 6,
   "metadata": {},
   "outputs": [],
   "source": [
    "#hide\n",
    "import pathlib\n",
    "temp = pathlib.PosixPath\n",
    "pathlib.PosixPath = pathlib.WindowsPath"
   ]
  },
  {
   "cell_type": "code",
   "execution_count": 7,
   "metadata": {},
   "outputs": [],
   "source": [
    "learn_inf = load_learner(path/'exportBear.pkl')"
   ]
  },
  {
   "cell_type": "code",
   "execution_count": 8,
   "metadata": {
    "scrolled": true
   },
   "outputs": [
    {
     "data": {
      "text/plain": [
       "['black', 'grizzly', 'teddy']"
      ]
     },
     "execution_count": 8,
     "metadata": {},
     "output_type": "execute_result"
    }
   ],
   "source": [
    "learn_inf.dls.vocab"
   ]
  },
  {
   "cell_type": "markdown",
   "metadata": {},
   "source": [
    "# Initialization"
   ]
  },
  {
   "cell_type": "code",
   "execution_count": 9,
   "metadata": {},
   "outputs": [],
   "source": [
    "btn_upload = SimpleNamespace(data = ['src/grizzly.jpg'])"
   ]
  },
  {
   "cell_type": "code",
   "execution_count": 10,
   "metadata": {},
   "outputs": [],
   "source": [
    "img = PILImage.create(btn_upload.data[-1])"
   ]
  },
  {
   "cell_type": "code",
   "execution_count": 11,
   "metadata": {},
   "outputs": [],
   "source": [
    "lbl_pred = widgets.Label()\n",
    "lbl_pred.value = \"Your prediction here\""
   ]
  },
  {
   "cell_type": "markdown",
   "metadata": {},
   "source": [
    "# Create the button to add an image to classify"
   ]
  },
  {
   "cell_type": "code",
   "execution_count": 12,
   "metadata": {},
   "outputs": [],
   "source": [
    "btn_upload = widgets.FileUpload()"
   ]
  },
  {
   "cell_type": "markdown",
   "metadata": {},
   "source": [
    "# Create the button \"Classify\" to run the classification"
   ]
  },
  {
   "cell_type": "code",
   "execution_count": 13,
   "metadata": {},
   "outputs": [],
   "source": [
    "btn_run = widgets.Button(description='Classify')"
   ]
  },
  {
   "cell_type": "markdown",
   "metadata": {},
   "source": [
    "# Display the picture add"
   ]
  },
  {
   "cell_type": "code",
   "execution_count": 14,
   "metadata": {},
   "outputs": [],
   "source": [
    "out_pl = widgets.Output()\n",
    "out_pl.clear_output()\n",
    "with out_pl: display(img.to_thumb(128,128))"
   ]
  },
  {
   "cell_type": "markdown",
   "metadata": {},
   "source": [
    "# Create the function that performs the classification from the model on the image"
   ]
  },
  {
   "cell_type": "code",
   "execution_count": 15,
   "metadata": {},
   "outputs": [],
   "source": [
    "def on_click_classify(change):\n",
    "    img = PILImage.create(btn_upload.data[-1])\n",
    "    out_pl.clear_output()\n",
    "    with out_pl: display(img.to_thumb(128,128))\n",
    "    pred,pred_idx,probs = learn_inf.predict(img)\n",
    "    lbl_pred.value = f'Prediction: {pred}; Probability: {probs[pred_idx]:.04f}'\n",
    "\n",
    "btn_run.on_click(on_click_classify)"
   ]
  },
  {
   "cell_type": "markdown",
   "metadata": {},
   "source": [
    "# Create the widget containing all the elements"
   ]
  },
  {
   "cell_type": "code",
   "execution_count": 16,
   "metadata": {},
   "outputs": [
    {
     "data": {
      "application/vnd.jupyter.widget-view+json": {
       "model_id": "37e5295646734fc2a0c4da7c8bbbef34",
       "version_major": 2,
       "version_minor": 0
      },
      "text/plain": [
       "VBox(children=(Label(value='Select your bear!'), FileUpload(value={}, description='Upload'), Button(descriptio…"
      ]
     },
     "metadata": {},
     "output_type": "display_data"
    }
   ],
   "source": [
    "VBox([widgets.Label('Select your bear!'), \n",
    "      btn_upload, btn_run, out_pl, lbl_pred])"
   ]
  },
  {
   "cell_type": "code",
   "execution_count": 17,
   "metadata": {},
   "outputs": [],
   "source": [
    "#hide\n",
    "pathlib.PosixPath = temp"
   ]
  },
  {
   "cell_type": "markdown",
   "metadata": {},
   "source": [
    "## Picture of Initialization\n",
    "![](./src/BearInitialize.jpg)"
   ]
  },
  {
   "cell_type": "markdown",
   "metadata": {},
   "source": [
    "## Picture of classification of a photo\n",
    "![](./src/BearClassify.jpg)"
   ]
  },
  {
   "cell_type": "markdown",
   "metadata": {},
   "source": [
    "# To test my model in real life, I invite you to visit my github and launch this notebook\n",
    "\n",
    "![]({{site.baseurl}}/images/logo.png)[NoteBook on github](https://github.com/CecileGallioz/blog/blob/3423ab31b16f8d61ab47d44d40c13b81fa70f643/_notebooks/2021-04-18-FirstModelFastAI.ipynb)"
   ]
  }
 ],
 "metadata": {
  "kernelspec": {
   "display_name": "Python 3",
   "language": "python",
   "name": "python3"
  },
  "language_info": {
   "codemirror_mode": {
    "name": "ipython",
    "version": 3
   },
   "file_extension": ".py",
   "mimetype": "text/x-python",
   "name": "python",
   "nbconvert_exporter": "python",
   "pygments_lexer": "ipython3",
   "version": "3.8.3"
  },
  "varInspector": {
   "cols": {
    "lenName": 16,
    "lenType": 16,
    "lenVar": 40
   },
   "kernels_config": {
    "python": {
     "delete_cmd_postfix": "",
     "delete_cmd_prefix": "del ",
     "library": "var_list.py",
     "varRefreshCmd": "print(var_dic_list())"
    },
    "r": {
     "delete_cmd_postfix": ") ",
     "delete_cmd_prefix": "rm(",
     "library": "var_list.r",
     "varRefreshCmd": "cat(var_dic_list()) "
    }
   },
   "types_to_exclude": [
    "module",
    "function",
    "builtin_function_or_method",
    "instance",
    "_Feature"
   ],
   "window_display": false
  }
 },
 "nbformat": 4,
 "nbformat_minor": 4
}
