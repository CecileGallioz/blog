{
 "cells": [
  {
   "cell_type": "markdown",
   "metadata": {},
   "source": [
    "# Image classifier model\n",
    "> First model with fastai\n",
    "\n",
    "- toc: true\n",
    "- badges: false\n",
    "- comments: true\n",
    "- author: Cécile Gallioz\n",
    "- categories: [fastai]"
   ]
  },
  {
   "cell_type": "markdown",
   "metadata": {},
   "source": [
    "Here, we are to use a model trained elsewhere (on Google Cloud)."
   ]
  },
  {
   "cell_type": "code",
   "execution_count": 1,
   "metadata": {},
   "outputs": [
    {
     "name": "stdout",
     "output_type": "stream",
     "text": [
      "Requirement already satisfied: graphviz in c:\\users\\cecil\\anaconda3\\lib\\site-packages (0.16)\n",
      "Note: you may need to restart the kernel to use updated packages.\n"
     ]
    }
   ],
   "source": [
    "#hide\n",
    "%pip install graphviz"
   ]
  },
  {
   "cell_type": "code",
   "execution_count": 2,
   "metadata": {
    "scrolled": true
   },
   "outputs": [
    {
     "name": "stdout",
     "output_type": "stream",
     "text": [
      "Requirement already satisfied: torch in c:\\users\\cecil\\anaconda3\\lib\\site-packages (1.8.1)\n",
      "Requirement already satisfied: torchvision in c:\\users\\cecil\\anaconda3\\lib\\site-packages (0.9.1+cpu)\n",
      "Requirement already satisfied: torchaudio in c:\\users\\cecil\\anaconda3\\lib\\site-packages (0.8.1)\n",
      "Requirement already satisfied: typing-extensions in c:\\users\\cecil\\anaconda3\\lib\\site-packages (from torch) (3.10.0.0)\n",
      "Requirement already satisfied: numpy in c:\\users\\cecil\\anaconda3\\lib\\site-packages (from torch) (1.20.3)\n",
      "Requirement already satisfied: pillow>=4.1.1 in c:\\users\\cecil\\anaconda3\\lib\\site-packages (from torchvision) (8.2.0)\n",
      "Note: you may need to restart the kernel to use updated packages.\n"
     ]
    }
   ],
   "source": [
    "#hide\n",
    "%pip install torch torchvision torchaudio"
   ]
  },
  {
   "cell_type": "code",
   "execution_count": 3,
   "metadata": {},
   "outputs": [
    {
     "name": "stdout",
     "output_type": "stream",
     "text": [
      "Requirement already satisfied: fastbook in c:\\users\\cecil\\anaconda3\\lib\\site-packages (0.0.16)\n",
      "Requirement already satisfied: requests in c:\\users\\cecil\\anaconda3\\lib\\site-packages (from fastbook) (2.25.1)\n",
      "Requirement already satisfied: ipywidgets in c:\\users\\cecil\\anaconda3\\lib\\site-packages (from fastbook) (7.6.3)\n",
      "Requirement already satisfied: pandas in c:\\users\\cecil\\anaconda3\\lib\\site-packages (from fastbook) (1.2.4)\n",
      "Requirement already satisfied: nbdev>=0.2.38 in c:\\users\\cecil\\anaconda3\\lib\\site-packages (from fastbook) (1.1.14)\n",
      "Requirement already satisfied: fastai>=2.1 in c:\\users\\cecil\\anaconda3\\lib\\site-packages (from fastbook) (2.3.1)\n",
      "Requirement already satisfied: sentencepiece in c:\\users\\cecil\\anaconda3\\lib\\site-packages (from fastbook) (0.1.95)\n",
      "Requirement already satisfied: packaging in c:\\users\\cecil\\anaconda3\\lib\\site-packages (from fastbook) (20.9)\n",
      "Requirement already satisfied: pip in c:\\users\\cecil\\anaconda3\\lib\\site-packages (from fastbook) (21.0.1)\n",
      "Requirement already satisfied: matplotlib in c:\\users\\cecil\\anaconda3\\lib\\site-packages (from fastai>=2.1->fastbook) (3.4.2)\n",
      "Requirement already satisfied: torchvision>=0.8.2 in c:\\users\\cecil\\anaconda3\\lib\\site-packages (from fastai>=2.1->fastbook) (0.9.1+cpu)\n",
      "Note: you may need to restart the kernel to use updated packages.\n",
      "Requirement already satisfied: pyyaml in c:\\users\\cecil\\anaconda3\\lib\\site-packages (from fastai>=2.1->fastbook) (5.4.1)\n",
      "Requirement already satisfied: spacy<4 in c:\\users\\cecil\\anaconda3\\lib\\site-packages (from fastai>=2.1->fastbook) (2.3.5)\n",
      "Requirement already satisfied: scipy in c:\\users\\cecil\\anaconda3\\lib\\site-packages (from fastai>=2.1->fastbook) (1.6.3)\n",
      "Requirement already satisfied: fastprogress>=0.2.4 in c:\\users\\cecil\\anaconda3\\lib\\site-packages (from fastai>=2.1->fastbook) (1.0.0)\n",
      "Requirement already satisfied: pillow>6.0.0 in c:\\users\\cecil\\anaconda3\\lib\\site-packages (from fastai>=2.1->fastbook) (8.2.0)\n",
      "Requirement already satisfied: scikit-learn in c:\\users\\cecil\\anaconda3\\lib\\site-packages (from fastai>=2.1->fastbook) (0.24.2)\n",
      "Requirement already satisfied: fastcore<1.4,>=1.3.8 in c:\\users\\cecil\\anaconda3\\lib\\site-packages (from fastai>=2.1->fastbook) (1.3.20)\n",
      "Requirement already satisfied: torch<1.9,>=1.7.0 in c:\\users\\cecil\\anaconda3\\lib\\site-packages (from fastai>=2.1->fastbook) (1.8.1)\n",
      "Requirement already satisfied: numpy in c:\\users\\cecil\\anaconda3\\lib\\site-packages (from fastprogress>=0.2.4->fastai>=2.1->fastbook) (1.20.3)\n",
      "Requirement already satisfied: ipykernel in c:\\users\\cecil\\anaconda3\\lib\\site-packages (from nbdev>=0.2.38->fastbook) (5.3.4)\n",
      "Requirement already satisfied: nbformat>=4.4.0 in c:\\users\\cecil\\anaconda3\\lib\\site-packages (from nbdev>=0.2.38->fastbook) (5.1.3)\n",
      "Requirement already satisfied: jupyter in c:\\users\\cecil\\anaconda3\\lib\\site-packages (from nbdev>=0.2.38->fastbook) (1.0.0)\n",
      "Requirement already satisfied: jupyter-client<=6.1.12 in c:\\users\\cecil\\anaconda3\\lib\\site-packages (from nbdev>=0.2.38->fastbook) (6.1.12)\n",
      "Requirement already satisfied: nbconvert<6 in c:\\users\\cecil\\anaconda3\\lib\\site-packages (from nbdev>=0.2.38->fastbook) (5.6.1)\n",
      "Requirement already satisfied: ghapi in c:\\users\\cecil\\anaconda3\\lib\\site-packages (from nbdev>=0.2.38->fastbook) (0.1.16)\n",
      "Requirement already satisfied: fastrelease in c:\\users\\cecil\\anaconda3\\lib\\site-packages (from nbdev>=0.2.38->fastbook) (0.1.11)\n",
      "Requirement already satisfied: pyzmq>=13 in c:\\users\\cecil\\anaconda3\\lib\\site-packages (from jupyter-client<=6.1.12->nbdev>=0.2.38->fastbook) (20.0.0)\n",
      "Requirement already satisfied: traitlets in c:\\users\\cecil\\anaconda3\\lib\\site-packages (from jupyter-client<=6.1.12->nbdev>=0.2.38->fastbook) (5.0.5)\n",
      "Requirement already satisfied: tornado>=4.1 in c:\\users\\cecil\\anaconda3\\lib\\site-packages (from jupyter-client<=6.1.12->nbdev>=0.2.38->fastbook) (6.1)\n",
      "Requirement already satisfied: jupyter-core>=4.6.0 in c:\\users\\cecil\\anaconda3\\lib\\site-packages (from jupyter-client<=6.1.12->nbdev>=0.2.38->fastbook) (4.7.1)\n",
      "Requirement already satisfied: python-dateutil>=2.1 in c:\\users\\cecil\\anaconda3\\lib\\site-packages (from jupyter-client<=6.1.12->nbdev>=0.2.38->fastbook) (2.8.1)\n",
      "Requirement already satisfied: pywin32>=1.0 in c:\\users\\cecil\\anaconda3\\lib\\site-packages (from jupyter-core>=4.6.0->jupyter-client<=6.1.12->nbdev>=0.2.38->fastbook) (227)\n",
      "Requirement already satisfied: pandocfilters>=1.4.1 in c:\\users\\cecil\\anaconda3\\lib\\site-packages (from nbconvert<6->nbdev>=0.2.38->fastbook) (1.4.3)\n",
      "Requirement already satisfied: mistune<2,>=0.8.1 in c:\\users\\cecil\\anaconda3\\lib\\site-packages (from nbconvert<6->nbdev>=0.2.38->fastbook) (0.8.4)\n",
      "Requirement already satisfied: pygments in c:\\users\\cecil\\anaconda3\\lib\\site-packages (from nbconvert<6->nbdev>=0.2.38->fastbook) (2.8.1)\n",
      "Requirement already satisfied: entrypoints>=0.2.2 in c:\\users\\cecil\\anaconda3\\lib\\site-packages (from nbconvert<6->nbdev>=0.2.38->fastbook) (0.3)\n",
      "Requirement already satisfied: defusedxml in c:\\users\\cecil\\anaconda3\\lib\\site-packages (from nbconvert<6->nbdev>=0.2.38->fastbook) (0.7.1)\n",
      "Requirement already satisfied: bleach in c:\\users\\cecil\\anaconda3\\lib\\site-packages (from nbconvert<6->nbdev>=0.2.38->fastbook) (3.3.0)\n",
      "Requirement already satisfied: jinja2>=2.4 in c:\\users\\cecil\\anaconda3\\lib\\site-packages (from nbconvert<6->nbdev>=0.2.38->fastbook) (3.0.0)\n",
      "Requirement already satisfied: testpath in c:\\users\\cecil\\anaconda3\\lib\\site-packages (from nbconvert<6->nbdev>=0.2.38->fastbook) (0.4.4)\n",
      "Requirement already satisfied: MarkupSafe>=2.0.0rc2 in c:\\users\\cecil\\anaconda3\\lib\\site-packages (from jinja2>=2.4->nbconvert<6->nbdev>=0.2.38->fastbook) (2.0.0)\n",
      "Requirement already satisfied: ipython-genutils in c:\\users\\cecil\\anaconda3\\lib\\site-packages (from nbformat>=4.4.0->nbdev>=0.2.38->fastbook) (0.2.0)\n",
      "Requirement already satisfied: jsonschema!=2.5.0,>=2.4 in c:\\users\\cecil\\anaconda3\\lib\\site-packages (from nbformat>=4.4.0->nbdev>=0.2.38->fastbook) (3.2.0)\n",
      "Requirement already satisfied: pyrsistent>=0.14.0 in c:\\users\\cecil\\anaconda3\\lib\\site-packages (from jsonschema!=2.5.0,>=2.4->nbformat>=4.4.0->nbdev>=0.2.38->fastbook) (0.17.3)\n",
      "Requirement already satisfied: six>=1.11.0 in c:\\users\\cecil\\anaconda3\\lib\\site-packages (from jsonschema!=2.5.0,>=2.4->nbformat>=4.4.0->nbdev>=0.2.38->fastbook) (1.15.0)\n",
      "Requirement already satisfied: setuptools in c:\\users\\cecil\\anaconda3\\lib\\site-packages (from jsonschema!=2.5.0,>=2.4->nbformat>=4.4.0->nbdev>=0.2.38->fastbook) (52.0.0.post20210125)\n",
      "Requirement already satisfied: attrs>=17.4.0 in c:\\users\\cecil\\anaconda3\\lib\\site-packages (from jsonschema!=2.5.0,>=2.4->nbformat>=4.4.0->nbdev>=0.2.38->fastbook) (21.2.0)\n",
      "Requirement already satisfied: wasabi<1.1.0,>=0.4.0 in c:\\users\\cecil\\anaconda3\\lib\\site-packages (from spacy<4->fastai>=2.1->fastbook) (0.8.2)\n",
      "Requirement already satisfied: catalogue<1.1.0,>=0.0.7 in c:\\users\\cecil\\anaconda3\\lib\\site-packages (from spacy<4->fastai>=2.1->fastbook) (1.0.0)\n",
      "Requirement already satisfied: thinc<7.5.0,>=7.4.1 in c:\\users\\cecil\\anaconda3\\lib\\site-packages (from spacy<4->fastai>=2.1->fastbook) (7.4.5)\n",
      "Requirement already satisfied: plac<1.2.0,>=0.9.6 in c:\\users\\cecil\\anaconda3\\lib\\site-packages (from spacy<4->fastai>=2.1->fastbook) (1.1.3)\n",
      "Requirement already satisfied: blis<0.8.0,>=0.4.0 in c:\\users\\cecil\\anaconda3\\lib\\site-packages (from spacy<4->fastai>=2.1->fastbook) (0.7.4)\n",
      "Requirement already satisfied: murmurhash<1.1.0,>=0.28.0 in c:\\users\\cecil\\anaconda3\\lib\\site-packages (from spacy<4->fastai>=2.1->fastbook) (1.0.5)\n",
      "Requirement already satisfied: cymem<2.1.0,>=2.0.2 in c:\\users\\cecil\\anaconda3\\lib\\site-packages (from spacy<4->fastai>=2.1->fastbook) (2.0.5)\n",
      "Requirement already satisfied: tqdm<5.0.0,>=4.38.0 in c:\\users\\cecil\\anaconda3\\lib\\site-packages (from spacy<4->fastai>=2.1->fastbook) (4.59.0)\n",
      "Requirement already satisfied: preshed<3.1.0,>=3.0.2 in c:\\users\\cecil\\anaconda3\\lib\\site-packages (from spacy<4->fastai>=2.1->fastbook) (3.0.5)\n",
      "Requirement already satisfied: srsly<1.1.0,>=1.0.2 in c:\\users\\cecil\\anaconda3\\lib\\site-packages (from spacy<4->fastai>=2.1->fastbook) (1.0.5)\n",
      "Requirement already satisfied: urllib3<1.27,>=1.21.1 in c:\\users\\cecil\\anaconda3\\lib\\site-packages (from requests->fastbook) (1.26.4)\n",
      "Requirement already satisfied: idna<3,>=2.5 in c:\\users\\cecil\\anaconda3\\lib\\site-packages (from requests->fastbook) (2.10)\n",
      "Requirement already satisfied: certifi>=2017.4.17 in c:\\users\\cecil\\anaconda3\\lib\\site-packages (from requests->fastbook) (2020.12.5)\n",
      "Requirement already satisfied: chardet<5,>=3.0.2 in c:\\users\\cecil\\anaconda3\\lib\\site-packages (from requests->fastbook) (4.0.0)\n",
      "Requirement already satisfied: typing-extensions in c:\\users\\cecil\\anaconda3\\lib\\site-packages (from torch<1.9,>=1.7.0->fastai>=2.1->fastbook) (3.10.0.0)\n",
      "Requirement already satisfied: webencodings in c:\\users\\cecil\\anaconda3\\lib\\site-packages (from bleach->nbconvert<6->nbdev>=0.2.38->fastbook) (0.5.1)\n",
      "Requirement already satisfied: ipython>=5.0.0 in c:\\users\\cecil\\anaconda3\\lib\\site-packages (from ipykernel->nbdev>=0.2.38->fastbook) (7.23.1)\n",
      "Requirement already satisfied: prompt-toolkit!=3.0.0,!=3.0.1,<3.1.0,>=2.0.0 in c:\\users\\cecil\\anaconda3\\lib\\site-packages (from ipython>=5.0.0->ipykernel->nbdev>=0.2.38->fastbook) (3.0.17)\n",
      "Requirement already satisfied: decorator in c:\\users\\cecil\\anaconda3\\lib\\site-packages (from ipython>=5.0.0->ipykernel->nbdev>=0.2.38->fastbook) (5.0.9)\n",
      "Requirement already satisfied: jedi>=0.16 in c:\\users\\cecil\\anaconda3\\lib\\site-packages (from ipython>=5.0.0->ipykernel->nbdev>=0.2.38->fastbook) (0.17.0)\n",
      "Requirement already satisfied: backcall in c:\\users\\cecil\\anaconda3\\lib\\site-packages (from ipython>=5.0.0->ipykernel->nbdev>=0.2.38->fastbook) (0.2.0)\n",
      "Requirement already satisfied: colorama in c:\\users\\cecil\\anaconda3\\lib\\site-packages (from ipython>=5.0.0->ipykernel->nbdev>=0.2.38->fastbook) (0.4.4)\n",
      "Requirement already satisfied: pickleshare in c:\\users\\cecil\\anaconda3\\lib\\site-packages (from ipython>=5.0.0->ipykernel->nbdev>=0.2.38->fastbook) (0.7.5)\n",
      "Requirement already satisfied: matplotlib-inline in c:\\users\\cecil\\anaconda3\\lib\\site-packages (from ipython>=5.0.0->ipykernel->nbdev>=0.2.38->fastbook) (0.1.2)\n",
      "Requirement already satisfied: parso>=0.7.0 in c:\\users\\cecil\\anaconda3\\lib\\site-packages (from jedi>=0.16->ipython>=5.0.0->ipykernel->nbdev>=0.2.38->fastbook) (0.8.2)\n",
      "Requirement already satisfied: wcwidth in c:\\users\\cecil\\anaconda3\\lib\\site-packages (from prompt-toolkit!=3.0.0,!=3.0.1,<3.1.0,>=2.0.0->ipython>=5.0.0->ipykernel->nbdev>=0.2.38->fastbook) (0.2.5)\n",
      "Requirement already satisfied: widgetsnbextension~=3.5.0 in c:\\users\\cecil\\anaconda3\\lib\\site-packages (from ipywidgets->fastbook) (3.5.1)\n",
      "Requirement already satisfied: jupyterlab-widgets>=1.0.0 in c:\\users\\cecil\\anaconda3\\lib\\site-packages (from ipywidgets->fastbook) (1.0.0)\n",
      "Requirement already satisfied: notebook>=4.4.1 in c:\\users\\cecil\\anaconda3\\lib\\site-packages (from widgetsnbextension~=3.5.0->ipywidgets->fastbook) (6.3.0)\n",
      "Requirement already satisfied: argon2-cffi in c:\\users\\cecil\\anaconda3\\lib\\site-packages (from notebook>=4.4.1->widgetsnbextension~=3.5.0->ipywidgets->fastbook) (20.1.0)\n",
      "Requirement already satisfied: Send2Trash>=1.5.0 in c:\\users\\cecil\\anaconda3\\lib\\site-packages (from notebook>=4.4.1->widgetsnbextension~=3.5.0->ipywidgets->fastbook) (1.5.0)\n",
      "Requirement already satisfied: terminado>=0.8.3 in c:\\users\\cecil\\anaconda3\\lib\\site-packages (from notebook>=4.4.1->widgetsnbextension~=3.5.0->ipywidgets->fastbook) (0.9.4)\n",
      "Requirement already satisfied: prometheus-client in c:\\users\\cecil\\anaconda3\\lib\\site-packages (from notebook>=4.4.1->widgetsnbextension~=3.5.0->ipywidgets->fastbook) (0.10.1)\n",
      "Requirement already satisfied: pywinpty>=0.5 in c:\\users\\cecil\\anaconda3\\lib\\site-packages (from terminado>=0.8.3->notebook>=4.4.1->widgetsnbextension~=3.5.0->ipywidgets->fastbook) (0.5.7)\n",
      "Requirement already satisfied: cffi>=1.0.0 in c:\\users\\cecil\\anaconda3\\lib\\site-packages (from argon2-cffi->notebook>=4.4.1->widgetsnbextension~=3.5.0->ipywidgets->fastbook) (1.14.5)\n",
      "Requirement already satisfied: pycparser in c:\\users\\cecil\\anaconda3\\lib\\site-packages (from cffi>=1.0.0->argon2-cffi->notebook>=4.4.1->widgetsnbextension~=3.5.0->ipywidgets->fastbook) (2.20)\n",
      "Requirement already satisfied: qtconsole in c:\\users\\cecil\\anaconda3\\lib\\site-packages (from jupyter->nbdev>=0.2.38->fastbook) (5.1.0)\n",
      "Requirement already satisfied: jupyter-console in c:\\users\\cecil\\anaconda3\\lib\\site-packages (from jupyter->nbdev>=0.2.38->fastbook) (6.4.0)\n",
      "Requirement already satisfied: cycler>=0.10 in c:\\users\\cecil\\anaconda3\\lib\\site-packages (from matplotlib->fastai>=2.1->fastbook) (0.10.0)\n",
      "Requirement already satisfied: kiwisolver>=1.0.1 in c:\\users\\cecil\\anaconda3\\lib\\site-packages (from matplotlib->fastai>=2.1->fastbook) (1.3.1)\n",
      "Requirement already satisfied: pyparsing>=2.2.1 in c:\\users\\cecil\\anaconda3\\lib\\site-packages (from matplotlib->fastai>=2.1->fastbook) (2.4.7)\n",
      "Requirement already satisfied: pytz>=2017.3 in c:\\users\\cecil\\anaconda3\\lib\\site-packages (from pandas->fastbook) (2021.1)\n",
      "Requirement already satisfied: qtpy in c:\\users\\cecil\\anaconda3\\lib\\site-packages (from qtconsole->jupyter->nbdev>=0.2.38->fastbook) (1.9.0)\n",
      "Requirement already satisfied: threadpoolctl>=2.0.0 in c:\\users\\cecil\\anaconda3\\lib\\site-packages (from scikit-learn->fastai>=2.1->fastbook) (2.1.0)\n",
      "Requirement already satisfied: joblib>=0.11 in c:\\users\\cecil\\anaconda3\\lib\\site-packages (from scikit-learn->fastai>=2.1->fastbook) (1.0.1)\n"
     ]
    }
   ],
   "source": [
    "#hide\n",
    "%pip install fastbook\n",
    "import fastbook\n",
    "fastbook.setup_book()"
   ]
  },
  {
   "cell_type": "code",
   "execution_count": 4,
   "metadata": {},
   "outputs": [],
   "source": [
    "#hide\n",
    "from fastbook import *\n",
    "from fastai.vision.widgets import *"
   ]
  },
  {
   "cell_type": "markdown",
   "metadata": {},
   "source": [
    "## Importing the pre-trained model"
   ]
  },
  {
   "cell_type": "code",
   "execution_count": 5,
   "metadata": {},
   "outputs": [
    {
     "data": {
      "text/plain": [
       "(#1) [Path('src/exportBear.pkl')]"
      ]
     },
     "execution_count": 5,
     "metadata": {},
     "output_type": "execute_result"
    }
   ],
   "source": [
    "path = Path('./src')\n",
    "path.ls(file_exts='.pkl')"
   ]
  },
  {
   "cell_type": "markdown",
   "metadata": {},
   "source": [
    "> Note :use the one cell below if you are on Windows"
   ]
  },
  {
   "cell_type": "code",
   "execution_count": 6,
   "metadata": {},
   "outputs": [],
   "source": [
    "import pathlib\n",
    "temp = pathlib.PosixPath\n",
    "pathlib.PosixPath = pathlib.WindowsPath"
   ]
  },
  {
   "cell_type": "code",
   "execution_count": 7,
   "metadata": {},
   "outputs": [],
   "source": [
    "learn_inf = load_learner(path/'exportBear.pkl')"
   ]
  },
  {
   "cell_type": "code",
   "execution_count": 8,
   "metadata": {},
   "outputs": [
    {
     "data": {
      "text/plain": [
       "['black', 'grizzly', 'teddy']"
      ]
     },
     "execution_count": 8,
     "metadata": {},
     "output_type": "execute_result"
    }
   ],
   "source": [
    "learn_inf.dls.vocab"
   ]
  },
  {
   "cell_type": "markdown",
   "metadata": {},
   "source": [
    "## Initialization"
   ]
  },
  {
   "cell_type": "code",
   "execution_count": 9,
   "metadata": {},
   "outputs": [],
   "source": [
    "btn_upload = SimpleNamespace(data = ['src/grizzly.jpg'])"
   ]
  },
  {
   "cell_type": "code",
   "execution_count": 10,
   "metadata": {},
   "outputs": [],
   "source": [
    "img = PILImage.create(btn_upload.data[-1])"
   ]
  },
  {
   "cell_type": "code",
   "execution_count": 11,
   "metadata": {},
   "outputs": [],
   "source": [
    "lbl_pred = widgets.Label()\n",
    "lbl_pred.value = \"Your prediction here\""
   ]
  },
  {
   "cell_type": "markdown",
   "metadata": {},
   "source": [
    "## Create the button to add an image to classify"
   ]
  },
  {
   "cell_type": "code",
   "execution_count": 12,
   "metadata": {},
   "outputs": [],
   "source": [
    "btn_upload = widgets.FileUpload()"
   ]
  },
  {
   "cell_type": "markdown",
   "metadata": {},
   "source": [
    "## Create the button \"Classify\" to run the classification"
   ]
  },
  {
   "cell_type": "code",
   "execution_count": 13,
   "metadata": {},
   "outputs": [],
   "source": [
    "btn_run = widgets.Button(description='Classify')"
   ]
  },
  {
   "cell_type": "markdown",
   "metadata": {},
   "source": [
    "## Display the added image"
   ]
  },
  {
   "cell_type": "code",
   "execution_count": 14,
   "metadata": {},
   "outputs": [],
   "source": [
    "out_pl = widgets.Output()\n",
    "out_pl.clear_output()\n",
    "with out_pl: display(img.to_thumb(128,128))"
   ]
  },
  {
   "cell_type": "markdown",
   "metadata": {},
   "source": [
    "## Create the function that performs the classification from the model on the image"
   ]
  },
  {
   "cell_type": "code",
   "execution_count": 15,
   "metadata": {},
   "outputs": [],
   "source": [
    "def on_click_classify(change):\n",
    "    img = PILImage.create(btn_upload.data[-1])\n",
    "    out_pl.clear_output()\n",
    "    with out_pl: display(img.to_thumb(128,128))\n",
    "    pred,pred_idx,probs = learn_inf.predict(img)\n",
    "    lbl_pred.value = f'Prediction: {pred}; Probability: {probs[pred_idx]:.04f}'\n",
    "\n",
    "btn_run.on_click(on_click_classify)"
   ]
  },
  {
   "cell_type": "markdown",
   "metadata": {},
   "source": [
    "## Create the widget containing all the elements"
   ]
  },
  {
   "cell_type": "code",
   "execution_count": 16,
   "metadata": {},
   "outputs": [
    {
     "data": {
      "application/vnd.jupyter.widget-view+json": {
       "model_id": "ac57c804570e4b27a083f970da526708",
       "version_major": 2,
       "version_minor": 0
      },
      "text/plain": [
       "VBox(children=(Label(value='Select your bear!'), FileUpload(value={}, description='Upload'), Button(descriptio…"
      ]
     },
     "metadata": {},
     "output_type": "display_data"
    }
   ],
   "source": [
    "VBox([widgets.Label('Select your bear!'), \n",
    "      btn_upload, btn_run, out_pl, lbl_pred])"
   ]
  },
  {
   "cell_type": "markdown",
   "metadata": {},
   "source": [
    "> Note :use the one cell below if you are on Windows"
   ]
  },
  {
   "cell_type": "code",
   "execution_count": 17,
   "metadata": {},
   "outputs": [],
   "source": [
    "pathlib.PosixPath = temp"
   ]
  },
  {
   "cell_type": "markdown",
   "metadata": {},
   "source": [
    "> Note: To test my model in real life, I invite you to visit my github and launch [this notebook](https://github.com/CecileGallioz/blog/blob/1c65e96fce3a2b74f6c30a1cb3be278525324756/_notebooks/2021-04-19-ModelClassifierPicture.ipyb.ipynb) on your own environment."
   ]
  },
  {
   "cell_type": "markdown",
   "metadata": {},
   "source": [
    "## Picture of Initialization\n",
    "![](./src/BearInitialize.jpg)"
   ]
  },
  {
   "cell_type": "markdown",
   "metadata": {},
   "source": [
    "## Picture of classification of a photo\n",
    "![](./src/BearClassify.jpg)"
   ]
  }
 ],
 "metadata": {
  "kernelspec": {
   "display_name": "Python 3",
   "language": "python",
   "name": "python3"
  },
  "language_info": {
   "codemirror_mode": {
    "name": "ipython",
    "version": 3
   },
   "file_extension": ".py",
   "mimetype": "text/x-python",
   "name": "python",
   "nbconvert_exporter": "python",
   "pygments_lexer": "ipython3",
   "version": "3.8.8"
  }
 },
 "nbformat": 4,
 "nbformat_minor": 4
}
