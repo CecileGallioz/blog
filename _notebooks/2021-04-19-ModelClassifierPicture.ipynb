{
 "cells": [
  {
   "cell_type": "markdown",
   "metadata": {},
   "source": [
    "# Image classifier model\n",
    "> First model with fastai\n",
    "\n",
    "- toc: true\n",
    "- badges: false\n",
    "- comments: true\n",
    "- author: Cécile Gallioz\n",
    "- categories: [fastai]"
   ]
  },
  {
   "cell_type": "markdown",
   "metadata": {},
   "source": [
    "Here, we are to use a model trained elsewhere (on Google Cloud)."
   ]
  },
  {
   "cell_type": "code",
   "execution_count": 1,
   "metadata": {},
   "outputs": [
    {
     "name": "stdout",
     "output_type": "stream",
     "text": [
      "Requirement already satisfied: graphviz in c:\\users\\cecil\\anaconda3\\lib\\site-packages (0.16)\n",
      "Note: you may need to restart the kernel to use updated packages.\n"
     ]
    }
   ],
   "source": [
    "#hide\n",
    "%pip install graphviz"
   ]
  },
  {
   "cell_type": "code",
   "execution_count": 2,
   "metadata": {
    "scrolled": true
   },
   "outputs": [
    {
     "name": "stdout",
     "output_type": "stream",
     "text": [
      "Requirement already satisfied: torch in c:\\users\\cecil\\anaconda3\\lib\\site-packages (1.8.0)\n",
      "Requirement already satisfied: torchvision in c:\\users\\cecil\\anaconda3\\lib\\site-packages (0.9.1+cpu)\n",
      "Requirement already satisfied: torchaudio in c:\\users\\cecil\\anaconda3\\lib\\site-packages (0.8.1)\n",
      "Requirement already satisfied: typing-extensions in c:\\users\\cecil\\anaconda3\\lib\\site-packages (from torch) (3.7.4.2)\n",
      "Requirement already satisfied: numpy in c:\\users\\cecil\\anaconda3\\lib\\site-packages (from torch) (1.18.5)\n",
      "Requirement already satisfied: pillow>=4.1.1 in c:\\users\\cecil\\anaconda3\\lib\\site-packages (from torchvision) (7.2.0)\n",
      "Note: you may need to restart the kernel to use updated packages.\n"
     ]
    }
   ],
   "source": [
    "#hide\n",
    "%pip install torch torchvision torchaudio"
   ]
  },
  {
   "cell_type": "code",
   "execution_count": 3,
   "metadata": {},
   "outputs": [
    {
     "name": "stderr",
     "output_type": "stream",
     "text": [
      "ERROR: Could not find a version that satisfies the requirement torchvision<0.9,>=0.8 (from fastai>=2.1->fastbook) (from versions: 0.1.6, 0.1.7, 0.1.8, 0.1.9, 0.2.0, 0.2.1, 0.2.2, 0.2.2.post2, 0.2.2.post3, 0.5.0, 0.9.0, 0.9.1)\n",
      "ERROR: No matching distribution found for torchvision<0.9,>=0.8 (from fastai>=2.1->fastbook)\n"
     ]
    },
    {
     "name": "stdout",
     "output_type": "stream",
     "text": [
      "Note: you may need to restart the kernel to use updated packages.Requirement already satisfied: fastbook in c:\\users\\cecil\\anaconda3\\lib\\site-packages (0.0.16)\n",
      "Requirement already satisfied: packaging in c:\\users\\cecil\\anaconda3\\lib\\site-packages (from fastbook) (20.4)\n",
      "Requirement already satisfied: ipywidgets in c:\\users\\cecil\\anaconda3\\lib\\site-packages (from fastbook) (7.5.1)\n",
      "\n",
      "Requirement already satisfied: nbdev>=0.2.38 in c:\\users\\cecil\\anaconda3\\lib\\site-packages (from fastbook) (1.1.14)\n",
      "Requirement already satisfied: pandas in c:\\users\\cecil\\anaconda3\\lib\\site-packages (from fastbook) (1.0.5)\n",
      "Requirement already satisfied: requests in c:\\users\\cecil\\anaconda3\\lib\\site-packages (from fastbook) (2.24.0)\n",
      "Requirement already satisfied: sentencepiece in c:\\users\\cecil\\anaconda3\\lib\\site-packages (from fastbook) (0.1.95)\n",
      "Requirement already satisfied: fastai>=2.1 in c:\\users\\cecil\\anaconda3\\lib\\site-packages (from fastbook) (2.3.0)\n",
      "Requirement already satisfied: pip in c:\\users\\cecil\\anaconda3\\lib\\site-packages (from fastbook) (20.1.1)\n",
      "Requirement already satisfied: six in c:\\users\\cecil\\anaconda3\\lib\\site-packages (from packaging->fastbook) (1.15.0)\n",
      "Requirement already satisfied: pyparsing>=2.0.2 in c:\\users\\cecil\\anaconda3\\lib\\site-packages (from packaging->fastbook) (2.4.7)\n",
      "Requirement already satisfied: traitlets>=4.3.1 in c:\\users\\cecil\\anaconda3\\lib\\site-packages (from ipywidgets->fastbook) (4.3.3)\n",
      "Requirement already satisfied: widgetsnbextension~=3.5.0 in c:\\users\\cecil\\anaconda3\\lib\\site-packages (from ipywidgets->fastbook) (3.5.1)\n",
      "Requirement already satisfied: nbformat>=4.2.0 in c:\\users\\cecil\\anaconda3\\lib\\site-packages (from ipywidgets->fastbook) (5.0.7)\n",
      "Requirement already satisfied: ipykernel>=4.5.1 in c:\\users\\cecil\\anaconda3\\lib\\site-packages (from ipywidgets->fastbook) (5.3.2)\n",
      "Requirement already satisfied: ipython>=4.0.0; python_version >= \"3.3\" in c:\\users\\cecil\\anaconda3\\lib\\site-packages (from ipywidgets->fastbook) (7.16.1)\n",
      "Requirement already satisfied: jupyter-client<=6.1.12 in c:\\users\\cecil\\anaconda3\\lib\\site-packages (from nbdev>=0.2.38->fastbook) (6.1.6)\n",
      "Requirement already satisfied: fastrelease in c:\\users\\cecil\\anaconda3\\lib\\site-packages (from nbdev>=0.2.38->fastbook) (0.1.11)\n",
      "Requirement already satisfied: fastcore>=1.3.19 in c:\\users\\cecil\\anaconda3\\lib\\site-packages (from nbdev>=0.2.38->fastbook) (1.3.19)\n",
      "Requirement already satisfied: pyyaml in c:\\users\\cecil\\anaconda3\\lib\\site-packages (from nbdev>=0.2.38->fastbook) (5.3.1)\n",
      "Requirement already satisfied: jupyter in c:\\users\\cecil\\anaconda3\\lib\\site-packages (from nbdev>=0.2.38->fastbook) (1.0.0)\n",
      "Requirement already satisfied: nbconvert<6 in c:\\users\\cecil\\anaconda3\\lib\\site-packages (from nbdev>=0.2.38->fastbook) (5.6.1)\n",
      "Requirement already satisfied: ghapi in c:\\users\\cecil\\anaconda3\\lib\\site-packages (from nbdev>=0.2.38->fastbook) (0.1.16)\n",
      "Requirement already satisfied: python-dateutil>=2.6.1 in c:\\users\\cecil\\anaconda3\\lib\\site-packages (from pandas->fastbook) (2.8.1)\n",
      "Requirement already satisfied: numpy>=1.13.3 in c:\\users\\cecil\\anaconda3\\lib\\site-packages (from pandas->fastbook) (1.18.5)\n",
      "Requirement already satisfied: pytz>=2017.2 in c:\\users\\cecil\\anaconda3\\lib\\site-packages (from pandas->fastbook) (2020.1)\n",
      "Requirement already satisfied: chardet<4,>=3.0.2 in c:\\users\\cecil\\anaconda3\\lib\\site-packages (from requests->fastbook) (3.0.4)\n",
      "Requirement already satisfied: idna<3,>=2.5 in c:\\users\\cecil\\anaconda3\\lib\\site-packages (from requests->fastbook) (2.10)\n",
      "Requirement already satisfied: urllib3!=1.25.0,!=1.25.1,<1.26,>=1.21.1 in c:\\users\\cecil\\anaconda3\\lib\\site-packages (from requests->fastbook) (1.25.9)\n",
      "Requirement already satisfied: certifi>=2017.4.17 in c:\\users\\cecil\\anaconda3\\lib\\site-packages (from requests->fastbook) (2020.6.20)\n",
      "Requirement already satisfied: spacy<3 in c:\\users\\cecil\\anaconda3\\lib\\site-packages (from fastai>=2.1->fastbook) (2.3.5)\n",
      "Requirement already satisfied: pillow>6.0.0 in c:\\users\\cecil\\anaconda3\\lib\\site-packages (from fastai>=2.1->fastbook) (7.2.0)\n",
      "Requirement already satisfied: scikit-learn in c:\\users\\cecil\\anaconda3\\lib\\site-packages (from fastai>=2.1->fastbook) (0.23.1)\n",
      "Requirement already satisfied: fastprogress>=0.2.4 in c:\\users\\cecil\\anaconda3\\lib\\site-packages (from fastai>=2.1->fastbook) (1.0.0)\n",
      "Requirement already satisfied: matplotlib in c:\\users\\cecil\\anaconda3\\lib\\site-packages (from fastai>=2.1->fastbook) (3.2.2)\n",
      "Requirement already satisfied: scipy in c:\\users\\cecil\\anaconda3\\lib\\site-packages (from fastai>=2.1->fastbook) (1.5.0)\n",
      "Collecting torch<1.8,>=1.7.0\n",
      "  Using cached torch-1.7.1-cp38-cp38-win_amd64.whl (184.0 MB)\n"
     ]
    }
   ],
   "source": [
    "#hide\n",
    "%pip install fastbook\n",
    "import fastbook\n",
    "fastbook.setup_book()"
   ]
  },
  {
   "cell_type": "code",
   "execution_count": 4,
   "metadata": {},
   "outputs": [],
   "source": [
    "#hide\n",
    "from fastbook import *\n",
    "from fastai.vision.widgets import *"
   ]
  },
  {
   "cell_type": "markdown",
   "metadata": {},
   "source": [
    "## Importing the pre-trained model"
   ]
  },
  {
   "cell_type": "code",
   "execution_count": 5,
   "metadata": {},
   "outputs": [
    {
     "data": {
      "text/plain": [
       "(#1) [Path('src/exportBear.pkl')]"
      ]
     },
     "execution_count": 5,
     "metadata": {},
     "output_type": "execute_result"
    }
   ],
   "source": [
    "path = Path('./src')\n",
    "path.ls(file_exts='.pkl')"
   ]
  },
  {
   "cell_type": "markdown",
   "metadata": {},
   "source": [
    "> Note :use the one cell below if you are on Windows"
   ]
  },
  {
   "cell_type": "code",
   "execution_count": 6,
   "metadata": {},
   "outputs": [],
   "source": [
    "import pathlib\n",
    "temp = pathlib.PosixPath\n",
    "pathlib.PosixPath = pathlib.WindowsPath"
   ]
  },
  {
   "cell_type": "code",
   "execution_count": 7,
   "metadata": {},
   "outputs": [],
   "source": [
    "learn_inf = load_learner(path/'exportBear.pkl')"
   ]
  },
  {
   "cell_type": "code",
   "execution_count": 8,
   "metadata": {},
   "outputs": [
    {
     "data": {
      "text/plain": [
       "['black', 'grizzly', 'teddy']"
      ]
     },
     "execution_count": 8,
     "metadata": {},
     "output_type": "execute_result"
    }
   ],
   "source": [
    "learn_inf.dls.vocab"
   ]
  },
  {
   "cell_type": "markdown",
   "metadata": {},
   "source": [
    "## Initialization"
   ]
  },
  {
   "cell_type": "code",
   "execution_count": 9,
   "metadata": {},
   "outputs": [],
   "source": [
    "btn_upload = SimpleNamespace(data = ['src/grizzly.jpg'])"
   ]
  },
  {
   "cell_type": "code",
   "execution_count": 10,
   "metadata": {},
   "outputs": [],
   "source": [
    "img = PILImage.create(btn_upload.data[-1])"
   ]
  },
  {
   "cell_type": "code",
   "execution_count": 11,
   "metadata": {},
   "outputs": [],
   "source": [
    "lbl_pred = widgets.Label()\n",
    "lbl_pred.value = \"Your prediction here\""
   ]
  },
  {
   "cell_type": "markdown",
   "metadata": {},
   "source": [
    "## Create the button to add an image to classify"
   ]
  },
  {
   "cell_type": "code",
   "execution_count": 12,
   "metadata": {},
   "outputs": [],
   "source": [
    "btn_upload = widgets.FileUpload()"
   ]
  },
  {
   "cell_type": "markdown",
   "metadata": {},
   "source": [
    "## Create the button \"Classify\" to run the classification"
   ]
  },
  {
   "cell_type": "code",
   "execution_count": 13,
   "metadata": {},
   "outputs": [],
   "source": [
    "btn_run = widgets.Button(description='Classify')"
   ]
  },
  {
   "cell_type": "markdown",
   "metadata": {},
   "source": [
    "## Display the added image"
   ]
  },
  {
   "cell_type": "code",
   "execution_count": 14,
   "metadata": {},
   "outputs": [],
   "source": [
    "out_pl = widgets.Output()\n",
    "out_pl.clear_output()\n",
    "with out_pl: display(img.to_thumb(128,128))"
   ]
  },
  {
   "cell_type": "markdown",
   "metadata": {},
   "source": [
    "## Create the function that performs the classification from the model on the image"
   ]
  },
  {
   "cell_type": "code",
   "execution_count": 15,
   "metadata": {},
   "outputs": [],
   "source": [
    "def on_click_classify(change):\n",
    "    img = PILImage.create(btn_upload.data[-1])\n",
    "    out_pl.clear_output()\n",
    "    with out_pl: display(img.to_thumb(128,128))\n",
    "    pred,pred_idx,probs = learn_inf.predict(img)\n",
    "    lbl_pred.value = f'Prediction: {pred}; Probability: {probs[pred_idx]:.04f}'\n",
    "\n",
    "btn_run.on_click(on_click_classify)"
   ]
  },
  {
   "cell_type": "markdown",
   "metadata": {},
   "source": [
    "## Create the widget containing all the elements"
   ]
  },
  {
   "cell_type": "code",
   "execution_count": 16,
   "metadata": {},
   "outputs": [
    {
     "data": {
      "application/vnd.jupyter.widget-view+json": {
       "model_id": "3cf21ae21823473bbbbf32f07eeb9ec0",
       "version_major": 2,
       "version_minor": 0
      },
      "text/plain": [
       "VBox(children=(Label(value='Select your bear!'), FileUpload(value={}, description='Upload'), Button(descriptio…"
      ]
     },
     "metadata": {},
     "output_type": "display_data"
    },
    {
     "data": {
      "text/html": [],
      "text/plain": [
       "<IPython.core.display.HTML object>"
      ]
     },
     "metadata": {},
     "output_type": "display_data"
    },
    {
     "data": {
      "text/html": [],
      "text/plain": [
       "<IPython.core.display.HTML object>"
      ]
     },
     "metadata": {},
     "output_type": "display_data"
    }
   ],
   "source": [
    "VBox([widgets.Label('Select your bear!'), \n",
    "      btn_upload, btn_run, out_pl, lbl_pred])"
   ]
  },
  {
   "cell_type": "markdown",
   "metadata": {},
   "source": [
    "> Note :use the one cell below if you are on Windows"
   ]
  },
  {
   "cell_type": "code",
   "execution_count": 17,
   "metadata": {},
   "outputs": [],
   "source": [
    "pathlib.PosixPath = temp"
   ]
  },
  {
   "cell_type": "markdown",
   "metadata": {},
   "source": [
    "> Note: To test my model in real life, I invite you to visit my github and launch [this notebook](https://github.com/CecileGallioz/blog/blob/1c65e96fce3a2b74f6c30a1cb3be278525324756/_notebooks/2021-04-19-ModelClassifierPicture.ipyb.ipynb) on your own environment."
   ]
  },
  {
   "cell_type": "markdown",
   "metadata": {},
   "source": [
    "## Picture of Initialization\n",
    "![](./src/BearInitialize.jpg)"
   ]
  },
  {
   "cell_type": "markdown",
   "metadata": {},
   "source": [
    "## Picture of classification of a photo\n",
    "![](./src/BearClassify.jpg)"
   ]
  }
 ],
 "metadata": {
  "kernelspec": {
   "display_name": "Python 3",
   "language": "python",
   "name": "python3"
  },
  "language_info": {
   "codemirror_mode": {
    "name": "ipython",
    "version": 3
   },
   "file_extension": ".py",
   "mimetype": "text/x-python",
   "name": "python",
   "nbconvert_exporter": "python",
   "pygments_lexer": "ipython3",
   "version": "3.8.3"
  }
 },
 "nbformat": 4,
 "nbformat_minor": 4
}
