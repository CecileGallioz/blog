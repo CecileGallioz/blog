{
 "cells": [
  {
   "cell_type": "markdown",
   "metadata": {},
   "source": [
    "# Simple reminder on Python\n",
    "> A list of definitions and memory aids for data and functions \n",
    "\n",
    "- toc: false \n",
    "- badges: false\n",
    "- comments: true\n",
    "- author: Cécile Gallioz and FunMooc and OpenClassRooms\n",
    "- categories: [python]"
   ]
  },
  {
   "cell_type": "markdown",
   "metadata": {},
   "source": [
    "## Types of data\n",
    "\n",
    "|||||||||||\n",
    "|-|-|-|-|-|-|-|-|-|-|\n",
    "|**Integer**|int|immuable|singleton possible|no loss of accuracy||||||\n",
    "|**Boolean**|bool|immuable|singleton possible|no loss of accuracy|True ou False|||||\n",
    "|**Float**|float|immuable|singleton possible|possible loss of accuracy|1.2|||||\n",
    "|**Complex**|complex|immuable|singleton possible|possible loss of accuracy|1+2j|||||\n",
    "|**String**|str|immuable|singleton possible||surrounded by \" \" or ' '|||||\n",
    "|**Tuple**|tuple|immuable|singleton possible||**( ,)**|**( , ,)**|,|||\n",
    "|||||||||||\n",
    "|**List**|list|mutable||stores only the references|**[  ,  ]**|||||\n",
    "|**dictionary**|dict|mutable||unordered and unchangeable keys / values|**{ : ,  : }**|||||\n",
    "|**Set**|set|mutable||unordered and unique immutable keys|**{ ,  }**|||||\n",
    "|||||||||||\n",
    "\n",
    "Small immutable objects are sometimes stored as singletons (only one possible occurrence)"
   ]
  }
 ],
 "metadata": {
  "kernelspec": {
   "display_name": "Python 3",
   "language": "python",
   "name": "python3"
  },
  "language_info": {
   "codemirror_mode": {
    "name": "ipython",
    "version": 3
   },
   "file_extension": ".py",
   "mimetype": "text/x-python",
   "name": "python",
   "nbconvert_exporter": "python",
   "pygments_lexer": "ipython3",
   "version": "3.8.3"
  },
  "varInspector": {
   "cols": {
    "lenName": 16,
    "lenType": 16,
    "lenVar": 40
   },
   "kernels_config": {
    "python": {
     "delete_cmd_postfix": "",
     "delete_cmd_prefix": "del ",
     "library": "var_list.py",
     "varRefreshCmd": "print(var_dic_list())"
    },
    "r": {
     "delete_cmd_postfix": ") ",
     "delete_cmd_prefix": "rm(",
     "library": "var_list.r",
     "varRefreshCmd": "cat(var_dic_list()) "
    }
   },
   "types_to_exclude": [
    "module",
    "function",
    "builtin_function_or_method",
    "instance",
    "_Feature"
   ],
   "window_display": false
  }
 },
 "nbformat": 4,
 "nbformat_minor": 4
}
