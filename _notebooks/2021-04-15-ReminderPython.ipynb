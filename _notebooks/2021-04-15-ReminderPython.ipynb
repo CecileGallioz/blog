{
 "cells": [
  {
   "cell_type": "markdown",
   "metadata": {},
   "source": [
    "# My reminder on Python\n",
    "> A list of definitions and memory aids for data and functions \n",
    "\n",
    "- toc: true \n",
    "- badges: false\n",
    "- comments: false\n",
    "- author: Cécile Gallioz\n",
    "- categories: [Python]"
   ]
  },
  {
   "cell_type": "markdown",
   "metadata": {},
   "source": [
    "## Useful informations\n",
    "\n",
    "- Variables are not typed, while objects are. \n",
    "\n",
    "\n",
    "- Variables address objects (strong typing).\n",
    "\n",
    "\n",
    "- Variable names are best in camelCase (first letter in lower case and no numbers in first) and as meaningful as possible.\n",
    "\n",
    "\n",
    "- In Python to identify a block of instructions, you need an identation of 4 spaces and not a tab\n",
    "\n",
    "\n",
    "- Small immutable objects are sometimes stored as singletons (only one possible occurrence)"
   ]
  },
  {
   "cell_type": "markdown",
   "metadata": {},
   "source": [
    "## Basic functions\n",
    "|Function|Description|Type argument(s)|Output|\n",
    "|-|-|-|-|\n",
    "|**help()**|Help on a function|Function name|String|\n",
    "|**type()**|Type of a variable|All|Type|\n",
    "|**len()**|Length|All|Int|\n",
    "|**print()**|Print to screen|All|Exit screen|\n",
    "|**input**(\"Question Text\")|Retrieves value entered by user|String|All|"
   ]
  },
  {
   "cell_type": "markdown",
   "metadata": {},
   "source": [
    "## Types of data\n",
    "\n",
    "|Type|Example|Immutable?|Singleton?|Notes|\n",
    "|-|-|-|-|-|\n",
    "|**Integer**|**1**|Immutable|Possible|No loss of accuracy|\n",
    "|**Boolean**|**True** or **False**|Immutable|Possible|No loss of accuracy|\n",
    "|**Float**|**1.2**|Immutable|Possible|Possible loss of accuracy|\n",
    "|**Complex**|**1+2j**|Immutable|Possible|Possible loss of accuracy|\n",
    "|**String**|**\"blah\"** or **'blah'**|Immutable|Possible||\n",
    "|**Tuple**|**( ,)** or **( , ,)** or **,**|Immutable|Possible||\n",
    "||||||\n",
    "|**List**|**[  ,  ]**|Mutable||Stores only the references|\n",
    "|**Dictionary**|**{ : ,  : }**|Mutable||Unordered and unchangeable keys/values|\n",
    "|**Set**|**{ ,  }**|Mutable||Unordered and unique immutable keys|\n"
   ]
  },
  {
   "cell_type": "markdown",
   "metadata": {},
   "source": [
    "## Operators\n",
    "\n",
    "|Operator|Name|Notes|||\n",
    "|-|-|-|-|-|\n",
    "|**=**|Opérateur d'affectation||||\n",
    "|**#**|Comments||||\n",
    "||||||\n",
    "|**+**|Addition *or* concatenation|Int + Int = Int|**Int + Float = Float**|Text + Text = Text|\n",
    "|**-**|Subtraction|Int - Int = Int|Int - Float = Float||\n",
    "|* |Multiplication|Int * Int = Int|Int * Float = Float||\n",
    "|**/**|Division|**Int / Int = Float**|Int / Float = Float||\n",
    "||||||\n",
    "|**%**|Modulo|Subtract from division|||\n",
    "|**//**|Whole division|Rounded down|||\n",
    "|** |Power|idem pow(a,b)|||\n",
    "|**abs()**|Absolute value||||\n",
    "||||||\n",
    "|**str()**|Cast in String|str(Int) = String|||\n",
    "|**int()**|Cast in Int|int(Float) = Int|||\n",
    "|**float()**|Cast in Float|float(Int) = Float|||\n",
    "||||||\n",
    "|**+=**|Simultaneous addition and affection||||"
   ]
  },
  {
   "cell_type": "markdown",
   "metadata": {},
   "source": [
    "## Logic operators\n",
    "\n",
    "|Sign|Description|\n",
    "|-|-|\n",
    "|**==**|equal to|\n",
    "|**!=**|different|\n",
    "|**<**|strictly less than|\n",
    "|**<=**|lower than or equal to|\n",
    "|||\n",
    "|**not**()|not|\n",
    "|**and** or &|and|\n",
    "|**or** or 'pipe'|or|\n",
    "|**^**|or exlusive|\n",
    "|||\n",
    "|element **in** myGroup|is the element in my group|"
   ]
  },
  {
   "cell_type": "markdown",
   "metadata": {},
   "source": [
    "## Strings (immutable)\n",
    "|Method|Description|Argument(s)|Output|\n",
    "|-|-|-|-|\n",
    "|objectString.**upper**()|All capitalized|-|Text|\n",
    "|objectString.**capitalize**()|First letter uppercase, subsequent letters lowercase|-|Text|\n",
    "|objectString.**strip**()|Removes spaces before and after the string|-|Text|\n",
    "|objectString.**replace(\"old\", \"new\")**|Replaces all occurrences of old with new|Text, Text|Text|\n",
    "|objectString.**find(\"look\")**|Returns the position of the first occurrence of the searched word or -1|Text|Int|\n",
    "|||||\n",
    "|objectString.**strip(',').split(',')**|Split put each word in a list according to a fixed character (\",\") and thanks to strip the last \",\" will be deleted|-|List|\n",
    "|**\",\".join(['abc', 'def'])**|Makes a string from a list according to a fixed character (e.g. here \",\")|-|Text|"
   ]
  },
  {
   "cell_type": "markdown",
   "metadata": {},
   "source": [
    "## f string\n",
    "\n",
    "    f\"blah-blah-blah {function1(variable1)} blah-blah-blah {function2(variable2)} blah-blah-blah\""
   ]
  },
  {
   "cell_type": "code",
   "execution_count": 1,
   "metadata": {},
   "outputs": [],
   "source": [
    "age = 45\n",
    "name = \"Paul\"\n",
    "gap = 10"
   ]
  },
  {
   "cell_type": "code",
   "execution_count": 2,
   "metadata": {},
   "outputs": [
    {
     "data": {
      "text/plain": [
       "'In 10 year(s), Paul will be 55 year(s) old.'"
      ]
     },
     "execution_count": 2,
     "metadata": {},
     "output_type": "execute_result"
    }
   ],
   "source": [
    "f\"In {gap} year(s), {name} will be {age + gap} year(s) old.\""
   ]
  },
  {
   "cell_type": "markdown",
   "metadata": {},
   "source": [
    "## List (mutable)\n",
    "\n",
    "    nameList = [\"String\", number, otherList, variable]\n",
    "The list does not store the objects but only the reference to the object. Its size will not vary according to the size of the referenced objects.\n",
    "\n",
    "**The index starts at 0.**\n",
    "\n",
    "Unlike text, they are modified by their methods => they are mutable."
   ]
  },
  {
   "cell_type": "markdown",
   "metadata": {},
   "source": [
    "|Use|Method|Description|\n",
    "|-|-|-|\n",
    "|***Index***|myList[1]|Accesses the 2nd element of the list|\n",
    "||myList[-1]|Go to the last element of the list|\n",
    "||myList[1:3]|Accesses the 2nd and 3rd elements of the list|\n",
    "||myList.**index**(element)|Returns the index of the element|\n",
    "||||\n",
    "|***Classic***|**print**(myList)|Displays the entire list|\n",
    "||**len**(myList)|Returns the length of a list|\n",
    "||||\n",
    "|***Sorting***|myList.**sort**()|Changes myList into a sorted list instead|\n",
    "||**sorted**(myList)|Copy and sort myList|\n",
    "||||\n",
    "|***Add***|myList.**append**(element)|Adds the element to the end of the list|\n",
    "||myList.**insert**(index, element)|Add the element to the specified index and move the following elements by one index|\n",
    "||myList.**extend**([otherList])|Add the list otherList to the end of the first one (myList)\n",
    "||||\n",
    "|***Remove***|myList.**pop**(index)|Delete and display the element with the index as argument or the last one|\n",
    "||maListe.**remove**(element)|Deletes the first occurrence of an element|\n",
    "||**del** myList[index]|Deletes the element at the specified index|\n",
    "||||\n",
    "|***String***|\" \".**join**(myList)|Transforms a list into a string according to the \" \", the opposite of split()|\n",
    "||||\n",
    "|***Random***|random.choice(myList)|choose an element from the list|\n",
    "||random.choices(myList,3)|choose 3 elements in the list with throw-in|\n",
    "||random.sample(myList,3)|choose 3 elements from the list without throw-in|"
   ]
  },
  {
   "cell_type": "code",
   "execution_count": 3,
   "metadata": {},
   "outputs": [],
   "source": [
    "myList = [8, 5, 12, 4, 45, 7]"
   ]
  },
  {
   "cell_type": "code",
   "execution_count": 4,
   "metadata": {},
   "outputs": [
    {
     "name": "stdout",
     "output_type": "stream",
     "text": [
      "myList[1] = 5\n",
      "sum(myList) = 81\n",
      "max(myList) = 45\n"
     ]
    }
   ],
   "source": [
    "#hide_input\n",
    "print('myList[1] =',myList[1])\n",
    "print('sum(myList) =', sum(myList))\n",
    "print('max(myList) =', max(myList))"
   ]
  },
  {
   "cell_type": "code",
   "execution_count": 5,
   "metadata": {},
   "outputs": [],
   "source": [
    "myList = list(range(2))"
   ]
  },
  {
   "cell_type": "code",
   "execution_count": 6,
   "metadata": {},
   "outputs": [
    {
     "name": "stdout",
     "output_type": "stream",
     "text": [
      "myList = [0, 1]\n"
     ]
    }
   ],
   "source": [
    "#hide_input\n",
    "print('myList =',myList)"
   ]
  },
  {
   "cell_type": "code",
   "execution_count": 7,
   "metadata": {},
   "outputs": [],
   "source": [
    "myList.append(2)"
   ]
  },
  {
   "cell_type": "code",
   "execution_count": 8,
   "metadata": {},
   "outputs": [
    {
     "name": "stdout",
     "output_type": "stream",
     "text": [
      "myList = [0, 1, 2]\n"
     ]
    }
   ],
   "source": [
    "#hide_input\n",
    "print('myList =',myList)"
   ]
  },
  {
   "cell_type": "code",
   "execution_count": 9,
   "metadata": {},
   "outputs": [],
   "source": [
    "myList.insert(1,\"one half\")"
   ]
  },
  {
   "cell_type": "code",
   "execution_count": 10,
   "metadata": {},
   "outputs": [
    {
     "name": "stdout",
     "output_type": "stream",
     "text": [
      "myList = [0, 'one half', 1, 2]\n"
     ]
    }
   ],
   "source": [
    "#hide_input\n",
    "print('myList =',myList)"
   ]
  },
  {
   "cell_type": "code",
   "execution_count": 11,
   "metadata": {},
   "outputs": [],
   "source": [
    "myList = [3, 5, 7, 6, 4, 1, 0, 2]\n",
    "myList.sort()"
   ]
  },
  {
   "cell_type": "code",
   "execution_count": 12,
   "metadata": {},
   "outputs": [
    {
     "name": "stdout",
     "output_type": "stream",
     "text": [
      "myList = [0, 1, 2, 3, 4, 5, 6, 7]\n"
     ]
    }
   ],
   "source": [
    "#hide_input\n",
    "print('myList =',myList)"
   ]
  },
  {
   "cell_type": "markdown",
   "metadata": {},
   "source": [
    "## Tuple (immutable)\n",
    "\n",
    "           (element,) \n",
    "        or  element, \n",
    "        => tuple singleton\n",
    "        \n",
    "           (element, element) \n",
    "        or (element, element,)    <= for writing long tuples on several lines\n",
    "        or  element, element     \n",
    "        or  element, element,\n",
    "        => multiple tuple\n",
    "These are sequence objects. \n",
    "\n",
    "They have the same properties as lists except that they are **immutable** => **once created they cannot be modified.**"
   ]
  },
  {
   "cell_type": "code",
   "execution_count": 13,
   "metadata": {},
   "outputs": [],
   "source": [
    "#tuple unpacking\n",
    "(a, b) = [3, 4]"
   ]
  },
  {
   "cell_type": "code",
   "execution_count": 14,
   "metadata": {
    "scrolled": true
   },
   "outputs": [
    {
     "name": "stdout",
     "output_type": "stream",
     "text": [
      "a = 3\n",
      "b = 4\n"
     ]
    }
   ],
   "source": [
    "#hide_input\n",
    "print(\"a =\",a)\n",
    "print(\"b =\", b)"
   ]
  },
  {
   "cell_type": "code",
   "execution_count": 15,
   "metadata": {},
   "outputs": [],
   "source": [
    "a, b = b, a"
   ]
  },
  {
   "cell_type": "code",
   "execution_count": 16,
   "metadata": {},
   "outputs": [
    {
     "name": "stdout",
     "output_type": "stream",
     "text": [
      "a = 4\n",
      "b = 3\n"
     ]
    }
   ],
   "source": [
    "#hide_input\n",
    "print(\"a =\", a)\n",
    "print(\"b =\", b)"
   ]
  },
  {
   "cell_type": "code",
   "execution_count": 17,
   "metadata": {},
   "outputs": [],
   "source": [
    "e = list(range(10))\n",
    "\n",
    "# tuple unpacking : cut a list\n",
    "# with the * we indicate that the length is unknown\n",
    "# with the _ or \"ignored\" we indicate that we are not interested in the content of this variable\n",
    "\n",
    "x, *_, y = e"
   ]
  },
  {
   "cell_type": "code",
   "execution_count": 18,
   "metadata": {},
   "outputs": [
    {
     "name": "stdout",
     "output_type": "stream",
     "text": [
      "x = 0\n",
      "y = 9\n"
     ]
    }
   ],
   "source": [
    "#hide_input\n",
    "print(\"x =\",x)\n",
    "print(\"y =\",y)"
   ]
  },
  {
   "cell_type": "code",
   "execution_count": 37,
   "metadata": {},
   "outputs": [
    {
     "data": {
      "text/plain": [
       "[(1, 3), (2, 4)]"
      ]
     },
     "execution_count": 37,
     "metadata": {},
     "output_type": "execute_result"
    }
   ],
   "source": [
    "a = [1, 2]\n",
    "b = [3, 4]\n",
    "z = zip(a,b)\n",
    "[i for i in z]"
   ]
  },
  {
   "cell_type": "markdown",
   "metadata": {},
   "source": [
    "## Dictionarie (mutable - immutable keys)\n",
    "\n",
    "    myDictionary = {key1:value1, key2:value2}"
   ]
  },
  {
   "cell_type": "code",
   "execution_count": 19,
   "metadata": {},
   "outputs": [],
   "source": [
    "age = {\"eve\":30, \"ana\":25, \"bob\":35}\n",
    "\n",
    "listeTupleAge = [(\"hel\",21), (\"jon\",41)]\n",
    "dicoAge = dict(listeTupleAge)\n",
    "\n",
    "age.update(dicoAge)"
   ]
  },
  {
   "cell_type": "code",
   "execution_count": 20,
   "metadata": {},
   "outputs": [
    {
     "data": {
      "text/plain": [
       "{'eve': 30, 'ana': 25, 'bob': 35, 'hel': 21, 'jon': 41}"
      ]
     },
     "execution_count": 20,
     "metadata": {},
     "output_type": "execute_result"
    }
   ],
   "source": [
    "#hide_input\n",
    "age"
   ]
  },
  {
   "cell_type": "code",
   "execution_count": 21,
   "metadata": {},
   "outputs": [
    {
     "data": {
      "text/plain": [
       "30"
      ]
     },
     "execution_count": 21,
     "metadata": {},
     "output_type": "execute_result"
    }
   ],
   "source": [
    "age['eve']"
   ]
  },
  {
   "cell_type": "code",
   "execution_count": 22,
   "metadata": {},
   "outputs": [
    {
     "data": {
      "text/plain": [
       "dict_keys(['eve', 'ana', 'bob', 'hel', 'jon'])"
      ]
     },
     "execution_count": 22,
     "metadata": {},
     "output_type": "execute_result"
    }
   ],
   "source": [
    "age.keys()    # the result is a view"
   ]
  },
  {
   "cell_type": "code",
   "execution_count": 23,
   "metadata": {},
   "outputs": [
    {
     "data": {
      "text/plain": [
       "dict_values([30, 25, 35, 21, 41])"
      ]
     },
     "execution_count": 23,
     "metadata": {},
     "output_type": "execute_result"
    }
   ],
   "source": [
    "age.values()  # the result is a view"
   ]
  },
  {
   "cell_type": "code",
   "execution_count": 24,
   "metadata": {},
   "outputs": [
    {
     "name": "stdout",
     "output_type": "stream",
     "text": [
      "Eve is 30 years old\n",
      "Ana is 25 years old\n",
      "Bob is 35 years old\n",
      "Hel is 21 years old\n",
      "Jon is 41 years old\n"
     ]
    }
   ],
   "source": [
    "for name,year in age.items():\n",
    "    print(f\"{name.capitalize()} is {year} years old\")"
   ]
  },
  {
   "cell_type": "markdown",
   "metadata": {},
   "source": [
    "## Set (mutable - unordered)\n",
    "    {key1, key2}\n",
    "A set is essentially a hash table. Close to dictionaries, mutable, unordered, they store only unique keys and are optimized for membership testing.\n"
   ]
  },
  {
   "cell_type": "code",
   "execution_count": 25,
   "metadata": {},
   "outputs": [],
   "source": [
    "a = [1, 2, 1, 20, 1]\n",
    "s = set(a)"
   ]
  },
  {
   "cell_type": "code",
   "execution_count": 26,
   "metadata": {},
   "outputs": [
    {
     "data": {
      "text/plain": [
       "{1, 2, 20}"
      ]
     },
     "execution_count": 26,
     "metadata": {},
     "output_type": "execute_result"
    }
   ],
   "source": [
    "#hide_input\n",
    "s"
   ]
  },
  {
   "cell_type": "code",
   "execution_count": 27,
   "metadata": {},
   "outputs": [],
   "source": [
    "s.add(10)"
   ]
  },
  {
   "cell_type": "code",
   "execution_count": 28,
   "metadata": {},
   "outputs": [
    {
     "data": {
      "text/plain": [
       "{1, 2, 10, 20}"
      ]
     },
     "execution_count": 28,
     "metadata": {},
     "output_type": "execute_result"
    }
   ],
   "source": [
    "#hide_input\n",
    "s"
   ]
  },
  {
   "cell_type": "code",
   "execution_count": 29,
   "metadata": {},
   "outputs": [],
   "source": [
    "s.update([1, 3, 30])"
   ]
  },
  {
   "cell_type": "code",
   "execution_count": 30,
   "metadata": {},
   "outputs": [
    {
     "data": {
      "text/plain": [
       "{1, 2, 3, 10, 20, 30}"
      ]
     },
     "execution_count": 30,
     "metadata": {},
     "output_type": "execute_result"
    }
   ],
   "source": [
    "#hide_input\n",
    "s"
   ]
  },
  {
   "cell_type": "code",
   "execution_count": 31,
   "metadata": {},
   "outputs": [],
   "source": [
    "s.discard(30)"
   ]
  },
  {
   "cell_type": "code",
   "execution_count": 32,
   "metadata": {},
   "outputs": [
    {
     "data": {
      "text/plain": [
       "{1, 2, 3, 10, 20}"
      ]
     },
     "execution_count": 32,
     "metadata": {},
     "output_type": "execute_result"
    }
   ],
   "source": [
    "#hide_input\n",
    "s"
   ]
  },
  {
   "cell_type": "code",
   "execution_count": 33,
   "metadata": {},
   "outputs": [
    {
     "data": {
      "text/plain": [
       "False"
      ]
     },
     "execution_count": 33,
     "metadata": {},
     "output_type": "execute_result"
    }
   ],
   "source": [
    "30 in s"
   ]
  },
  {
   "cell_type": "markdown",
   "metadata": {},
   "source": [
    "## If\n",
    "    \n",
    "    if condition:\n",
    "        block of instructions\n",
    "        \n",
    "    elif condition:\n",
    "        block of instructions\n",
    "        \n",
    "    else:\n",
    "        block of instructions\n",
    "In conditional expression\n",
    "\n",
    "    Variable = valueTrue if test else valueFalse\n",
    "In a test :\n",
    "\n",
    "    - False : False, 0, None, [], {}, (), \"\"\n",
    "    - True : everything else"
   ]
  },
  {
   "cell_type": "code",
   "execution_count": 50,
   "metadata": {},
   "outputs": [
    {
     "name": "stdout",
     "output_type": "stream",
     "text": [
      "Hello single!\n"
     ]
    }
   ],
   "source": [
    "#userName = input(\"What's your name?\")\n",
    "userName = \"C\"\n",
    "\n",
    "if len(userName)==1:\n",
    "    print(\"Hello single!\")\n",
    "    \n",
    "elif len(userName)>0:\n",
    "    print(\"Hello\",\n",
    "          userName)\n",
    "    \n",
    "else:\n",
    "    print(\"Hello World!\")"
   ]
  },
  {
   "cell_type": "code",
   "execution_count": 46,
   "metadata": {},
   "outputs": [
    {
     "name": "stdout",
     "output_type": "stream",
     "text": [
      "Hello single!\n"
     ]
    }
   ],
   "source": [
    "y = \"Hello single!\" if (len(userName) == 1) else \"Hello World!\"\n",
    "print(y)"
   ]
  }
 ],
 "metadata": {
  "kernelspec": {
   "display_name": "Python 3",
   "language": "python",
   "name": "python3"
  },
  "language_info": {
   "codemirror_mode": {
    "name": "ipython",
    "version": 3
   },
   "file_extension": ".py",
   "mimetype": "text/x-python",
   "name": "python",
   "nbconvert_exporter": "python",
   "pygments_lexer": "ipython3",
   "version": "3.8.3"
  },
  "varInspector": {
   "cols": {
    "lenName": 16,
    "lenType": 16,
    "lenVar": 40
   },
   "kernels_config": {
    "python": {
     "delete_cmd_postfix": "",
     "delete_cmd_prefix": "del ",
     "library": "var_list.py",
     "varRefreshCmd": "print(var_dic_list())"
    },
    "r": {
     "delete_cmd_postfix": ") ",
     "delete_cmd_prefix": "rm(",
     "library": "var_list.r",
     "varRefreshCmd": "cat(var_dic_list()) "
    }
   },
   "types_to_exclude": [
    "module",
    "function",
    "builtin_function_or_method",
    "instance",
    "_Feature"
   ],
   "window_display": false
  }
 },
 "nbformat": 4,
 "nbformat_minor": 4
}
