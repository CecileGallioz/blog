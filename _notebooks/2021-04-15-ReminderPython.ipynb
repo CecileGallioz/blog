{
 "cells": [
  {
   "cell_type": "markdown",
   "metadata": {},
   "source": [
    "# Simple reminder on Python\n",
    "> A list of definitions and memory aids for data and functions \n",
    "\n",
    "- toc: false \n",
    "- badges: false\n",
    "- comments: true\n",
    "- author: Cécile Gallioz and FunMooc and OpenClassRooms\n",
    "- categories: [python]"
   ]
  },
  {
   "cell_type": "markdown",
   "metadata": {},
   "source": [
    "## Types of data\n",
    "\n",
    "|Type|Example|Immutable?|Singleton?|Notes|\n",
    "|-|-|-|-|-|\n",
    "|**Integer**|**1**|Immutable|Possible|No loss of accuracy|\n",
    "|**Boolean**|**True ou False**|Immutable|Possible|No loss of accuracy|\n",
    "|**Float**|**1.2**|Immutable|Possible|Possible loss of accuracy|\n",
    "|**Complex**|**1+2j**|Immutable|Possible|Possible loss of accuracy|\n",
    "|**String**|**\"blah\"** or **'blah'**|Immutable|Possible||\n",
    "|**Tuple**|**( ,)** or **( , ,)** or **,**|Immutable|Possible||\n",
    "||||||\n",
    "|**List**|**[  ,  ]**|Mutable||Stores only the references|\n",
    "|**Dictionary**|**{ : ,  : }**|Mutable||Unordered and unchangeable keys/values|\n",
    "|**Set**|**{ ,  }**|Mutable||Unordered and unique immutable keys|\n"
   ]
  },
  {
   "cell_type": "markdown",
   "metadata": {},
   "source": [
    "## Operators\n",
    "\n",
    "|Operator|Name|Notes|||\n",
    "|-|-|-|-|-|\n",
    "|**#**|Comments||||\n",
    "||||||\n",
    "|**+**|Addition *or* concatenation|Int + Int = Int|**Int + Float = Float**|Text + Text = Text|\n",
    "|**-**|Subtraction|Int - Int = Int|Int - Float = Float||\n",
    "|* |Multiplication|Int * Int = Int|Int * Float = Float||\n",
    "|**/**|Division|**Int / Int = Float**|Int / Float = Float||\n",
    "||||||\n",
    "|**%**|Modulo|Subtract from division|||\n",
    "|**//**|Whole division|Rounded down|||\n",
    "|** |Power|idem pow(a,b)|||\n",
    "||||||\n",
    "|**str()**|Cast in String|str(Int) = String|||\n",
    "|**int()**|Cast in Int|int(Float) = Int|||\n",
    "|**float()**|Cast in Float|float(Int) = Float|||"
   ]
  }
 ],
 "metadata": {
  "kernelspec": {
   "display_name": "Python 3",
   "language": "python",
   "name": "python3"
  },
  "language_info": {
   "codemirror_mode": {
    "name": "ipython",
    "version": 3
   },
   "file_extension": ".py",
   "mimetype": "text/x-python",
   "name": "python",
   "nbconvert_exporter": "python",
   "pygments_lexer": "ipython3",
   "version": "3.8.3"
  },
  "varInspector": {
   "cols": {
    "lenName": 16,
    "lenType": 16,
    "lenVar": 40
   },
   "kernels_config": {
    "python": {
     "delete_cmd_postfix": "",
     "delete_cmd_prefix": "del ",
     "library": "var_list.py",
     "varRefreshCmd": "print(var_dic_list())"
    },
    "r": {
     "delete_cmd_postfix": ") ",
     "delete_cmd_prefix": "rm(",
     "library": "var_list.r",
     "varRefreshCmd": "cat(var_dic_list()) "
    }
   },
   "types_to_exclude": [
    "module",
    "function",
    "builtin_function_or_method",
    "instance",
    "_Feature"
   ],
   "window_display": false
  }
 },
 "nbformat": 4,
 "nbformat_minor": 4
}
