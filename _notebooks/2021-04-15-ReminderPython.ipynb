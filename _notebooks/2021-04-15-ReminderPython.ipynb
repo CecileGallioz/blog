{
 "cells": [
  {
   "cell_type": "markdown",
   "metadata": {},
   "source": [
    "# Reminder on Python\n",
    "> A list of definitions and memory aids for data and functions \n",
    "\n",
    "- toc: true \n",
    "- badges: false\n",
    "- comments: true\n",
    "- author: Cécile Gallioz\n",
    "- categories: [Python]"
   ]
  },
  {
   "cell_type": "markdown",
   "metadata": {},
   "source": [
    "## Useful informations\n",
    "\n",
    "- Variables are not typed, while objects are. \n",
    "\n",
    "\n",
    "- Variables address objects (strong typing).\n",
    "\n",
    "\n",
    "- Variable names are best in camelCase (first letter in lower case and no numbers in first) and as meaningful as possible.\n",
    "\n",
    "\n",
    "- In Python to identify a block of instructions, you need an identation of 4 spaces and not a tab\n",
    "\n",
    "\n",
    "- Small immutable objects are sometimes stored as singletons (only one possible occurrence)"
   ]
  },
  {
   "cell_type": "markdown",
   "metadata": {},
   "source": [
    "## Basic functions\n",
    "|Function|Description|Type argument(s)|Output|\n",
    "|-|-|-|-|\n",
    "|**help()**|Help on a function|Function name|String|\n",
    "|**type()**|Type of a variable|All|Type|\n",
    "|**len()**|Length|All|Int|\n",
    "|**print()**|Print to screen|All|Exit screen|\n",
    "|**input**(\"Question Text\")|Retrieves value entered by user|String|All|"
   ]
  },
  {
   "cell_type": "markdown",
   "metadata": {},
   "source": [
    "## Types of data\n",
    "\n",
    "|Type|Example|Immutable?|Singleton?|Notes|\n",
    "|-|-|-|-|-|\n",
    "|**Integer**|**1**|Immutable|Possible|No loss of accuracy|\n",
    "|**Boolean**|**True** or **False**|Immutable|Possible|No loss of accuracy|\n",
    "|**Float**|**1.2**|Immutable|Possible|Possible loss of accuracy|\n",
    "|**Complex**|**1+2j**|Immutable|Possible|Possible loss of accuracy|\n",
    "|**String**|**\"blah\"** or **'blah'**|Immutable|Possible||\n",
    "|**Tuple**|**( ,)** or **( , ,)** or **,**|Immutable|Possible||\n",
    "||||||\n",
    "|**List**|**[  ,  ]**|Mutable||Stores only the references|\n",
    "|**Dictionary**|**{ : ,  : }**|Mutable||Unordered and unchangeable keys/values|\n",
    "|**Set**|**{ ,  }**|Mutable||Unordered and unique immutable keys|\n"
   ]
  },
  {
   "cell_type": "markdown",
   "metadata": {},
   "source": [
    "## Operators\n",
    "\n",
    "|Operator|Name|Notes|||\n",
    "|-|-|-|-|-|\n",
    "|**=**|Opérateur d'affectation||||\n",
    "|**#**|Comments||||\n",
    "||||||\n",
    "|**+**|Addition *or* concatenation|Int + Int = Int|**Int + Float = Float**|Text + Text = Text|\n",
    "|**-**|Subtraction|Int - Int = Int|Int - Float = Float||\n",
    "|* |Multiplication|Int * Int = Int|Int * Float = Float||\n",
    "|**/**|Division|**Int / Int = Float**|Int / Float = Float||\n",
    "||||||\n",
    "|**%**|Modulo|Subtract from division|||\n",
    "|**//**|Whole division|Rounded down|||\n",
    "|** |Power|idem pow(a,b)|||\n",
    "|**abs()**|Absolute value||||\n",
    "||||||\n",
    "|**str()**|Cast in String|str(Int) = String|||\n",
    "|**int()**|Cast in Int|int(Float) = Int|||\n",
    "|**float()**|Cast in Float|float(Int) = Float|||\n",
    "||||||\n",
    "|**+=**|Simultaneous addition and affection||||"
   ]
  },
  {
   "cell_type": "markdown",
   "metadata": {},
   "source": [
    "## Logic operators\n",
    "\n",
    "|Sign|Description|\n",
    "|-|-|\n",
    "|**==**|equal to|\n",
    "|**!=**|different|\n",
    "|**<**|strictly less than|\n",
    "|**<=**|lower than or equal to|\n",
    "|||\n",
    "|**not**()|not|\n",
    "|**and** or &|and|\n",
    "|**or** or 'pipe'|or|\n",
    "|**^**|or exlusive|\n",
    "|||\n",
    "|element **in** myGroup|is the element in my group|"
   ]
  },
  {
   "cell_type": "markdown",
   "metadata": {},
   "source": [
    "## Strings (immutable)\n",
    "|Method|Description|Argument(s)|Output|\n",
    "|-|-|-|-|\n",
    "|objectString.**upper**()|All capitalized|-|Text|\n",
    "|objectString.**capitalize**()|First letter uppercase, subsequent letters lowercase|-|Text|\n",
    "|objectString.**strip**()|Removes spaces before and after the string|-|Text|\n",
    "|objectString.**replace(\"old\", \"new\")**|Replaces all occurrences of old with new|Text, Text|Text|\n",
    "|objectString.**find(\"look\")**|Returns the position of the first occurrence of the searched word or -1|Text|Int|\n",
    "|||||\n",
    "|objectString.**strip(',').split(',')**|Split put each word in a list according to a fixed character (\",\") and thanks to strip the last \",\" will be deleted|-|List|\n",
    "|**\",\".join(['abc', 'def'])**|Makes a string from a list according to a fixed character (e.g. here \",\")|-|Text|"
   ]
  },
  {
   "cell_type": "markdown",
   "metadata": {},
   "source": [
    "## f string\n",
    "\n",
    "    f\"blah-blah-blah {function1(variable1)} blah-blah-blah {function2(variable2)} blah-blah-blah\""
   ]
  },
  {
   "cell_type": "code",
   "execution_count": 1,
   "metadata": {},
   "outputs": [],
   "source": [
    "age = 45\n",
    "name = \"Paul\"\n",
    "gap = 10"
   ]
  },
  {
   "cell_type": "code",
   "execution_count": 2,
   "metadata": {},
   "outputs": [
    {
     "data": {
      "text/plain": [
       "'In 10 year(s), Paul will be 55 year(s) old.'"
      ]
     },
     "execution_count": 2,
     "metadata": {},
     "output_type": "execute_result"
    }
   ],
   "source": [
    "f\"In {gap} year(s), {name} will be {age + gap} year(s) old.\""
   ]
  },
  {
   "cell_type": "markdown",
   "metadata": {},
   "source": [
    "## List (mutable)\n",
    "\n",
    "    nameList = [\"String\", number, otherList, variable]\n",
    "The list does not store the objects but only the reference to the object. Its size will not vary according to the size of the referenced objects.\n",
    "\n",
    "**The index starts at 0.**\n",
    "\n",
    "Unlike text, they are modified by their methods => they are mutable."
   ]
  },
  {
   "cell_type": "markdown",
   "metadata": {},
   "source": [
    "|Use|Method|Description|\n",
    "|-|-|-|\n",
    "|***Index***|myList[1]|Accesses the 2nd element of the list|\n",
    "||myList[-1]|Go to the last element of the list|\n",
    "||myList[1:3]|Accesses the 2nd and 3rd elements of the list|\n",
    "||myList.**index**(element)|Returns the index of the element|\n",
    "||||\n",
    "|***Classic***|**print**(myList)|Displays the entire list|\n",
    "||**len**(myList)|Returns the length of a list|\n",
    "||||\n",
    "|***Sorting***|myList.**sort**()|Changes myList into a sorted list instead|\n",
    "||**sorted**(myList)|Copy and sort myList|\n",
    "||myList.**copy**()|Shallow copy|\n",
    "||||\n",
    "|***Add***|myList.**append**(element)|Adds the element to the end of the list|\n",
    "||myList.**insert**(index, element)|Add the element to the specified index and move the following elements by one index|\n",
    "||myList.**extend**([otherList])|Add the list otherList to the end of the first one (myList)\n",
    "||||\n",
    "|***Remove***|myList.**pop**(index)|Delete and display the element with the index as argument or the last one|\n",
    "||maListe.**remove**(element)|Deletes the first occurrence of an element|\n",
    "||**del** myList[index]|Deletes the element at the specified index|\n",
    "||||\n",
    "|***String***|\" \".**join**(myList)|Transforms a list into a string according to the \" \", the opposite of split()|\n",
    "||||\n",
    "|***Random***|random.choice(myList)|choose an element from the list|\n",
    "||random.choices(myList,3)|choose 3 elements in the list with throw-in|\n",
    "||random.sample(myList,3)|choose 3 elements from the list without throw-in|"
   ]
  },
  {
   "cell_type": "code",
   "execution_count": 3,
   "metadata": {},
   "outputs": [],
   "source": [
    "myList = [8, 5, 12, 4, 45, 7]"
   ]
  },
  {
   "cell_type": "code",
   "execution_count": 4,
   "metadata": {},
   "outputs": [
    {
     "data": {
      "text/plain": [
       "[0, 5, 12, 4, 45, 7]"
      ]
     },
     "execution_count": 4,
     "metadata": {},
     "output_type": "execute_result"
    }
   ],
   "source": [
    "myList1 = [8, 5, 12, 4, 45, 7]\n",
    "myList2 = myList1 # The reference to the objects are copied!\n",
    "myList1[0] = 0\n",
    "myList2"
   ]
  },
  {
   "cell_type": "code",
   "execution_count": 5,
   "metadata": {},
   "outputs": [
    {
     "name": "stdout",
     "output_type": "stream",
     "text": [
      "myList[1] = 5\n",
      "sum(myList) = 81\n",
      "max(myList) = 45\n"
     ]
    }
   ],
   "source": [
    "#hide_input\n",
    "print('myList[1] =',myList[1])\n",
    "print('sum(myList) =', sum(myList))\n",
    "print('max(myList) =', max(myList))"
   ]
  },
  {
   "cell_type": "code",
   "execution_count": 6,
   "metadata": {},
   "outputs": [],
   "source": [
    "myList = list(range(2))"
   ]
  },
  {
   "cell_type": "code",
   "execution_count": 7,
   "metadata": {},
   "outputs": [
    {
     "name": "stdout",
     "output_type": "stream",
     "text": [
      "myList = [0, 1]\n"
     ]
    }
   ],
   "source": [
    "#hide_input\n",
    "print('myList =',myList)"
   ]
  },
  {
   "cell_type": "code",
   "execution_count": 8,
   "metadata": {},
   "outputs": [],
   "source": [
    "myList.append(2)"
   ]
  },
  {
   "cell_type": "code",
   "execution_count": 9,
   "metadata": {},
   "outputs": [
    {
     "name": "stdout",
     "output_type": "stream",
     "text": [
      "myList = [0, 1, 2]\n"
     ]
    }
   ],
   "source": [
    "#hide_input\n",
    "print('myList =',myList)"
   ]
  },
  {
   "cell_type": "code",
   "execution_count": 10,
   "metadata": {},
   "outputs": [],
   "source": [
    "myList.insert(1,\"one half\")"
   ]
  },
  {
   "cell_type": "code",
   "execution_count": 11,
   "metadata": {},
   "outputs": [
    {
     "name": "stdout",
     "output_type": "stream",
     "text": [
      "myList = [0, 'one half', 1, 2]\n"
     ]
    }
   ],
   "source": [
    "#hide_input\n",
    "print('myList =',myList)"
   ]
  },
  {
   "cell_type": "code",
   "execution_count": 12,
   "metadata": {},
   "outputs": [],
   "source": [
    "myList = [3, 5, 7, 6, 4, 1, 0, 2]\n",
    "myList.sort()"
   ]
  },
  {
   "cell_type": "code",
   "execution_count": 13,
   "metadata": {},
   "outputs": [
    {
     "name": "stdout",
     "output_type": "stream",
     "text": [
      "myList = [0, 1, 2, 3, 4, 5, 6, 7]\n"
     ]
    }
   ],
   "source": [
    "#hide_input\n",
    "print('myList =',myList)"
   ]
  },
  {
   "cell_type": "markdown",
   "metadata": {},
   "source": [
    "## Tuple (immutable)\n",
    "\n",
    "           (element,) \n",
    "        or  element, \n",
    "        => tuple singleton\n",
    "        \n",
    "           (element, element) \n",
    "        or (element, element,)    <= for writing long tuples on several lines\n",
    "        or  element, element     \n",
    "        or  element, element,\n",
    "        => multiple tuple\n",
    "These are sequence objects. \n",
    "\n",
    "They have the same properties as lists except that they are **immutable** => **once created they cannot be modified.**"
   ]
  },
  {
   "cell_type": "code",
   "execution_count": 14,
   "metadata": {},
   "outputs": [],
   "source": [
    "#tuple unpacking\n",
    "(a, b) = [3, 4]"
   ]
  },
  {
   "cell_type": "code",
   "execution_count": 15,
   "metadata": {
    "scrolled": true
   },
   "outputs": [
    {
     "name": "stdout",
     "output_type": "stream",
     "text": [
      "a = 3\n",
      "b = 4\n"
     ]
    }
   ],
   "source": [
    "#hide_input\n",
    "print(\"a =\",a)\n",
    "print(\"b =\", b)"
   ]
  },
  {
   "cell_type": "code",
   "execution_count": 16,
   "metadata": {},
   "outputs": [],
   "source": [
    "a, b = b, a"
   ]
  },
  {
   "cell_type": "code",
   "execution_count": 17,
   "metadata": {},
   "outputs": [
    {
     "name": "stdout",
     "output_type": "stream",
     "text": [
      "a = 4\n",
      "b = 3\n"
     ]
    }
   ],
   "source": [
    "#hide_input\n",
    "print(\"a =\", a)\n",
    "print(\"b =\", b)"
   ]
  },
  {
   "cell_type": "code",
   "execution_count": 18,
   "metadata": {},
   "outputs": [],
   "source": [
    "e = list(range(10))\n",
    "\n",
    "# tuple unpacking : cut a list\n",
    "# with the * we indicate that the length is unknown\n",
    "# with the _ or \"ignored\" we indicate that we are not interested in the content of this variable\n",
    "\n",
    "x, *_, y = e"
   ]
  },
  {
   "cell_type": "code",
   "execution_count": 19,
   "metadata": {},
   "outputs": [
    {
     "name": "stdout",
     "output_type": "stream",
     "text": [
      "x = 0\n",
      "y = 9\n"
     ]
    }
   ],
   "source": [
    "#hide_input\n",
    "print(\"x =\",x)\n",
    "print(\"y =\",y)"
   ]
  },
  {
   "cell_type": "code",
   "execution_count": 20,
   "metadata": {},
   "outputs": [
    {
     "data": {
      "text/plain": [
       "[(1, 3), (2, 4)]"
      ]
     },
     "execution_count": 20,
     "metadata": {},
     "output_type": "execute_result"
    }
   ],
   "source": [
    "a = [1, 2]\n",
    "b = [3, 4]\n",
    "z = zip(a,b)\n",
    "[i for i in z]"
   ]
  },
  {
   "cell_type": "markdown",
   "metadata": {},
   "source": [
    "## Dictionarie (mutable - immutable keys)\n",
    "\n",
    "    myDictionary = {key1:value1, key2:value2}"
   ]
  },
  {
   "cell_type": "code",
   "execution_count": 21,
   "metadata": {},
   "outputs": [],
   "source": [
    "age = {\"eve\":30, \"ana\":25, \"bob\":35}\n",
    "\n",
    "listeTupleAge = [(\"hel\",21), (\"jon\",41)]\n",
    "dicoAge = dict(listeTupleAge)\n",
    "\n",
    "age.update(dicoAge)"
   ]
  },
  {
   "cell_type": "code",
   "execution_count": 22,
   "metadata": {},
   "outputs": [
    {
     "data": {
      "text/plain": [
       "{'eve': 30, 'ana': 25, 'bob': 35, 'hel': 21, 'jon': 41}"
      ]
     },
     "execution_count": 22,
     "metadata": {},
     "output_type": "execute_result"
    }
   ],
   "source": [
    "#hide_input\n",
    "age"
   ]
  },
  {
   "cell_type": "code",
   "execution_count": 23,
   "metadata": {},
   "outputs": [
    {
     "data": {
      "text/plain": [
       "30"
      ]
     },
     "execution_count": 23,
     "metadata": {},
     "output_type": "execute_result"
    }
   ],
   "source": [
    "age['eve']"
   ]
  },
  {
   "cell_type": "code",
   "execution_count": 24,
   "metadata": {},
   "outputs": [
    {
     "data": {
      "text/plain": [
       "dict_keys(['eve', 'ana', 'bob', 'hel', 'jon'])"
      ]
     },
     "execution_count": 24,
     "metadata": {},
     "output_type": "execute_result"
    }
   ],
   "source": [
    "age.keys()    # the result is a view"
   ]
  },
  {
   "cell_type": "code",
   "execution_count": 25,
   "metadata": {},
   "outputs": [
    {
     "data": {
      "text/plain": [
       "dict_values([30, 25, 35, 21, 41])"
      ]
     },
     "execution_count": 25,
     "metadata": {},
     "output_type": "execute_result"
    }
   ],
   "source": [
    "age.values()  # the result is a view"
   ]
  },
  {
   "cell_type": "code",
   "execution_count": 26,
   "metadata": {},
   "outputs": [
    {
     "name": "stdout",
     "output_type": "stream",
     "text": [
      "Eve is 30 years old\n",
      "Ana is 25 years old\n",
      "Bob is 35 years old\n",
      "Hel is 21 years old\n",
      "Jon is 41 years old\n"
     ]
    }
   ],
   "source": [
    "for name,year in age.items():\n",
    "    print(f\"{name.capitalize()} is {year} years old\")"
   ]
  },
  {
   "cell_type": "markdown",
   "metadata": {},
   "source": [
    "## Set (mutable - unordered)\n",
    "    {key1, key2}\n",
    "A set is essentially a hash table. Close to dictionaries, mutable, unordered, they store only unique keys and are optimized for membership testing.\n"
   ]
  },
  {
   "cell_type": "code",
   "execution_count": 27,
   "metadata": {},
   "outputs": [],
   "source": [
    "a = [1, 2, 1, 20, 1]\n",
    "s = set(a)"
   ]
  },
  {
   "cell_type": "code",
   "execution_count": 28,
   "metadata": {},
   "outputs": [
    {
     "data": {
      "text/plain": [
       "{1, 2, 20}"
      ]
     },
     "execution_count": 28,
     "metadata": {},
     "output_type": "execute_result"
    }
   ],
   "source": [
    "#hide_input\n",
    "s"
   ]
  },
  {
   "cell_type": "code",
   "execution_count": 29,
   "metadata": {},
   "outputs": [],
   "source": [
    "s.add(10)"
   ]
  },
  {
   "cell_type": "code",
   "execution_count": 30,
   "metadata": {},
   "outputs": [
    {
     "data": {
      "text/plain": [
       "{1, 2, 10, 20}"
      ]
     },
     "execution_count": 30,
     "metadata": {},
     "output_type": "execute_result"
    }
   ],
   "source": [
    "#hide_input\n",
    "s"
   ]
  },
  {
   "cell_type": "code",
   "execution_count": 31,
   "metadata": {},
   "outputs": [],
   "source": [
    "s.update([1, 3, 30])"
   ]
  },
  {
   "cell_type": "code",
   "execution_count": 32,
   "metadata": {},
   "outputs": [
    {
     "data": {
      "text/plain": [
       "{1, 2, 3, 10, 20, 30}"
      ]
     },
     "execution_count": 32,
     "metadata": {},
     "output_type": "execute_result"
    }
   ],
   "source": [
    "#hide_input\n",
    "s"
   ]
  },
  {
   "cell_type": "code",
   "execution_count": 33,
   "metadata": {},
   "outputs": [],
   "source": [
    "s.discard(30)"
   ]
  },
  {
   "cell_type": "code",
   "execution_count": 34,
   "metadata": {},
   "outputs": [
    {
     "data": {
      "text/plain": [
       "{1, 2, 3, 10, 20}"
      ]
     },
     "execution_count": 34,
     "metadata": {},
     "output_type": "execute_result"
    }
   ],
   "source": [
    "#hide_input\n",
    "s"
   ]
  },
  {
   "cell_type": "code",
   "execution_count": 35,
   "metadata": {},
   "outputs": [
    {
     "data": {
      "text/plain": [
       "False"
      ]
     },
     "execution_count": 35,
     "metadata": {},
     "output_type": "execute_result"
    }
   ],
   "source": [
    "30 in s"
   ]
  },
  {
   "cell_type": "markdown",
   "metadata": {},
   "source": [
    "## If\n",
    "    \n",
    "    if condition:\n",
    "        block of instructions\n",
    "        \n",
    "    elif condition:\n",
    "        block of instructions\n",
    "        \n",
    "    else:\n",
    "        block of instructions\n",
    "In conditional expression\n",
    "\n",
    "    Variable = valueTrue if test else valueFalse\n",
    "In a test :\n",
    "\n",
    "    - False : False, 0, None, [], {}, (), \"\"\n",
    "    - True : everything else"
   ]
  },
  {
   "cell_type": "code",
   "execution_count": 36,
   "metadata": {},
   "outputs": [
    {
     "name": "stdout",
     "output_type": "stream",
     "text": [
      "Hello single!\n"
     ]
    }
   ],
   "source": [
    "#userName = input(\"What's your name?\")\n",
    "userName = \"C\"\n",
    "\n",
    "if len(userName)==1:\n",
    "    print(\"Hello single!\")\n",
    "    \n",
    "elif len(userName)>0:\n",
    "    print(\"Hello\", userName)\n",
    "    \n",
    "else:\n",
    "    print(\"Hello World!\")"
   ]
  },
  {
   "cell_type": "code",
   "execution_count": 37,
   "metadata": {},
   "outputs": [
    {
     "name": "stdout",
     "output_type": "stream",
     "text": [
      "Hello single!\n"
     ]
    }
   ],
   "source": [
    "y = \"Hello single!\" if (len(userName) == 1) else \"Hello World!\"\n",
    "print(y)"
   ]
  },
  {
   "cell_type": "markdown",
   "metadata": {},
   "source": [
    "## Range(n)\n",
    "\n",
    "    range(*start, end + 1, *step)\n",
    " \n",
    "         range(0, 5, 1) \n",
    "    idem range(0,5) \n",
    "    idem range(5) \n",
    "    => 0, 1, 2, 3, 4"
   ]
  },
  {
   "cell_type": "code",
   "execution_count": 38,
   "metadata": {},
   "outputs": [
    {
     "name": "stdout",
     "output_type": "stream",
     "text": [
      "2\n",
      "4\n",
      "6\n"
     ]
    }
   ],
   "source": [
    "x = range(2, 7, 2)\n",
    "for n in x:\n",
    "    print(n)"
   ]
  },
  {
   "cell_type": "markdown",
   "metadata": {},
   "source": [
    "## For\n",
    "\n",
    "    for element in myGroup:\n",
    "        instructions\n",
    " \n",
    "    for i in range(start, end + 1, step):\n",
    "        instructions\n",
    "With the **continue** keyword, you can indicate that you want to go directly to the next element of the loop.\n",
    "With the keyword **break**, we interrupt the loop.\n",
    ">Note: with the function **exit()**, we can stop the programme"
   ]
  },
  {
   "cell_type": "code",
   "execution_count": 39,
   "metadata": {},
   "outputs": [
    {
     "name": "stdout",
     "output_type": "stream",
     "text": [
      "0\n",
      "3\n",
      "7\n",
      "13\n"
     ]
    }
   ],
   "source": [
    "myList = [0, 3, 7, 13]\n",
    "\n",
    "for element in myList:\n",
    "    print(element)"
   ]
  },
  {
   "cell_type": "code",
   "execution_count": 40,
   "metadata": {
    "scrolled": true
   },
   "outputs": [
    {
     "name": "stdout",
     "output_type": "stream",
     "text": [
      "W\n",
      "o\n",
      "r\n",
      "l\n",
      "d\n"
     ]
    }
   ],
   "source": [
    "myText = \"World\"\n",
    "\n",
    "for element in myText:\n",
    "    print(element)"
   ]
  },
  {
   "cell_type": "markdown",
   "metadata": {},
   "source": [
    "## While\n",
    "\n",
    "    while condition:\n",
    "        instructions\n",
    "        continue      # ignore the following statements for this iteration\n",
    "        break         # exit while\n",
    " \n",
    "    while True:       # infinite loop\n",
    "        instructions\n",
    "        break"
   ]
  },
  {
   "cell_type": "code",
   "execution_count": 41,
   "metadata": {},
   "outputs": [
    {
     "name": "stdout",
     "output_type": "stream",
     "text": [
      "[1, 2, 3, 4, 5, 6]\n",
      "[1, 2, 3, 4]\n",
      "[1, 2, 3]\n",
      "[1, 2]\n",
      "[1]\n",
      "[]\n"
     ]
    }
   ],
   "source": [
    "a = list(range(1,7))\n",
    "\n",
    "print(a)\n",
    "\n",
    "while a:\n",
    "    a.pop()\n",
    "    if len(a) == 5:\n",
    "        continue # ignore les instructions suivantes pour cette itération\n",
    "    print(a)"
   ]
  },
  {
   "cell_type": "markdown",
   "metadata": {},
   "source": [
    "## Functions\n",
    "    def functionName(arguments):\n",
    "        \"\"\"\n",
    "        documentation on several lines\n",
    "        \"\"\"\n",
    "        instructions (with or without return or just pass)\n",
    "Document well if the function modifies the parameter passed to it"
   ]
  },
  {
   "cell_type": "code",
   "execution_count": 42,
   "metadata": {},
   "outputs": [
    {
     "name": "stdout",
     "output_type": "stream",
     "text": [
      "6\n"
     ]
    }
   ],
   "source": [
    "def calculPerimetreTriangle (cote1, cote2, cote3):\n",
    "    \"\"\"\n",
    "    receives three side lengths\n",
    "    and returns the sum of the three\n",
    "    \"\"\"\n",
    "    perimetre = cote1 + cote2 + cote3\n",
    "    return perimetre\n",
    "\n",
    "print(calculPerimetreTriangle(1,2,3))"
   ]
  },
  {
   "cell_type": "markdown",
   "metadata": {},
   "source": [
    "You can put an optional argument with default value (not a mutable object)\n",
    "\n",
    "    def functionName(argument1, argument2, argument3=defaultvalue3):\n",
    "        instructions"
   ]
  },
  {
   "cell_type": "code",
   "execution_count": 43,
   "metadata": {},
   "outputs": [
    {
     "name": "stdout",
     "output_type": "stream",
     "text": [
      "1 10\n",
      "1 2\n"
     ]
    }
   ],
   "source": [
    "def f(a, b=10):\n",
    "    print(a, b)\n",
    "\n",
    "f(1)\n",
    "f(1, 2)"
   ]
  },
  {
   "cell_type": "markdown",
   "metadata": {},
   "source": [
    "### Tuple or dictionaries in arguments\n",
    "To not have to specify the number of elements sent to the function:\n",
    "\n",
    "    #Tuple\n",
    "    def f(*t):\n",
    "        print(t)\n",
    "\n",
    "    #dictionary\n",
    "    def f(**d):\n",
    "        print(d)"
   ]
  },
  {
   "cell_type": "code",
   "execution_count": 44,
   "metadata": {},
   "outputs": [
    {
     "name": "stdout",
     "output_type": "stream",
     "text": [
      "(1,)\n",
      "(1, 2, 3)\n"
     ]
    }
   ],
   "source": [
    "def f(*t):\n",
    "    print(t)\n",
    "    \n",
    "f(1)\n",
    "f(1, 2, 3)"
   ]
  },
  {
   "cell_type": "code",
   "execution_count": 45,
   "metadata": {},
   "outputs": [
    {
     "name": "stdout",
     "output_type": "stream",
     "text": [
      "1 2\n"
     ]
    }
   ],
   "source": [
    "def f(a, b):\n",
    "    print(a, b)\n",
    "\n",
    "L = [1, 2]\n",
    "f(*L)"
   ]
  },
  {
   "cell_type": "code",
   "execution_count": 46,
   "metadata": {},
   "outputs": [
    {
     "name": "stdout",
     "output_type": "stream",
     "text": [
      "{'nom': 'Dupond', 'prenom': 'Paul'}\n"
     ]
    }
   ],
   "source": [
    "def f(**d):\n",
    "    print(d)\n",
    "    \n",
    "f(nom=\"Dupond\", prenom=\"Paul\")"
   ]
  },
  {
   "cell_type": "markdown",
   "metadata": {},
   "source": [
    "### Named arguments\n",
    "When you call the function, you can pass the arguments in the order you want, **if you name them**:\n",
    "\n",
    "    functionName(nameArgument2=valueArgument2, nameArgument1=valueArgument1)"
   ]
  },
  {
   "cell_type": "markdown",
   "metadata": {},
   "source": [
    "> Warning: In the function call, it is not possible to enter a positional argument after an argument named"
   ]
  },
  {
   "cell_type": "code",
   "execution_count": 47,
   "metadata": {},
   "outputs": [
    {
     "name": "stdout",
     "output_type": "stream",
     "text": [
      "a = 5 b = 1\n",
      "a = 1 b = 5\n"
     ]
    }
   ],
   "source": [
    "def f(a, b):\n",
    "    print(\"a =\", a,\"b =\", b)\n",
    "    \n",
    "f(b=1, a=5)\n",
    "# but\n",
    "f(1, 5)\n",
    "# warning\n",
    "#f(b=1, 5) => SyntaxError: positional argument follows keyword argument"
   ]
  },
  {
   "cell_type": "markdown",
   "metadata": {},
   "source": [
    "### Order of consumption  of arguments\n",
    "The 4 forms of arguments will be summarized, depending on how the arguments of the function have been written and how they are called :\n",
    "1. all \"normal\" arguments, called positional\n",
    "2. form `*args` which catches in a tuple the rest of the positional arguments\n",
    "3. named arguments `name=<value>`\n",
    "4. form `**dargs` which catches in a dictionary the remainder of the named arguments"
   ]
  },
  {
   "cell_type": "code",
   "execution_count": 48,
   "metadata": {},
   "outputs": [],
   "source": [
    "def foo(positionalArg1, namedArg2=100, *tuplePositionalArg, **dictNamedArg):\n",
    "    print(f\"positionalArg1={positionalArg1}, namedArg2={namedArg2}, *tuplePositionalArg={tuplePositionalArg}, **dictNamedArg={dictNamedArg}\")"
   ]
  },
  {
   "cell_type": "code",
   "execution_count": 49,
   "metadata": {},
   "outputs": [
    {
     "name": "stdout",
     "output_type": "stream",
     "text": [
      "positionalArg1=1, namedArg2=100, *tuplePositionalArg=(), **dictNamedArg={}\n"
     ]
    }
   ],
   "source": [
    "foo(1)"
   ]
  },
  {
   "cell_type": "code",
   "execution_count": 50,
   "metadata": {},
   "outputs": [
    {
     "name": "stdout",
     "output_type": "stream",
     "text": [
      "positionalArg1=1, namedArg2=2, *tuplePositionalArg=(), **dictNamedArg={}\n"
     ]
    }
   ],
   "source": [
    "foo(1, 2)"
   ]
  },
  {
   "cell_type": "code",
   "execution_count": 51,
   "metadata": {},
   "outputs": [
    {
     "name": "stdout",
     "output_type": "stream",
     "text": [
      "positionalArg1=1, namedArg2=2, *tuplePositionalArg=(3,), **dictNamedArg={}\n"
     ]
    }
   ],
   "source": [
    "foo(1, 2, 3)"
   ]
  },
  {
   "cell_type": "code",
   "execution_count": 52,
   "metadata": {},
   "outputs": [
    {
     "name": "stdout",
     "output_type": "stream",
     "text": [
      "positionalArg1=1, namedArg2=2, *tuplePositionalArg=(3, 4), **dictNamedArg={'arg5': 5, 'arg6': 6}\n"
     ]
    }
   ],
   "source": [
    "foo(1, 2, 3, 4, arg5=5, arg6=6)"
   ]
  },
  {
   "cell_type": "code",
   "execution_count": 53,
   "metadata": {},
   "outputs": [],
   "source": [
    "# More logical approach : all the positional then all the named\n",
    "def bar(positionalArg1, *tuplePositionalArg, namedArg2=100, **dictNamedArg):\n",
    "        print(f\"positionalArg1={positionalArg1}, namedArg2={namedArg2}, *tuplePositionalArg={tuplePositionalArg}, **dictNamedArg={dictNamedArg}\")"
   ]
  },
  {
   "cell_type": "code",
   "execution_count": 54,
   "metadata": {},
   "outputs": [
    {
     "name": "stdout",
     "output_type": "stream",
     "text": [
      "positionalArg1=1, namedArg2=100, *tuplePositionalArg=(), **dictNamedArg={}\n"
     ]
    }
   ],
   "source": [
    "bar(1)"
   ]
  },
  {
   "cell_type": "code",
   "execution_count": 55,
   "metadata": {},
   "outputs": [
    {
     "name": "stdout",
     "output_type": "stream",
     "text": [
      "positionalArg1=1, namedArg2=100, *tuplePositionalArg=(2,), **dictNamedArg={}\n"
     ]
    }
   ],
   "source": [
    "bar(1, 2)"
   ]
  },
  {
   "cell_type": "code",
   "execution_count": 56,
   "metadata": {},
   "outputs": [
    {
     "name": "stdout",
     "output_type": "stream",
     "text": [
      "positionalArg1=1, namedArg2=3, *tuplePositionalArg=(2,), **dictNamedArg={}\n"
     ]
    }
   ],
   "source": [
    "bar(1, 2, namedArg2=3)"
   ]
  },
  {
   "cell_type": "code",
   "execution_count": 57,
   "metadata": {},
   "outputs": [
    {
     "name": "stdout",
     "output_type": "stream",
     "text": [
      "positionalArg1=1, namedArg2=4, *tuplePositionalArg=(2, 3), **dictNamedArg={'namedArg5': 5}\n"
     ]
    }
   ],
   "source": [
    "bar(1, 2, 3, namedArg2=4, namedArg5=5)"
   ]
  },
  {
   "cell_type": "markdown",
   "metadata": {},
   "source": [
    "## Lambda functions\n",
    "\n",
    "Functions that we do not intend to reuse\n",
    "\n",
    "    lambda x: [function of x]\n",
    "You can execute a lambda function on a list of arguments (x) with a **map** and see the results in a list with a **list**:\n",
    "\n",
    "    list(map(lambda x: [function of x], [list of x]))\n",
    "and filter the results with a filter:\n",
    "\n",
    "    list(filter(lambda x: [test on [function of x]], [list of x]))"
   ]
  },
  {
   "cell_type": "code",
   "execution_count": 58,
   "metadata": {},
   "outputs": [
    {
     "data": {
      "text/plain": [
       "[0, 1, 4, 9, 16, 25, 36, 49, 64, 81]"
      ]
     },
     "execution_count": 58,
     "metadata": {},
     "output_type": "execute_result"
    }
   ],
   "source": [
    "list(map(lambda x: x**2, range(10)))"
   ]
  },
  {
   "cell_type": "code",
   "execution_count": 59,
   "metadata": {},
   "outputs": [
    {
     "data": {
      "text/plain": [
       "[0, 2, 4, 6, 8]"
      ]
     },
     "execution_count": 59,
     "metadata": {},
     "output_type": "execute_result"
    }
   ],
   "source": [
    "list(filter(lambda x: x % 2 == 0, range(10)))"
   ]
  },
  {
   "cell_type": "code",
   "execution_count": 60,
   "metadata": {},
   "outputs": [
    {
     "data": {
      "text/plain": [
       "[0, 4, 16, 36, 64]"
      ]
     },
     "execution_count": 60,
     "metadata": {},
     "output_type": "execute_result"
    }
   ],
   "source": [
    "list(map(lambda x: x**2, filter(lambda x: x % 2 == 0, range(10))))"
   ]
  },
  {
   "cell_type": "markdown",
   "metadata": {},
   "source": [
    "## List comprehensions = For on lists\n",
    "\n",
    "We create a list, set or dictionary according to our needs.\n",
    "\n",
    "on **l** a list\n",
    "\n",
    "    comprehesion_l = [ function(i) for i in l if test(i) ]\n",
    "on **s** a set\n",
    "\n",
    "    comprehesion_s = { function(i) for i in s if test(i) }\n",
    "on **d** a dictionary\n",
    "\n",
    "    comprehesion_d = { function(i): j for i,j in d.items() if test(i, j) }"
   ]
  },
  {
   "cell_type": "code",
   "execution_count": 61,
   "metadata": {},
   "outputs": [],
   "source": [
    "a = [1, 4, 6, 9, 13]\n",
    "b = [i**2 for i in a]"
   ]
  },
  {
   "cell_type": "code",
   "execution_count": 62,
   "metadata": {},
   "outputs": [
    {
     "data": {
      "text/plain": [
       "[1, 16, 36, 81, 169]"
      ]
     },
     "execution_count": 62,
     "metadata": {},
     "output_type": "execute_result"
    }
   ],
   "source": [
    "#hide_input\n",
    "b"
   ]
  },
  {
   "cell_type": "code",
   "execution_count": 63,
   "metadata": {},
   "outputs": [],
   "source": [
    "name = ['Alice', 'evE', 'sonia', 'BOB']\n",
    "name = [p.title() for p in name]"
   ]
  },
  {
   "cell_type": "code",
   "execution_count": 64,
   "metadata": {
    "scrolled": true
   },
   "outputs": [
    {
     "name": "stdout",
     "output_type": "stream",
     "text": [
      "['Alice', 'Eve', 'Sonia', 'Bob']\n"
     ]
    }
   ],
   "source": [
    "#hide_input\n",
    "print(name)"
   ]
  },
  {
   "cell_type": "markdown",
   "metadata": {},
   "source": [
    "## Iterator"
   ]
  },
  {
   "cell_type": "markdown",
   "metadata": {},
   "source": [
    "### Generator expression\n",
    "\n",
    "    iterableI = (function(x) for x in list)\n",
    "Simple and compact object that allows to browse an iterable object.\n",
    "\n",
    "The iterable object contains the data, the iterator object contains the mechanism to traverse it.\n",
    "\n",
    "They can be browsed only once. We recognize an iterator because it is its own iterator : \n",
    "\n",
    "    i is iter(i) => True\n",
    "They have two methods:\n",
    "    * __iter()__\n",
    "    * __next()__"
   ]
  },
  {
   "cell_type": "code",
   "execution_count": 65,
   "metadata": {},
   "outputs": [],
   "source": [
    "# list (reusable)\n",
    "square = [x**2 for x in range(1_000)]"
   ]
  },
  {
   "cell_type": "code",
   "execution_count": 66,
   "metadata": {},
   "outputs": [
    {
     "name": "stdout",
     "output_type": "stream",
     "text": [
      "227 µs ± 12.2 µs per loop (mean ± std. dev. of 7 runs, 1000 loops each)\n"
     ]
    }
   ],
   "source": [
    "#hide_input\n",
    "%timeit [x**2 for x in range(1_000)]"
   ]
  },
  {
   "cell_type": "code",
   "execution_count": 67,
   "metadata": {},
   "outputs": [],
   "source": [
    "# iterator (more fast to build)\n",
    "square2 = (x**2 for x in range(1_000))"
   ]
  },
  {
   "cell_type": "code",
   "execution_count": 68,
   "metadata": {},
   "outputs": [
    {
     "name": "stdout",
     "output_type": "stream",
     "text": [
      "515 ns ± 38.4 ns per loop (mean ± std. dev. of 7 runs, 1000000 loops each)\n"
     ]
    }
   ],
   "source": [
    "#hide_input\n",
    "%timeit (x**2 for x in range(1_000))"
   ]
  },
  {
   "cell_type": "code",
   "execution_count": 69,
   "metadata": {
    "scrolled": true
   },
   "outputs": [
    {
     "data": {
      "text/plain": [
       "[0,\n",
       " 1,\n",
       " 4,\n",
       " 9,\n",
       " 121,\n",
       " 484,\n",
       " 676,\n",
       " 10201,\n",
       " 12321,\n",
       " 14641,\n",
       " 40804,\n",
       " 44944,\n",
       " 69696,\n",
       " 94249,\n",
       " 698896]"
      ]
     },
     "execution_count": 69,
     "metadata": {},
     "output_type": "execute_result"
    }
   ],
   "source": [
    "palindrome = (x for x in square2 if str(x) == str(x)[::-1])\n",
    "list(palindrome)"
   ]
  },
  {
   "cell_type": "code",
   "execution_count": 70,
   "metadata": {},
   "outputs": [],
   "source": [
    "generator = (x**2 for x in range(10**18) if x%17==0) \n",
    "recherche = set()\n",
    "for x in generator:\n",
    "    if x > 10**10:\n",
    "        break\n",
    "    elif str(x)[-4:] == '1316':   # with a generator, you only pay for what you use\n",
    "        recherche.add(x)"
   ]
  },
  {
   "cell_type": "code",
   "execution_count": 71,
   "metadata": {},
   "outputs": [
    {
     "name": "stdout",
     "output_type": "stream",
     "text": [
      "{617721316, 4536561316, 3617541316, 311381316}\n"
     ]
    }
   ],
   "source": [
    "#hide_input\n",
    "print(recherche)"
   ]
  },
  {
   "cell_type": "markdown",
   "metadata": {},
   "source": [
    "### Generator function\n",
    "    def functionName (arguments):\n",
    "        instructions\n",
    "        yield valueReturn\n",
    "Function that returns an iterable so no memory space is used"
   ]
  },
  {
   "cell_type": "code",
   "execution_count": 72,
   "metadata": {},
   "outputs": [],
   "source": [
    "def gen(it):\n",
    "    for i in it:\n",
    "        if isinstance(i, int):\n",
    "            yield i**2\n",
    "        else:\n",
    "            yield 'nan'\n",
    "            \n",
    "L = [1, 2, 0, '18', 'x', [11], 25]"
   ]
  },
  {
   "cell_type": "code",
   "execution_count": 73,
   "metadata": {},
   "outputs": [
    {
     "name": "stdout",
     "output_type": "stream",
     "text": [
      "[1, 4, 0, 'nan', 'nan', 'nan', 625]\n"
     ]
    }
   ],
   "source": [
    "#hide_input\n",
    "print(list(gen(L)))"
   ]
  },
  {
   "cell_type": "markdown",
   "metadata": {},
   "source": [
    "## Modules and packages\n",
    "A module is a Python file (.py), a package is a set of Python files (+ __init__.py).\n",
    "\n",
    "The namespace is an attribute of the module.\n",
    "\n",
    "Packages and modules are imported in the same way at the top of NoteBook\n",
    "\n",
    "    import moduleName as md\n",
    "    import packageName as pk\n",
    "    \n",
    "    md.variableName\n",
    "    md.functionName\n",
    "    md.className\n",
    "    pk.filename.variableName\n",
    "    \n",
    "    => perfect isolation of namespaces\n",
    "    \n",
    "    \n",
    "Import with from (more complex) :\n",
    "\n",
    "    from nomModule import nomVariable\n",
    "    \n",
    "    => risk of collision between the local variable nameVariable and the imported one\n",
    "    => no access to other attributes of moduleName"
   ]
  },
  {
   "cell_type": "markdown",
   "metadata": {},
   "source": [
    "### Package random\n",
    "\n",
    "|Method|Use|\n",
    "|-|-|\n",
    "|random.random()|a float between 0 and 1 (1 not included)|\n",
    "|random.uniform(a, b)|a float between a and b (b not included)|\n",
    "|random.randint(a, b)|an integer between a and b (included)|random.gauss(average)\n"
   ]
  },
  {
   "cell_type": "code",
   "execution_count": 74,
   "metadata": {},
   "outputs": [
    {
     "name": "stdout",
     "output_type": "stream",
     "text": [
      "0.11548597942353367\n",
      "1.134093036662287\n",
      "3\n"
     ]
    }
   ],
   "source": [
    "import random\n",
    "print(random.random())\n",
    "print(random.uniform(1,2))\n",
    "print(random.randint(1,3))"
   ]
  },
  {
   "cell_type": "code",
   "execution_count": 75,
   "metadata": {
    "scrolled": true
   },
   "outputs": [
    {
     "data": {
      "text/plain": [
       "[932, 62, 122, 223, 623, 970, 217, 261, 535, 156]"
      ]
     },
     "execution_count": 75,
     "metadata": {},
     "output_type": "execute_result"
    }
   ],
   "source": [
    "import random\n",
    "population = range(1000) \n",
    "\n",
    "# Number of tickets desired \n",
    "N = 10\n",
    "random.sample(population,N)"
   ]
  },
  {
   "cell_type": "code",
   "execution_count": 76,
   "metadata": {},
   "outputs": [],
   "source": [
    "def div(a,b):\n",
    "    try:\n",
    "        print(a/b)\n",
    "    except ZeroDivisionError:\n",
    "        print(\"oops, division by 0\")\n",
    "    except TypeError:\n",
    "        print(\"oops, integers needed\")"
   ]
  },
  {
   "cell_type": "code",
   "execution_count": 77,
   "metadata": {},
   "outputs": [
    {
     "name": "stdout",
     "output_type": "stream",
     "text": [
      "2.5\n"
     ]
    }
   ],
   "source": [
    "div(5,2)"
   ]
  },
  {
   "cell_type": "code",
   "execution_count": 78,
   "metadata": {},
   "outputs": [
    {
     "name": "stdout",
     "output_type": "stream",
     "text": [
      "oops, division by 0\n"
     ]
    }
   ],
   "source": [
    "div(5,0)"
   ]
  },
  {
   "cell_type": "code",
   "execution_count": 79,
   "metadata": {},
   "outputs": [
    {
     "name": "stdout",
     "output_type": "stream",
     "text": [
      "oops, integers needed\n"
     ]
    }
   ],
   "source": [
    "div(\"cinq\",2)"
   ]
  },
  {
   "cell_type": "markdown",
   "metadata": {},
   "source": [
    "## Exceptions\n",
    "\n",
    "    try:\n",
    "        expression0\n",
    "    except nomException1:\n",
    "        expression1\n",
    "    except nomException2:\n",
    "        expression2\n",
    "    else:               # on passe si aucune exception est attrapée (on n'y passe pas s'il y a un return avant)\n",
    "        expression3\n",
    "    finally:            # on passe dans le finally même s'il y a un return avant\n",
    "        expression4\n"
   ]
  },
  {
   "cell_type": "markdown",
   "metadata": {},
   "source": [
    "## Mistrust on the floats"
   ]
  },
  {
   "cell_type": "code",
   "execution_count": 80,
   "metadata": {},
   "outputs": [
    {
     "data": {
      "text/plain": [
       "0.19999999999999998"
      ]
     },
     "execution_count": 80,
     "metadata": {},
     "output_type": "execute_result"
    }
   ],
   "source": [
    "0.3 - 0.1"
   ]
  },
  {
   "cell_type": "code",
   "execution_count": 81,
   "metadata": {},
   "outputs": [
    {
     "data": {
      "text/plain": [
       "False"
      ]
     },
     "execution_count": 81,
     "metadata": {},
     "output_type": "execute_result"
    }
   ],
   "source": [
    "0.3 - 0.1 == 0.2"
   ]
  },
  {
   "cell_type": "code",
   "execution_count": 82,
   "metadata": {},
   "outputs": [
    {
     "data": {
      "text/plain": [
       "True"
      ]
     },
     "execution_count": 82,
     "metadata": {},
     "output_type": "execute_result"
    }
   ],
   "source": [
    "# the decimal module allows to solve rounding problems, but it is a bit greedy\n",
    "from decimal import Decimal\n",
    "\n",
    "Decimal('0.3') - Decimal('0.1') == Decimal('0.2')"
   ]
  },
  {
   "cell_type": "code",
   "execution_count": 83,
   "metadata": {},
   "outputs": [
    {
     "data": {
      "text/plain": [
       "True"
      ]
     },
     "execution_count": 83,
     "metadata": {},
     "output_type": "execute_result"
    }
   ],
   "source": [
    "# the fractions module defines the Fraction symbol\n",
    "from fractions import Fraction\n",
    "\n",
    "Fraction(3, 10) - Fraction(1, 10) == Fraction(2, 10)"
   ]
  }
 ],
 "metadata": {
  "kernelspec": {
   "display_name": "Python 3",
   "language": "python",
   "name": "python3"
  },
  "language_info": {
   "codemirror_mode": {
    "name": "ipython",
    "version": 3
   },
   "file_extension": ".py",
   "mimetype": "text/x-python",
   "name": "python",
   "nbconvert_exporter": "python",
   "pygments_lexer": "ipython3",
   "version": "3.8.3"
  },
  "varInspector": {
   "cols": {
    "lenName": 16,
    "lenType": 16,
    "lenVar": 40
   },
   "kernels_config": {
    "python": {
     "delete_cmd_postfix": "",
     "delete_cmd_prefix": "del ",
     "library": "var_list.py",
     "varRefreshCmd": "print(var_dic_list())"
    },
    "r": {
     "delete_cmd_postfix": ") ",
     "delete_cmd_prefix": "rm(",
     "library": "var_list.r",
     "varRefreshCmd": "cat(var_dic_list()) "
    }
   },
   "types_to_exclude": [
    "module",
    "function",
    "builtin_function_or_method",
    "instance",
    "_Feature"
   ],
   "window_display": false
  }
 },
 "nbformat": 4,
 "nbformat_minor": 4
}
