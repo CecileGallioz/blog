{
 "cells": [
  {
   "cell_type": "markdown",
   "metadata": {},
   "source": [
    "# Simple reminder on Python\n",
    "> A list of definitions and memory aids for data and functions \n",
    "\n",
    "- toc: false \n",
    "- badges: false\n",
    "- comments: true\n",
    "- author: Cécile Gallioz and FunMooc and OpenClassRooms\n",
    "- categories: [python]"
   ]
  },
  {
   "cell_type": "markdown",
   "metadata": {},
   "source": [
    "## Types of data\n",
    "\n",
    "|Type|Example|Immutable?|Singleton?|Accuracy|\n",
    "|-|-|-|-|-|\n",
    "|**Integer**|**1**|immuable|singleton possible|no loss of accuracy|\n",
    "|**Boolean**|**True ou False**|immuable|singleton possible|no loss of accuracy|\n",
    "|**Float**|**1.2**|immuable|singleton possible|possible loss of accuracy|\n",
    "|**Complex**|**1+2j**|immuable|singleton possible|possible loss of accuracy|\n",
    "|**String**|**\"blah\"** or **'blah'**|immuable|singleton possible|\n",
    "|**Tuple**|**( ,)** or **( , ,)** or **,**|immuable|singleton possible|\n",
    "|||||||\n",
    "|**List**|**[  ,  ]**|mutable||stores only the references|\n",
    "|**Dictionary**|**{ : ,  : }**|mutable||unordered and unchangeable keys : values|\n",
    "|**Set**|**{ ,  }**|mutable||unordered and unique immutable keys|\n"
   ]
  },
  {
   "cell_type": "markdown",
   "metadata": {},
   "source": [
    "## Mathematical operators\n",
    "\n",
    "|Operator|Name|Notes|\n",
    "|-|-|-|\n",
    "|**%**|Modulo|Subtract from division|\n",
    "|**//**|Whole division|Rounded down|\n",
    "|** |Power|idem pow(a,b)|"
   ]
  }
 ],
 "metadata": {
  "kernelspec": {
   "display_name": "Python 3",
   "language": "python",
   "name": "python3"
  },
  "language_info": {
   "codemirror_mode": {
    "name": "ipython",
    "version": 3
   },
   "file_extension": ".py",
   "mimetype": "text/x-python",
   "name": "python",
   "nbconvert_exporter": "python",
   "pygments_lexer": "ipython3",
   "version": "3.8.3"
  },
  "varInspector": {
   "cols": {
    "lenName": 16,
    "lenType": 16,
    "lenVar": 40
   },
   "kernels_config": {
    "python": {
     "delete_cmd_postfix": "",
     "delete_cmd_prefix": "del ",
     "library": "var_list.py",
     "varRefreshCmd": "print(var_dic_list())"
    },
    "r": {
     "delete_cmd_postfix": ") ",
     "delete_cmd_prefix": "rm(",
     "library": "var_list.r",
     "varRefreshCmd": "cat(var_dic_list()) "
    }
   },
   "types_to_exclude": [
    "module",
    "function",
    "builtin_function_or_method",
    "instance",
    "_Feature"
   ],
   "window_display": false
  }
 },
 "nbformat": 4,
 "nbformat_minor": 4
}
