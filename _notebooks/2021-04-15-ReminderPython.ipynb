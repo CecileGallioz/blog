{
 "cells": [
  {
   "cell_type": "markdown",
   "metadata": {},
   "source": [
    "# My reminder on Python\n",
    "> A list of definitions and memory aids for data and functions \n",
    "\n",
    "- toc: false \n",
    "- badges: false\n",
    "- comments: false\n",
    "- author: Cécile Gallioz\n",
    "- categories: [python]"
   ]
  },
  {
   "cell_type": "markdown",
   "metadata": {},
   "source": [
    "## Useful information\n",
    "\n",
    "- Variables are not typed, while objects are. \n",
    "\n",
    "\n",
    "- Variables address objects (strong typing).\n",
    "\n",
    "\n",
    "- Variable names are best in camelCase (first letter in lower case and no numbers in first) and as meaningful as possible.\n",
    "\n",
    "\n",
    "- In Python to identify a block of instructions, you need an identation of 4 spaces and not a tab\n",
    "\n",
    "\n",
    "- Small immutable objects are sometimes stored as singletons (only one possible occurrence)"
   ]
  },
  {
   "cell_type": "markdown",
   "metadata": {},
   "source": [
    "## Types of data\n",
    "\n",
    "|Type|Example|Immutable?|Singleton?|Notes|\n",
    "|-|-|-|-|-|\n",
    "|**Integer**|**1**|Immutable|Possible|No loss of accuracy|\n",
    "|**Boolean**|**True ou False**|Immutable|Possible|No loss of accuracy|\n",
    "|**Float**|**1.2**|Immutable|Possible|Possible loss of accuracy|\n",
    "|**Complex**|**1+2j**|Immutable|Possible|Possible loss of accuracy|\n",
    "|**String**|**\"blah\"** or **'blah'**|Immutable|Possible||\n",
    "|**Tuple**|**( ,)** or **( , ,)** or **,**|Immutable|Possible||\n",
    "||||||\n",
    "|**List**|**[  ,  ]**|Mutable||Stores only the references|\n",
    "|**Dictionary**|**{ : ,  : }**|Mutable||Unordered and unchangeable keys/values|\n",
    "|**Set**|**{ ,  }**|Mutable||Unordered and unique immutable keys|\n"
   ]
  },
  {
   "cell_type": "markdown",
   "metadata": {},
   "source": [
    "## Operators\n",
    "\n",
    "|Operator|Name|Notes|||\n",
    "|-|-|-|-|-|\n",
    "|**=**|Opérateur d'affectation||||\n",
    "|**#**|Comments||||\n",
    "||||||\n",
    "|**+**|Addition *or* concatenation|Int + Int = Int|**Int + Float = Float**|Text + Text = Text|\n",
    "|**-**|Subtraction|Int - Int = Int|Int - Float = Float||\n",
    "|* |Multiplication|Int * Int = Int|Int * Float = Float||\n",
    "|**/**|Division|**Int / Int = Float**|Int / Float = Float||\n",
    "||||||\n",
    "|**%**|Modulo|Subtract from division|||\n",
    "|**//**|Whole division|Rounded down|||\n",
    "|** |Power|idem pow(a,b)|||\n",
    "||||||\n",
    "|**str()**|Cast in String|str(Int) = String|||\n",
    "|**int()**|Cast in Int|int(Float) = Int|||\n",
    "|**float()**|Cast in Float|float(Int) = Float|||\n",
    "||||||\n",
    "|+=|Simultaneous addition and affection||||\n",
    "|-=|Simultaneous subtraction and affection||||\n",
    "|\\*\\=|Simultaneous multiplication and affection||||\n",
    "|/=|Simultaneous division and affection||||"
   ]
  },
  {
   "cell_type": "markdown",
   "metadata": {},
   "source": [
    "## f string give a string using variables\n",
    "\n",
    "    f\"blah-blah-blah {function1(variable1)} blah-blah-blah {function2(variable2)} blah-blah-blah\""
   ]
  },
  {
   "cell_type": "code",
   "execution_count": 1,
   "metadata": {},
   "outputs": [
    {
     "data": {
      "text/plain": [
       "'In 10 year(s), Paul will be 55 year(s) old.'"
      ]
     },
     "execution_count": 1,
     "metadata": {},
     "output_type": "execute_result"
    }
   ],
   "source": [
    "age = 45\n",
    "name = \"Paul\"\n",
    "gap = 10\n",
    "f\"In {gap} year(s), {name} will be {age + gap} year(s) old.\""
   ]
  },
  {
   "cell_type": "markdown",
   "metadata": {},
   "source": [
    "## List (mutable)\n",
    "\n",
    "    nameList = [\"String\", number, otherList, variable]\n",
    "\n",
    "The list does not store the objects but only the reference to the object. Its size will not vary according to the size of the referenced objects.\n",
    "\n",
    "The index starts at 0. \n",
    "\n",
    "Unlike text, they are modified by their methods => they are mutable."
   ]
  },
  {
   "cell_type": "markdown",
   "metadata": {},
   "source": [
    "|Order|Description|\n",
    "|-|-|\n",
    "|myList.**index**(element)|Returns the index of the element|\n",
    "|||\n",
    "|**print**(myList)|Displays the entire list|\n",
    "|**len**(myList)|Returns the length of a list|\n",
    "|myList.**sort**()|Changes myList into a sorted list instead|\n",
    "|**sorted**(myList)|Copy and sort myList|\n",
    "|||\n",
    "|myList.**append**(element)|Adds the element to the end of the list|\n",
    "|myList.**insert**(index, element)|Add the element to the specified index and move the following elements by one index|\n",
    "|myList.**extend**([otherList])|Add the list otherList to the end of the first one (myList)\n",
    "|||\n",
    "|myList.**pop**(index)|Delete and display the element with the index as argument or the last one|\n",
    "|maListe.**remove**(element)|Deletes the first occurrence of an element|\n",
    "|**del** myList[index]|Deletes the element at the specified index|\n",
    "|||\n",
    "|myList[1]|Accesses the 2nd element of the list|\n",
    "|myList[-1]|Go to the last element of the list|\n",
    "|myList[1:3]|Accesses the 2nd and 3rd elements of the list|\n",
    "|||\n",
    "|\" \".join(myList)|Transforms a list into a character string according to the space separator, which is the opposite of split()|\n",
    "|||\n",
    "|random.choice(myList)|choose an element from the list|\n",
    "|random.choices(myList,3)|choose 3 elements in the list with throw-in|\n",
    "|random.sample(myList,3)|choose 3 elements from the list without throw-in|"
   ]
  },
  {
   "cell_type": "code",
   "execution_count": 21,
   "metadata": {},
   "outputs": [
    {
     "name": "stdout",
     "output_type": "stream",
     "text": [
      "myList[1] = 5\n",
      "sum(myList) = 81\n",
      "max(myList) = 45\n"
     ]
    }
   ],
   "source": [
    "myList = [8, 5, 12, 4, 45, 7]\n",
    "\n",
    "print('myList[1] =',myList[1])\n",
    "print('sum(myList) =', sum(myList))\n",
    "print('max(myList) =', max(myList))"
   ]
  },
  {
   "cell_type": "code",
   "execution_count": 16,
   "metadata": {},
   "outputs": [
    {
     "name": "stdout",
     "output_type": "stream",
     "text": [
      "myList = [0, 1]\n"
     ]
    }
   ],
   "source": [
    "myList = list(range(2))\n",
    "#hide\n",
    "print('myList =',myList)"
   ]
  },
  {
   "cell_type": "code",
   "execution_count": 17,
   "metadata": {},
   "outputs": [
    {
     "name": "stdout",
     "output_type": "stream",
     "text": [
      "myList = [0, 1, 2]\n"
     ]
    }
   ],
   "source": [
    "myList.append(2)\n",
    "#hide\n",
    "print('myList =',myList)"
   ]
  },
  {
   "cell_type": "code",
   "execution_count": 18,
   "metadata": {},
   "outputs": [
    {
     "name": "stdout",
     "output_type": "stream",
     "text": [
      "myList = [0, 'one half', 1, 2]\n"
     ]
    }
   ],
   "source": [
    "myList.insert(1,\"one half\")\n",
    "#hide\n",
    "print('myList =',myList)"
   ]
  },
  {
   "cell_type": "code",
   "execution_count": 19,
   "metadata": {},
   "outputs": [
    {
     "name": "stdout",
     "output_type": "stream",
     "text": [
      "myList = [0, 1, 2, 3, 4, 5, 6, 7]\n"
     ]
    }
   ],
   "source": [
    "myList = [3, 5, 7, 6, 4, 1, 0, 2]\n",
    "\n",
    "myList.sort()\n",
    "#hide\n",
    "print('myList =',myList)"
   ]
  },
  {
   "cell_type": "markdown",
   "metadata": {},
   "source": [
    "## Tuple (immutable)\n",
    "\n",
    "           (element,) \n",
    "        or  element, \n",
    "        => tuple singleton\n",
    "        \n",
    "           (element, element) \n",
    "        or (element, element,)    <= for writing long tuples on several lines\n",
    "        or  element, element      <= for tuple unpacking\n",
    "        or  element, element,\n",
    "        => multiple tuple\n",
    "        \n",
    "These are sequence objects. \n",
    "\n",
    "They have the same properties as lists except that they are **immutable** => **once created they cannot be modified.**"
   ]
  },
  {
   "cell_type": "code",
   "execution_count": 7,
   "metadata": {
    "scrolled": true
   },
   "outputs": [
    {
     "name": "stdout",
     "output_type": "stream",
     "text": [
      "a = 3\n",
      "b = 4\n"
     ]
    }
   ],
   "source": [
    "#tuple unpacking\n",
    "(a, b) = [3, 4]\n",
    "print(\"a =\",a)\n",
    "print(\"b =\", b)"
   ]
  },
  {
   "cell_type": "code",
   "execution_count": 8,
   "metadata": {},
   "outputs": [
    {
     "name": "stdout",
     "output_type": "stream",
     "text": [
      "a = 4\n",
      "b = 3\n"
     ]
    }
   ],
   "source": [
    "a, b = b, a\n",
    "print(\"a =\", a)\n",
    "print(\"b =\", b)"
   ]
  },
  {
   "cell_type": "code",
   "execution_count": 9,
   "metadata": {},
   "outputs": [
    {
     "name": "stdout",
     "output_type": "stream",
     "text": [
      "x = 0\n",
      "y = 9\n"
     ]
    }
   ],
   "source": [
    "e = list(range(10))\n",
    "\n",
    "# tuple unpacking : we use the tuple notation to cut a sequence\n",
    "# with the * we indicate that the length is unknown\n",
    "# with the _ or \"ignored\" we indicate that we are not interested in the content of this variable\n",
    "x, *_, y = e\n",
    "\n",
    "print(\"x =\",x)\n",
    "print(\"y =\",y)"
   ]
  },
  {
   "cell_type": "markdown",
   "metadata": {},
   "source": [
    "## Dictionarie (mutable - immutable keys)\n",
    "\n",
    "    myDictionary = {key1:value1, key2:value2}"
   ]
  },
  {
   "cell_type": "code",
   "execution_count": null,
   "metadata": {},
   "outputs": [],
   "source": []
  }
 ],
 "metadata": {
  "kernelspec": {
   "display_name": "Python 3",
   "language": "python",
   "name": "python3"
  },
  "language_info": {
   "codemirror_mode": {
    "name": "ipython",
    "version": 3
   },
   "file_extension": ".py",
   "mimetype": "text/x-python",
   "name": "python",
   "nbconvert_exporter": "python",
   "pygments_lexer": "ipython3",
   "version": "3.8.3"
  },
  "varInspector": {
   "cols": {
    "lenName": 16,
    "lenType": 16,
    "lenVar": 40
   },
   "kernels_config": {
    "python": {
     "delete_cmd_postfix": "",
     "delete_cmd_prefix": "del ",
     "library": "var_list.py",
     "varRefreshCmd": "print(var_dic_list())"
    },
    "r": {
     "delete_cmd_postfix": ") ",
     "delete_cmd_prefix": "rm(",
     "library": "var_list.r",
     "varRefreshCmd": "cat(var_dic_list()) "
    }
   },
   "types_to_exclude": [
    "module",
    "function",
    "builtin_function_or_method",
    "instance",
    "_Feature"
   ],
   "window_display": false
  }
 },
 "nbformat": 4,
 "nbformat_minor": 4
}
